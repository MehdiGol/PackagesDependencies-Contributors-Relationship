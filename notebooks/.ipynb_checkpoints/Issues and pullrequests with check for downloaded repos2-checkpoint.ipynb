{
 "cells": [
  {
   "cell_type": "code",
   "execution_count": 1,
   "metadata": {
    "scrolled": true
   },
   "outputs": [],
   "source": [
    "import pandas\n",
    "import matplotlib\n",
    "import requests\n",
    "import warnings\n",
    "\n",
    "import sys\n",
    "sys.path.append('..')\n",
    "\n",
    "from helper import load_data , load_repo , GIT_API\n",
    "warnings.filterwarnings('ignore')\n",
    "\n",
    "%matplotlib inline\n",
    "\n",
    "import os\n",
    "import json\n",
    "import time"
   ]
  },
  {
   "cell_type": "code",
   "execution_count": 2,
   "metadata": {},
   "outputs": [],
   "source": [
    "json_store_dir = '..'+os.sep+'data'+os.sep+'json'"
   ]
  },
  {
   "cell_type": "code",
   "execution_count": 3,
   "metadata": {},
   "outputs": [],
   "source": [
    "testrepo = 'https://github.com/rust-lang/cargo'\n",
    "\n",
    "ISSUE = 'issue'\n",
    "PULL = 'pull'\n",
    "\n",
    "time_sleep = 0.1\n",
    "\n",
    "OPEN = 'open'\n",
    "CLOSED = 'closed'"
   ]
  },
  {
   "cell_type": "code",
   "execution_count": 4,
   "metadata": {},
   "outputs": [],
   "source": [
    "# this function extracts number of open and closed issues of passed repository\n",
    "def get_open_closed_issues(repo):\n",
    "    add = repo + '/issues'\n",
    "    time.sleep(time_sleep)\n",
    "    req = requests.get(add)\n",
    "    data = req.text\n",
    "    \n",
    "    try:\n",
    "        open_issues = int(data.split('<svg class=\"octicon octicon-issue-opened\"')[2].split('Open')[0].split('</svg>')[1].strip().replace(\",\",\"\"))\n",
    "        closed_issues = int(data.split('<svg class=\"octicon octicon-check\"')[1].split('Closed')[0].split('</svg>')[1].strip().replace(\",\",\"\"))\n",
    "    except:\n",
    "        open_issues = 0\n",
    "        closed_issues = 0\n",
    "        \n",
    "    return open_issues, closed_issues"
   ]
  },
  {
   "cell_type": "code",
   "execution_count": 5,
   "metadata": {},
   "outputs": [],
   "source": [
    "#this function fetches comment of issues and returns a dataframe of comments\n",
    "def get_comments(repo,issue_id,is_pull_issue,is_open):\n",
    "    df = pandas.DataFrame(columns=[\"project_name\",\"issue_number\",\"comment_id\",\"user_login\",\"created_at\",\"updated_at\",\"author_assoc\",\"is_open\"])\n",
    "    \n",
    "    repo_parts = repo.split('/')\n",
    "    repo_full = repo_parts[-2]+'/'+repo_parts[-1]\n",
    "    \n",
    "    if is_pull_issue==ISSUE:\n",
    "        par_folder = json_store_dir+os.sep+'issue_comments'+os.sep+repo_full.replace('/',os.sep)\n",
    "        json_store_location = par_folder+os.sep+str(issue_id)+'.json'\n",
    "    elif is_pull_issue==PULL:\n",
    "        par_folder = json_store_dir+os.sep+'pull_comments'+os.sep+repo_full.replace('/',os.sep)\n",
    "        json_store_location = par_folder+os.sep+str(issue_id)+'.json'\n",
    "        \n",
    "    if os.path.exists(json_store_location):\n",
    "        with open(json_store_location) as f:\n",
    "            comments = json.load(f)\n",
    "    else:\n",
    "        issue_comment = 'https://api.github.com/repos/{}/{}/issues/{}/comments?client_id={}&client_secret={}'.format(\n",
    "                repo.split('/')[3] ,\n",
    "                repo.split('/')[4] ,\n",
    "                issue_id,\n",
    "                GIT_API[4].split(':')[0] , GIT_API[4].split(':')[1])\n",
    "        \n",
    "        print(issue_comment)\n",
    "        time.sleep(time_sleep)\n",
    "        req = requests.get(issue_comment)\n",
    "        comments = req.json()\n",
    "        print(req.headers['X-RateLimit-Remaining'])\n",
    "        if not os.path.exists(par_folder):\n",
    "            os.makedirs(par_folder)\n",
    "        with open(json_store_location, 'w') as outfile:\n",
    "            json.dump(comments, outfile)\n",
    "            \n",
    "    for comment in comments:\n",
    "        df = df.append({\n",
    "            \"project_name\": repo,\n",
    "            \"issue_number\": issue_id,\n",
    "            \"comment_id\": comment['id'],\n",
    "            \"user_login\": comment['user']['login'] if comment['user'] else 'null',\n",
    "            \"created_at\": comment['created_at'],\n",
    "            \"updated_at\": comment['updated_at'],\n",
    "            \"author_assoc\": comment['author_association'],\n",
    "            \"is_open\": 1 if is_open else 0 },ignore_index=True)\n",
    "    return df"
   ]
  },
  {
   "cell_type": "code",
   "execution_count": 6,
   "metadata": {},
   "outputs": [],
   "source": [
    "# this function extracts number of open and closed pull requests of passed repository\n",
    "def get_open_closed_pulls(repo):\n",
    "    add = repo + '/pulls'\n",
    "    time.sleep(time_sleep)\n",
    "    req = requests.get(add)\n",
    "    data = req.text\n",
    "    \n",
    "    try:\n",
    "        open_pulls = int(data.split('<svg class=\"octicon octicon-git-pull-request\"')[2].split('Open')[0].split('</svg>')[1].strip().replace(\",\",\"\"))\n",
    "        closed_pulls = int(data.split('<svg class=\"octicon octicon-check\"')[1].split('Closed')[0].split('</svg>')[1].strip().replace(\",\",\"\"))\n",
    "    except:\n",
    "        open_pulls = 0\n",
    "        closed_pulls = 0\n",
    "        \n",
    "    return open_pulls, closed_pulls"
   ]
  },
  {
   "cell_type": "code",
   "execution_count": 7,
   "metadata": {},
   "outputs": [],
   "source": [
    "#this function fetches review comment of pull request and returns a dataframe of review comments\n",
    "def get_pull_comments(repo,pr_id,is_open):\n",
    "    df = pandas.DataFrame(columns=[\"project_name\",\n",
    "                                   \"pr_id\",\n",
    "                                   \"pr_review_id\",\n",
    "                                   \"comment_id\",\n",
    "                                   \"commit_id\",\n",
    "                                   \"original_commit_id\",\n",
    "                                   \"user_login\",\n",
    "                                   \"created_at\",\n",
    "                                   \"updated_at\",\n",
    "                                   \"author_assoc\",\n",
    "                                   \"is_open\"])\n",
    "    \n",
    "    repo_parts = repo.split('/')\n",
    "    repo_full = repo_parts[-2]+'/'+repo_parts[-1]\n",
    "    \n",
    "    par_folder = json_store_dir+os.sep+'code_review_comments'+os.sep+repo_full.replace('/',os.sep)\n",
    "    json_store_location = par_folder+os.sep+str(pr_id)+'.json'\n",
    "        \n",
    "    if os.path.exists(json_store_location):\n",
    "        with open(json_store_location) as f:\n",
    "            comments = json.load(f)\n",
    "    else:\n",
    "        pr_comment = 'https://api.github.com/repos/{}/{}/pulls/{}/comments?client_id={}&client_secret={}'.format(\n",
    "                repo.split('/')[3] ,\n",
    "                repo.split('/')[4] ,\n",
    "                pr_id,\n",
    "                GIT_API[6].split(':')[0] , GIT_API[6].split(':')[1])\n",
    "        time.sleep(time_sleep)\n",
    "        req = requests.get(pr_comment)\n",
    "        print(req.headers['X-RateLimit-Remaining'])\n",
    "        comments = req.json()\n",
    "        print(pr_comment)\n",
    "        if not os.path.exists(par_folder):\n",
    "            os.makedirs(par_folder)\n",
    "        with open(json_store_location, 'w') as outfile:\n",
    "            json.dump(comments, outfile)\n",
    "        \n",
    "        \n",
    "    for comment in comments:\n",
    "        df = df.append({\n",
    "            \"project_name\": repo,\n",
    "            \"pr_id\": pr_id,\n",
    "            \"pr_review_id\" : comment['pull_request_review_id'],\n",
    "            \"comment_id\": comment['id'],\n",
    "            \"commit_id\" : comment['commit_id'],\n",
    "            \"original_commit_id\" : comment['original_commit_id'],\n",
    "            \"user_login\": comment['user']['login'] if comment['user'] else 'null',\n",
    "            \"created_at\": comment['created_at'],\n",
    "            \"updated_at\": comment['updated_at'],\n",
    "            \"author_assoc\": comment['author_association'],\n",
    "            \"is_open\": 1 if is_open else 0},ignore_index=True)\n",
    "    return df"
   ]
  },
  {
   "cell_type": "markdown",
   "metadata": {},
   "source": [
    "# Dataframes"
   ]
  },
  {
   "cell_type": "code",
   "execution_count": 8,
   "metadata": {},
   "outputs": [],
   "source": [
    "# extracting number of issues and prs for proposed repo\n",
    "open_issue , closed_issue = get_open_closed_issues(testrepo)  \n",
    "open_pr , closed_pr = get_open_closed_pulls(testrepo)  "
   ]
  },
  {
   "cell_type": "markdown",
   "metadata": {},
   "source": [
    "# Open/Closed Issues Comments"
   ]
  },
  {
   "cell_type": "code",
   "execution_count": 9,
   "metadata": {
    "scrolled": true
   },
   "outputs": [],
   "source": [
    "def get_issues_comments(repo,is_open_closed,issues_number):\n",
    "    issue_comments = pandas.DataFrame()\n",
    "    for i in range(1,(issues_number//25)+2):\n",
    "        issues_page_url = repo + ('/issues?page={}&q=is%3Aissue+is%3A'+is_open_closed).format(i)\n",
    "        print(str(i)+ \" -- \"+ issues_page_url)\n",
    "        if repo in prcoessed_addresses.url.unique():\n",
    "            continue\n",
    "        if issues_page_url in prcoessed_addresses.url.unique():\n",
    "            continue\n",
    "            \n",
    "        time.sleep(time_sleep)\n",
    "        req = requests.get(issues_page_url)\n",
    "        data = req.text\n",
    "        issues = data.split('id=\"issue_')\n",
    "        for issue in issues:\n",
    "            if 'DOCTYPE' in issue:\n",
    "                continue\n",
    "            if 'octicon octicon-comment' in issue:\n",
    "                issue_id = issue.split('\"')[0]\n",
    "                issue_comments = issue_comments.append(get_comments(repo,issue_id,ISSUE,is_open_closed),ignore_index=True)\n",
    "        add_address(issues_page_url)\n",
    "    return issue_comments"
   ]
  },
  {
   "cell_type": "markdown",
   "metadata": {},
   "source": [
    "# Open/Closed Pull Request Comments"
   ]
  },
  {
   "cell_type": "code",
   "execution_count": 10,
   "metadata": {
    "scrolled": true
   },
   "outputs": [],
   "source": [
    "def get_pulls_comments(repo,is_open_closed,pulls_number):\n",
    "    pulls_comments = pandas.DataFrame()\n",
    "    pulls_review_comments = pandas.DataFrame()\n",
    "    for i in range(1,(pulls_number//25)+2):\n",
    "        pull_page_url = repo + ('/pulls?page={}&q=is%3Apr+is%3A'+is_open_closed).format(i)\n",
    "        print(str(i) + \" -- \" +pull_page_url)\n",
    "        if repo in prcoessed_addresses.url.unique():\n",
    "            continue\n",
    "        if pull_page_url in prcoessed_addresses.url.unique():\n",
    "            continue\n",
    "        \n",
    "        time.sleep(time_sleep)\n",
    "        req = requests.get(pull_page_url)\n",
    "        data = req.text\n",
    "        issues = data.split('id=\"issue_')\n",
    "        for issue in issues:\n",
    "            if 'DOCTYPE' in issue:\n",
    "                continue\n",
    "            if 'octicon octicon-comment' in issue:\n",
    "                pr_id = issue.split('\"')[0]\n",
    "                pulls_comments = pulls_comments.append(get_comments(repo,pr_id,PULL,is_open_closed),ignore_index=True)\n",
    "                pulls_review_comments = pulls_review_comments.append(get_pull_comments(repo,pr_id,is_open_closed),ignore_index=True)\n",
    "        add_address(pull_page_url)\n",
    "    return pulls_comments, pulls_review_comments\n",
    "                \n",
    "#open_pull_comemnts, open_pr_revs = get_pulls_comments(testrepo,OPEN,open_pr)\n",
    "#open_pr_revs['is_open']=1\n",
    "#open_pull_comemnts['is_open']=1\n",
    "#closed_pull_comemnts, closed_pr_revs = get_pulls_comments(testrepo,CLOSED,closed_pr)\n",
    "#closed_pr_revs['is_open']=0\n",
    "#closed_pull_comemnts['is_open']=0\n",
    "\n",
    "#pr_revs = open_pr_revs.append(closed_pr_revs)\n",
    "#pull_comments = open_pull_comemnts.append(closed_pull_comemnts)"
   ]
  },
  {
   "cell_type": "code",
   "execution_count": 11,
   "metadata": {},
   "outputs": [],
   "source": [
    "try:\n",
    "    prcoessed_addresses = pandas.read_csv('../data/padd.csv')\n",
    "except:\n",
    "    prcoessed_addresses = pandas.DataFrame(columns=[\"url\"])\n",
    "def add_address(add):\n",
    "    global prcoessed_addresses\n",
    "    prcoessed_addresses = prcoessed_addresses.append({\n",
    "            \"url\": add},ignore_index=True)\n",
    "    "
   ]
  },
  {
   "cell_type": "code",
   "execution_count": 12,
   "metadata": {},
   "outputs": [],
   "source": [
    "try:\n",
    "    issue_comments = pandas.read_csv('../data/issue_comments.csv.gz',compression='gzip')\n",
    "except:\n",
    "    issue_comments = pandas.DataFrame()\n",
    "    \n",
    "try:\n",
    "    pulls_comments = pandas.read_csv('../data/pulls_comments.csv.gz',compression='gzip')\n",
    "except:\n",
    "    pulls_comments = pandas.DataFrame()\n",
    "\n",
    "try:\n",
    "    pulls_review_comments = pandas.read_csv('../data/pulls_review_comments.csv.gz',compression='gzip')\n",
    "except:\n",
    "    pulls_review_comments = pandas.DataFrame()"
   ]
  },
  {
   "cell_type": "code",
   "execution_count": 15,
   "metadata": {},
   "outputs": [],
   "source": [
    "selected_repos = pandas.read_csv('../data/to_get_comments.csv')[::-1]"
   ]
  },
  {
   "cell_type": "code",
   "execution_count": null,
   "metadata": {
    "scrolled": true
   },
   "outputs": [
    {
     "name": "stdout",
     "output_type": "stream",
     "text": [
      "https://github.com/kimond/ferris-print\n",
      "open issues : 0\n",
      "closed issues : 0\n",
      "open pulls : 0\n",
      "closed pulls : 2\n",
      "1 -- https://github.com/kimond/ferris-print/issues?page=1&q=is%3Aissue+is%3Aopen\n",
      "1 -- https://github.com/kimond/ferris-print/issues?page=1&q=is%3Aissue+is%3Aclosed\n",
      "1 -- https://github.com/kimond/ferris-print/pulls?page=1&q=is%3Apr+is%3Aopen\n",
      "1 -- https://github.com/kimond/ferris-print/pulls?page=1&q=is%3Apr+is%3Aclosed\n",
      "https://api.github.com/repos/kimond/ferris-print/issues/2/comments?client_id=76997fa7dd9cf9f4872f&client_secret=d8754621a63f1d33d5c0427b2efafb94141b8c70\n",
      "4999\n",
      "4999\n",
      "https://api.github.com/repos/kimond/ferris-print/pulls/2/comments?client_id=093a7ed958a206f60a37&client_secret=3dc925411cdea302056f7d22a5123efe2dbad079\n",
      "https://api.github.com/repos/kimond/ferris-print/issues/1/comments?client_id=76997fa7dd9cf9f4872f&client_secret=d8754621a63f1d33d5c0427b2efafb94141b8c70\n",
      "4998\n",
      "4998\n",
      "https://api.github.com/repos/kimond/ferris-print/pulls/1/comments?client_id=093a7ed958a206f60a37&client_secret=3dc925411cdea302056f7d22a5123efe2dbad079\n",
      "https://github.com/dalance/ptags\n",
      "open issues : 0\n",
      "closed issues : 4\n",
      "open pulls : 0\n",
      "closed pulls : 0\n",
      "1 -- https://github.com/dalance/ptags/issues?page=1&q=is%3Aissue+is%3Aopen\n",
      "1 -- https://github.com/dalance/ptags/issues?page=1&q=is%3Aissue+is%3Aclosed\n",
      "1 -- https://github.com/dalance/ptags/pulls?page=1&q=is%3Apr+is%3Aopen\n",
      "1 -- https://github.com/dalance/ptags/pulls?page=1&q=is%3Apr+is%3Aclosed\n",
      "https://github.com/dherman/winfolder\n",
      "open issues : 0\n",
      "closed issues : 0\n",
      "open pulls : 0\n",
      "closed pulls : 0\n",
      "1 -- https://github.com/dherman/winfolder/issues?page=1&q=is%3Aissue+is%3Aopen\n",
      "1 -- https://github.com/dherman/winfolder/issues?page=1&q=is%3Aissue+is%3Aclosed\n",
      "1 -- https://github.com/dherman/winfolder/pulls?page=1&q=is%3Apr+is%3Aopen\n",
      "1 -- https://github.com/dherman/winfolder/pulls?page=1&q=is%3Apr+is%3Aclosed\n"
     ]
    }
   ],
   "source": [
    "\n",
    "\n",
    "for repo in selected_repos.project_name.unique():\n",
    "    # extracting number of issues and prs for proposed repo\n",
    "    open_issue , closed_issue = get_open_closed_issues(repo)\n",
    "    open_pr , closed_pr = get_open_closed_pulls(repo)\n",
    "    \n",
    "    print(repo )\n",
    "    print(\"open issues : \" + str(open_issue))\n",
    "    print(\"closed issues : \" + str(closed_issue))\n",
    "    print(\"open pulls : \" + str(open_pr))\n",
    "    print(\"closed pulls : \" + str(closed_pr))\n",
    "    \n",
    "    issue_comments = issue_comments.append(get_issues_comments(repo,OPEN,open_issue),ignore_index=True)\n",
    "    issue_comments = issue_comments.append(get_issues_comments(repo,CLOSED,closed_issue),ignore_index=True)\n",
    "    issue_comments.to_csv('../data/issue_comments.csv.gz',compression='gzip')\n",
    "    \n",
    "    pc, prc = get_pulls_comments(repo,OPEN,open_pr)\n",
    "    pulls_comments = pulls_comments.append(pc,ignore_index=True)\n",
    "    pulls_review_comments = pulls_review_comments.append(prc,ignore_index=True)\n",
    "    pc, prc = get_pulls_comments(repo,CLOSED,closed_pr)\n",
    "    pulls_comments = pulls_comments.append(pc,ignore_index=True)\n",
    "    pulls_review_comments = pulls_review_comments.append(prc,ignore_index=True)\n",
    "    pulls_comments.to_csv('../data/pulls_comments.csv.gz',compression='gzip')\n",
    "    pulls_review_comments.to_csv('../data/pulls_review_comments.csv.gz',compression='gzip')\n",
    "    prcoessed_addresses.to_csv('../data/padd.csv')"
   ]
  },
  {
   "cell_type": "code",
   "execution_count": null,
   "metadata": {},
   "outputs": [],
   "source": []
  }
 ],
 "metadata": {
  "kernelspec": {
   "display_name": "Python 3",
   "language": "python",
   "name": "python3"
  },
  "language_info": {
   "codemirror_mode": {
    "name": "ipython",
    "version": 3
   },
   "file_extension": ".py",
   "mimetype": "text/x-python",
   "name": "python",
   "nbconvert_exporter": "python",
   "pygments_lexer": "ipython3",
   "version": "3.6.6"
  }
 },
 "nbformat": 4,
 "nbformat_minor": 2
}
