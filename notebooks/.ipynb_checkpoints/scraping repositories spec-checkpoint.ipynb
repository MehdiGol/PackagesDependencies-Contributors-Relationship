{
 "cells": [
  {
   "cell_type": "markdown",
   "metadata": {},
   "source": [
    "# repo spec scraping"
   ]
  },
  {
   "cell_type": "code",
   "execution_count": 1,
   "metadata": {},
   "outputs": [],
   "source": [
    "import pandas\n",
    "import matplotlib\n",
    "import seaborn\n",
    "import collections\n",
    "import itertools\n",
    "import numpy as np\n",
    "import warnings\n",
    "import subprocess\n",
    "import requests\n",
    "\n",
    "\n",
    "import sys\n",
    "sys.path.append('..')\n",
    "\n",
    "from helper import load_data , load_repo , GIT_API\n",
    "warnings.filterwarnings('ignore')\n",
    "\n",
    "%matplotlib inline"
   ]
  },
  {
   "cell_type": "code",
   "execution_count": null,
   "metadata": {},
   "outputs": [],
   "source": [
    "selected = pandas.read_csv('../data/selected_origins_all.csv')"
   ]
  },
  {
   "cell_type": "code",
   "execution_count": null,
   "metadata": {},
   "outputs": [],
   "source": [
    "import time\n",
    "time_sleep = 0.1\n",
    "def get_open_closed_issues(repo):\n",
    "    add = repo + '/issues'\n",
    "    time.sleep(time_sleep)\n",
    "    req = requests.get(add)\n",
    "    data = req.text\n",
    "    \n",
    "    try:\n",
    "        open_issues = int(data.split('<svg class=\"octicon octicon-issue-opened\"')[2].split('Open')[0].split('</svg>')[1].strip().replace(\",\",\"\"))\n",
    "        closed_issues = int(data.split('<svg class=\"octicon octicon-check\"')[1].split('Closed')[0].split('</svg>')[1].strip().replace(\",\",\"\"))\n",
    "    except:\n",
    "        open_issues = 0\n",
    "        closed_issues = 0\n",
    "\n",
    "    return open_issues, closed_issues\n",
    "\n",
    "def get_open_closed_pulls(repo):\n",
    "    add = repo + '/pulls'\n",
    "    time.sleep(time_sleep)\n",
    "    req = requests.get(add)\n",
    "    data = req.text\n",
    "    \n",
    "    try:\n",
    "        open_issues = int(data.split('<svg class=\"octicon octicon-git-pull-request\"')[2].split('Open')[0].split('</svg>')[1].strip().replace(\",\",\"\"))\n",
    "        closed_issues = int(data.split('<svg class=\"octicon octicon-check\"')[1].split('Closed')[0].split('</svg>')[1].strip().replace(\",\",\"\"))\n",
    "    except:\n",
    "        open_issues = 0\n",
    "        closed_issues = 0\n",
    "    \n",
    "    return open_issues, closed_issues\n",
    "\n",
    "repo = 'https://github.com/servo/servo'\n",
    "\n",
    "\n",
    "def get_specs(repo):\n",
    "    req = requests.get(repo)\n",
    "    data = req.text\n",
    "\n",
    "    commits = data.split('<svg class=\"octicon octicon-history\"')[1].split('</span>')[0].split('<span class=\"num text-emphasized\">')[1].strip().replace(\",\",\"\")\n",
    "    branches = data.split('<svg class=\"octicon octicon-git-branch\"')[1].split('</span>')[0].split('<span class=\"num text-emphasized\">')[1].strip().replace(\",\",\"\")\n",
    "    releases = data.split('<svg class=\"octicon octicon-tag\"')[1].split('</span>')[0].split('<span class=\"num text-emphasized\">')[1].strip().replace(\",\",\"\")\n",
    "    contributers = data.split('<svg class=\"octicon octicon-organization\"')[1].split('</span>')[0].split('<span class=\"num text-emphasized\">')[1].strip().replace(\",\",\"\")\n",
    "\n",
    "    stars = data.split('<svg class=\"octicon octicon-star v-align-text-bottom\"')[1].split('</a>')[1].split('\">')[1].strip().replace(\",\",\"\")\n",
    "    forks = data.split('<svg class=\"octicon octicon-repo-forked v-align-text-bottom\"')[1].split('</a>')[1].split('\">')[1].strip().replace(\",\",\"\")\n",
    "    \n",
    "    open_pulls, closed_pulls = get_open_closed_pulls(repo)\n",
    "    open_issues, closed_issues = get_open_closed_issues(repo)\n",
    "    \n",
    "    row = {\n",
    "            \"project_name\": repo,\n",
    "            \"commits\": commits,\n",
    "            \"open_issues\" : open_issues,\n",
    "            \"closed_issues\": closed_issues,\n",
    "            \"open_pulls\" : open_pulls,\n",
    "            \"closed_pulls\" : closed_pulls,\n",
    "            \"branches\": branches,\n",
    "            \"releases\": releases,\n",
    "            \"contributers\": contributers,\n",
    "            \"stars\": stars,\n",
    "            \"forks\":forks }\n",
    "    return row\n",
    "\n",
    "specs = pandas.DataFrame(columns=[\"project_name\",\"commits\",\"open_issues\",\"closed_issues\",\"open_pulls\",\"closed_pulls\",\"branches\",\"releases\",\"contributers\",\"stars\",\"forks\"])\n",
    "\n",
    "for repo in selected.target_url.unique():\n",
    "    print(repo)\n",
    "    specs = specs.append(get_specs(repo), ignore_index=True)"
   ]
  }
 ],
 "metadata": {
  "kernelspec": {
   "display_name": "Python 3",
   "language": "python",
   "name": "python3"
  },
  "language_info": {
   "codemirror_mode": {
    "name": "ipython",
    "version": 3
   },
   "file_extension": ".py",
   "mimetype": "text/x-python",
   "name": "python",
   "nbconvert_exporter": "python",
   "pygments_lexer": "ipython3",
   "version": "3.6.6"
  }
 },
 "nbformat": 4,
 "nbformat_minor": 2
}
