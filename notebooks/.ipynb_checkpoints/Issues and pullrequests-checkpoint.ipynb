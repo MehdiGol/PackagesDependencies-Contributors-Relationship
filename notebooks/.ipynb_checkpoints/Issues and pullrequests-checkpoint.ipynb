{
 "cells": [
  {
   "cell_type": "code",
   "execution_count": null,
   "metadata": {
    "scrolled": true
   },
   "outputs": [],
   "source": [
    "import pandas\n",
    "import matplotlib\n",
    "import requests\n",
    "import warnings\n",
    "\n",
    "import sys\n",
    "sys.path.append('..')\n",
    "\n",
    "from helper import load_data , load_repo , GIT_API\n",
    "warnings.filterwarnings('ignore')\n",
    "\n",
    "%matplotlib inline"
   ]
  },
  {
   "cell_type": "code",
   "execution_count": null,
   "metadata": {},
   "outputs": [],
   "source": [
    "testrepo = 'https://github.com/rust-lang/cargo'"
   ]
  },
  {
   "cell_type": "code",
   "execution_count": null,
   "metadata": {},
   "outputs": [],
   "source": [
    "# this function extracts number of open and closed issues of passed repository\n",
    "def get_open_closed_issues(repo):\n",
    "    add = repo + '/issues'\n",
    "    req = requests.get(add)\n",
    "    data = req.text\n",
    "    \n",
    "    open_issues = int(data.split('<svg class=\"octicon octicon-issue-opened\"')[2].split('Open')[0].split('</svg>')[1].strip().replace(\",\",\"\"))\n",
    "    closed_issues = int(data.split('<svg class=\"octicon octicon-check\"')[1].split('Closed')[0].split('</svg>')[1].strip().replace(\",\",\"\"))\n",
    "    \n",
    "    return open_issues, closed_issues"
   ]
  },
  {
   "cell_type": "code",
   "execution_count": null,
   "metadata": {},
   "outputs": [],
   "source": [
    "#this function fetches comment of issues and returns a dataframe of comments\n",
    "def get_comments(repo,issue_id):\n",
    "    df = pandas.DataFrame(columns=[\"project_name\",\"issue_number\",\"comment_id\",\"user_login\",\"created_at\",\"updated_at\",\"author_assoc\"])\n",
    "    \n",
    "    issue_comment = 'https://api.github.com/repos/{}/{}/issues/{}/comments?client_id={}&client_secret={}'.format(\n",
    "            repo.split('/')[3] ,\n",
    "            repo.split('/')[4] ,\n",
    "            issue_id,\n",
    "            GIT_API[11].split(':')[0] , GIT_API[11].split(':')[1])\n",
    "    print(issue_comment)\n",
    "    req = requests.get(issue_comment)\n",
    "    comments = req.json()\n",
    "    for comment in comments:\n",
    "        df = df.append({\n",
    "            \"project_name\": repo,\n",
    "            \"issue_number\": issue_id,\n",
    "            \"comment_id\": comment['id'],\n",
    "            \"user_login\": comment['user']['login'],\n",
    "            \"created_at\": comment['created_at'],\n",
    "            \"updated_at\": comment['updated_at'],\n",
    "            \"author_assoc\": comment['author_association'] },ignore_index=True)\n",
    "    return df"
   ]
  },
  {
   "cell_type": "code",
   "execution_count": null,
   "metadata": {},
   "outputs": [],
   "source": [
    "# this function extracts number of open and closed pull requests of passed repository\n",
    "def get_open_closed_pulls(repo):\n",
    "    add = repo + '/pulls'\n",
    "    req = requests.get(add)\n",
    "    data = req.text\n",
    "    \n",
    "    open_issues = int(data.split('<svg class=\"octicon octicon-git-pull-request\"')[2].split('Open')[0].split('</svg>')[1].strip().replace(\",\",\"\"))\n",
    "    closed_issues = int(data.split('<svg class=\"octicon octicon-check\"')[1].split('Closed')[0].split('</svg>')[1].strip().replace(\",\",\"\"))\n",
    "    \n",
    "    return open_issues, closed_issues"
   ]
  },
  {
   "cell_type": "code",
   "execution_count": null,
   "metadata": {},
   "outputs": [],
   "source": [
    "#this function fetches review comment of pull request and returns a dataframe of review comments\n",
    "def get_pull_comments(repo,pr_id):\n",
    "    df = pandas.DataFrame(columns=[\"project_name\",\n",
    "                                   \"pr_id\",\n",
    "                                   \"pr_review_id\",\n",
    "                                   \"comment_id\",\n",
    "                                   \"commit_id\",\n",
    "                                   \"original_commit_id\",\n",
    "                                   \"user_login\",\n",
    "                                   \"created_at\",\n",
    "                                   \"updated_at\",\n",
    "                                   \"author_assoc\"])\n",
    "    \n",
    "    pr_comment = 'https://api.github.com/repos/{}/{}/pulls/{}/comments?client_id={}&client_secret={}'.format(\n",
    "            repo.split('/')[3] ,\n",
    "            repo.split('/')[4] ,\n",
    "            pr_id,\n",
    "            GIT_API[11].split(':')[0] , GIT_API[11].split(':')[1])\n",
    "    req = requests.get(pr_comment)\n",
    "    comments = req.json()\n",
    "    for comment in comments:\n",
    "        df = df.append({\n",
    "            \"project_name\": repo,\n",
    "            \"pr_id\": pr_id,\n",
    "            \"pr_review_id\" : comment['pull_request_review_id'],\n",
    "            \"comment_id\": comment['id'],\n",
    "            \"commit_id\" : comment['commit_id'],\n",
    "            \"original_commit_id\" : comment['original_commit_id'],\n",
    "            \"user_login\": comment['user']['login'],\n",
    "            \"created_at\": comment['created_at'],\n",
    "            \"updated_at\": comment['updated_at'],\n",
    "            \"author_assoc\": comment['author_association'] },ignore_index=True)\n",
    "    return df"
   ]
  },
  {
   "cell_type": "markdown",
   "metadata": {},
   "source": [
    "# dataframes"
   ]
  },
  {
   "cell_type": "code",
   "execution_count": null,
   "metadata": {},
   "outputs": [],
   "source": [
    "issue_comments = pandas.DataFrame(columns=[\"project_name\",\"issue_number\",\"comment_id\",\"user_login\",\"created_at\",\"updated_at\",\"author_assoc\"])\n",
    "pulls_comments = pandas.DataFrame(columns=[\"project_name\",\"issue_number\",\"comment_id\",\"user_login\",\"created_at\",\"updated_at\",\"author_assoc\"])\n",
    "pulls_review_comments = pandas.DataFrame(columns=[\"project_name\",\"pr_id\",\"pr_review_id\",\"comment_id\",\"commit_id\",\"original_commit_id\",\"user_login\",\"created_at\",\"updated_at\",\"author_assoc\"])\n"
   ]
  },
  {
   "cell_type": "code",
   "execution_count": null,
   "metadata": {},
   "outputs": [],
   "source": [
    "# extracting number of issues and prs for proposed repo\n",
    "open_issue , closed_issue = get_open_closed_issues(testrepo)  \n",
    "open_pr , closed_pr = get_open_closed_pulls(testrepo)  "
   ]
  },
  {
   "cell_type": "markdown",
   "metadata": {},
   "source": [
    "# Open Issues Comments"
   ]
  },
  {
   "cell_type": "code",
   "execution_count": null,
   "metadata": {
    "scrolled": true
   },
   "outputs": [],
   "source": [
    "def get_open_issues_comments(repo):\n",
    "    for i in range(1,(open_issue//25)+2):\n",
    "\n",
    "        issues_page_url = repo + '/issues?page={}&q=is%3Aissue+is%3Aopen'.format(i)\n",
    "        req = requests.get(issues_page_url)\n",
    "        data = req.text\n",
    "        issues = data.split('id=\"issue_')\n",
    "        for issue in issues:\n",
    "            if 'DOCTYPE' in issue:\n",
    "                continue\n",
    "\n",
    "            if 'octicon octicon-comment' in issue:\n",
    "                issue_id = issue.split('\"')[0]\n",
    "                issue_comments = issue_comments.append(get_comments(repo,issue_id),ignore_index=True)\n",
    "             "
   ]
  },
  {
   "cell_type": "markdown",
   "metadata": {},
   "source": [
    "# Closed Issues Comments"
   ]
  },
  {
   "cell_type": "code",
   "execution_count": null,
   "metadata": {
    "scrolled": true
   },
   "outputs": [],
   "source": [
    "def get_closed_issues_comments(repo):\n",
    "    for i in range(1,(closed_issue//25)+2):\n",
    "        issues_page_url = repo + '/issues?page={}&q=is%3Aissue+is%3Aclosed'.format(i)\n",
    "        req = requests.get(issues_page_url)\n",
    "        data = req.text\n",
    "        issues = data.split('id=\"issue_')\n",
    "        for issue in issues:\n",
    "            if 'DOCTYPE' in issue:\n",
    "                continue\n",
    "            if 'octicon octicon-comment' in issue:\n",
    "                issue_id = issue.split('\"')[0]\n",
    "                issue_comments = issue_comments.append(get_comments(repo,issue_id),ignore_index=True)"
   ]
  },
  {
   "cell_type": "markdown",
   "metadata": {},
   "source": [
    "# Open Pull Request Comments"
   ]
  },
  {
   "cell_type": "code",
   "execution_count": null,
   "metadata": {
    "scrolled": true
   },
   "outputs": [],
   "source": [
    "def get_open_pulls_comments(repo):\n",
    "    pulls_comments = pandas.DataFrame(columns=[\"project_name\",\"issue_number\",\"comment_id\",\"user_login\",\"created_at\",\"updated_at\",\"author_assoc\"])\n",
    "    pulls_review_comments = pandas.DataFrame(columns=[\"project_name\",\"pr_id\",\"pr_review_id\",\"comment_id\",\"commit_id\",\"original_commit_id\",\"user_login\",\"created_at\",\"updated_at\",\"author_assoc\"])\n",
    "    for i in range(1,(open_pr//25)+2):\n",
    "        pull_page_url = repo + '/issues?page={}&q=is%3Apr+is%3Aopen'.format(i)\n",
    "        req = requests.get(pull_page_url)\n",
    "        data = req.text\n",
    "        issues = data.split('id=\"issue_')\n",
    "        for issue in issues:\n",
    "            if 'DOCTYPE' in issue:\n",
    "                continue\n",
    "            if 'octicon octicon-comment' in issue:\n",
    "                pr_id = issue.split('\"')[0]\n",
    "                pulls_comments = pulls_comments.append(get_comments(repo,pr_id),ignore_index=True)\n",
    "                pulls_review_comments = pulls_review_comments.append(get_pull_comments(repo,pr_id),ignore_index=True)\n",
    "                \n",
    "    return pulls_comments, pulls_review_comments\n",
    "                \n",
    "get_open_pulls_comments(testrepo)"
   ]
  },
  {
   "cell_type": "markdown",
   "metadata": {},
   "source": [
    "# Closed Pull Request Comments"
   ]
  },
  {
   "cell_type": "code",
   "execution_count": null,
   "metadata": {},
   "outputs": [],
   "source": [
    "def get_closed_pulls_comments(repo):\n",
    "    pulls_comments = pandas.DataFrame(columns=[\"project_name\",\"issue_number\",\"comment_id\",\"user_login\",\"created_at\",\"updated_at\",\"author_assoc\"])\n",
    "    pulls_review_comments = pandas.DataFrame(columns=[\"project_name\",\"pr_id\",\"pr_review_id\",\"comment_id\",\"commit_id\",\"original_commit_id\",\"user_login\",\"created_at\",\"updated_at\",\"author_assoc\"])\n",
    "    for i in range(1,(closed_pr//25)+2):\n",
    "        pull_page_url = repo + '/issues?page={}&q=is%3Apr+is%3Aclosed'.format(i)\n",
    "        req = requests.get(pull_page_url)\n",
    "        data = req.text\n",
    "        issues = data.split('id=\"issue_')\n",
    "        for issue in issues:\n",
    "            if 'DOCTYPE' in issue:\n",
    "                continue\n",
    "            if 'octicon octicon-comment' in issue:\n",
    "                pr_id = issue.split('\"')[0]\n",
    "                pulls_comments = pulls_comments.append(get_comments(repo,pr_id),ignore_index=True)\n",
    "                pulls_review_comments = pulls_review_comments.append(get_pull_comments(repo,pr_id),ignore_index=True)\n",
    "                \n",
    "    return pulls_comments, pulls_review_comments\n",
    "                \n",
    "get_closed_pulls_comments(testrepo)"
   ]
  }
 ],
 "metadata": {
  "kernelspec": {
   "display_name": "Python 3",
   "language": "python",
   "name": "python3"
  },
  "language_info": {
   "codemirror_mode": {
    "name": "ipython",
    "version": 3
   },
   "file_extension": ".py",
   "mimetype": "text/x-python",
   "name": "python",
   "nbconvert_exporter": "python",
   "pygments_lexer": "ipython3",
   "version": "3.6.6"
  }
 },
 "nbformat": 4,
 "nbformat_minor": 2
}
