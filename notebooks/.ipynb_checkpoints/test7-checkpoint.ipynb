{
 "cells": [
  {
   "cell_type": "code",
   "execution_count": 1,
   "metadata": {},
   "outputs": [],
   "source": [
    "import pandas\n",
    "import requests\n",
    "import matplotlib\n",
    "\n",
    "all_commits = pandas.read_csv('../data/commitlogs_p7.csv')\n",
    "\n",
    "%matplotlib inline\n",
    "\n",
    "all_comments = pandas.DataFrame(columns=[\"commit_hash\",\"user_name\",\"user_type\",\"comment_author_assoc\",\"comment_created_at\"])\n",
    "#all_comments = pandas.read_csv('../data/allcomments11.csv')\n",
    "not_processed = list()"
   ]
  },
  {
   "cell_type": "code",
   "execution_count": null,
   "metadata": {},
   "outputs": [
    {
     "name": "stdout",
     "output_type": "stream",
     "text": [
      "1 - 4999\n",
      "2 - 4998\n",
      "3 - 4997\n",
      "4 - 4996\n",
      "5 - 4995\n",
      "6 - 4994\n",
      "7 - 4993\n",
      "8 - 4992\n",
      "9 - 4991\n",
      "10 - 4990\n",
      "11 - 4989\n",
      "12 - 4988\n",
      "13 - 4987\n",
      "14 - 4986\n",
      "15 - 4985\n",
      "16 - 4984\n",
      "17 - 4983\n",
      "18 - 4982\n",
      "19 - 4981\n",
      "20 - 4980\n",
      "21 - 4978\n",
      "22 - 4976\n",
      "23 - 4974\n",
      "24 - 4972\n",
      "25 - 4970\n",
      "26 - 4968\n",
      "27 - 4966\n",
      "28 - 4964\n",
      "29 - 4962\n",
      "30 - 4960\n",
      "31 - 4958\n",
      "32 - 4956\n",
      "33 - 4954\n",
      "34 - 4952\n",
      "35 - 4950\n"
     ]
    }
   ],
   "source": [
    "for i in range(0,len(all_commits)):\n",
    "    if(all_commits.loc[i].commit_hash in all_comments.commit_hash.unique()):\n",
    "        continue\n",
    "        \n",
    "    # Create comment url + client info to increase the request limit\n",
    "    comment_url = 'https://api.github.com/repos/{}/{}/commits/{}/comments?client_id={}&client_secret={}'.format(\n",
    "        all_commits.loc[i].project_name.split('/')[3] ,\n",
    "        all_commits.loc[i].project_name.split('/')[4] ,\n",
    "        all_commits.loc[i].commit_hash ,\n",
    "        '1b08271f98996e347123' , 'd8e0dfbe1fd136b76585a50d7e89b80492f0fb4e')\n",
    "    \n",
    "    # try to get request\n",
    "    try:\n",
    "        req = requests.get(comment_url)\n",
    "    except:\n",
    "        not_processed.append(comment_url)\n",
    "    \n",
    "    # if request was successful read data\n",
    "    data = req.json()\n",
    "    \n",
    "    # if data is empty\n",
    "    if data == []:\n",
    "        all_comments = all_comments.append({\n",
    "            \"commit_hash\": all_commits.loc[i].commit_hash,\n",
    "            \"user_name\": '',\n",
    "            \"user_type\": '',\n",
    "            \"comment_author_assoc\": '',\n",
    "            \"comment_created_at\": '' },ignore_index=True)\n",
    "    else:\n",
    "        for comment in data:\n",
    "            all_comments = all_comments.append({\n",
    "                \"commit_hash\": comment['commit_id'],\n",
    "                \"user_name\": comment['user']['login'],\n",
    "                \"user_type\": comment['user']['type'],\n",
    "                \"comment_author_assoc\": comment['author_association'],\n",
    "                \"comment_created_at\": comment['created_at']},ignore_index=True)\n",
    "    \n",
    "    print('{} - {}'.format(len(all_comments),req.headers['X-RateLimit-Remaining']))\n",
    "    # pauses process for 2 second\n",
    "    #matplotlib.pyplot.pause(.1)"
   ]
  },
  {
   "cell_type": "code",
   "execution_count": null,
   "metadata": {},
   "outputs": [],
   "source": [
    "all_comments.to_csv('../data/allcomments7.csv')"
   ]
  }
 ],
 "metadata": {
  "kernelspec": {
   "display_name": "Python 3",
   "language": "python",
   "name": "python3"
  },
  "language_info": {
   "codemirror_mode": {
    "name": "ipython",
    "version": 3
   },
   "file_extension": ".py",
   "mimetype": "text/x-python",
   "name": "python",
   "nbconvert_exporter": "python",
   "pygments_lexer": "ipython3",
   "version": "3.6.6"
  }
 },
 "nbformat": 4,
 "nbformat_minor": 2
}
