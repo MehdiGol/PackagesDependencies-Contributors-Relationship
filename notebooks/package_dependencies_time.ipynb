{
 "cells": [
  {
   "cell_type": "markdown",
   "metadata": {},
   "source": [
    "# adding time of start and finish using a dependecy to data set"
   ]
  },
  {
   "cell_type": "markdown",
   "metadata": {},
   "source": [
    "In this notebook I added columns to dataset indicating when a dependency added or removed from a package. Decision on stop using a dependency is made by checking the next version."
   ]
  },
  {
   "cell_type": "code",
   "execution_count": 1,
   "metadata": {},
   "outputs": [],
   "source": [
    "import pandas\n",
    "import numpy as np\n",
    "\n",
    "import sys\n",
    "sys.path.append('..')\n",
    "\n",
    "from helper import load_data , load_repo"
   ]
  },
  {
   "cell_type": "code",
   "execution_count": 20,
   "metadata": {},
   "outputs": [],
   "source": [
    "cargo = load_repo('Cargo')\n",
    "cargo_git = cargo[cargo.Repository_URL.notnull()]\n",
    "cargo_git = cargo_git[cargo_git.Repository_URL.str.contains('github')].drop_duplicates(subset='Repository_URL')\n",
    "repos = cargo_git[['Name','Repository_URL']].set_index('Name')"
   ]
  },
  {
   "cell_type": "code",
   "execution_count": 21,
   "metadata": {},
   "outputs": [],
   "source": [
    "packages, dependencies = load_data('Cargo')"
   ]
  },
  {
   "cell_type": "code",
   "execution_count": 22,
   "metadata": {},
   "outputs": [],
   "source": [
    "packages_dependencies = (\n",
    "    packages.merge(dependencies,left_on=['package','version'], right_on=['package','version'])\n",
    "    .sort_values(['package','date']).reset_index().drop('index',axis=1)\n",
    ")"
   ]
  },
  {
   "cell_type": "markdown",
   "metadata": {},
   "source": [
    "#### Dropped duplicates with keep=last to find last time the package used as dependency"
   ]
  },
  {
   "cell_type": "code",
   "execution_count": 24,
   "metadata": {},
   "outputs": [],
   "source": [
    "package_dependecies_unique = packages_dependencies.sort_values(['package','date']).drop_duplicates(subset=['package','version'],keep='first')\n",
    "last_time_depend_used = packages_dependencies.sort_values(['package','date']).drop_duplicates(subset=['package','target'],keep='last')"
   ]
  },
  {
   "cell_type": "markdown",
   "metadata": {},
   "source": [
    "#### Adding package start time and time of the last version"
   ]
  },
  {
   "cell_type": "code",
   "execution_count": 26,
   "metadata": {},
   "outputs": [],
   "source": [
    "def get_package_finish(pack_name):\n",
    "    return package_dependecies_unique[package_dependecies_unique['package'] == pack_name].iloc[-1]['date']\n",
    "def get_package_start(pack_name):\n",
    "    return package_dependecies_unique[package_dependecies_unique['package'] == pack_name].iloc[0]['date']\n",
    "def get_last_time_visit(pack_name,depend):\n",
    "    return last_time_depend_used[lambda x: x['package'] == pack_name][lambda x: x['target'] == depend]['date'].values[0]\n",
    "\n",
    "df_tmp = (\n",
    "    packages_dependencies\n",
    "    .sort_values(['package','date'])\n",
    "    .drop_duplicates(subset=['package','target'],keep='first')\n",
    ")"
   ]
  },
  {
   "cell_type": "code",
   "execution_count": 27,
   "metadata": {},
   "outputs": [],
   "source": [
    "df_tmp = (\n",
    "    df_tmp.assign(fst_release = df_tmp.apply( lambda d: get_package_start(d['package']),axis=1))\n",
    "    .assign(lst_release = df_tmp.apply( lambda d: get_package_finish(d['package']),axis=1))\n",
    "    .assign(last_time = df_tmp.apply( lambda d: get_last_time_visit(d['package'],d['target']),axis=1))\n",
    ")"
   ]
  },
  {
   "cell_type": "markdown",
   "metadata": {},
   "source": [
    "#### Time interval between last release of the package and last time the dependency used"
   ]
  },
  {
   "cell_type": "code",
   "execution_count": 28,
   "metadata": {},
   "outputs": [],
   "source": [
    "df_tmp = (\n",
    "    df_tmp.rename(columns={'date':'first_time'})\n",
    "    .assign(elimination = df_tmp.apply(lambda d: (d['lst_release'] - d['last_time']).total_seconds()/3600/24,axis=1))\n",
    ")"
   ]
  },
  {
   "cell_type": "markdown",
   "metadata": {},
   "source": [
    "#### Calculating lifespan of a dependency in days"
   ]
  },
  {
   "cell_type": "code",
   "execution_count": 29,
   "metadata": {},
   "outputs": [],
   "source": [
    "df_tmp = (\n",
    "    df_tmp.assign(period = df_tmp.apply(lambda d: (d['last_time'] - d['first_time']).total_seconds()/3600/24,axis=1))\n",
    "    .assign(removed = df_tmp.apply(lambda d: 1 if d['lst_release']> d['last_time'] else 0,axis=1))\n",
    "    [['package','version','target','fst_release','lst_release','first_time','last_time','elimination','period','removed']]\n",
    ")"
   ]
  },
  {
   "cell_type": "code",
   "execution_count": 30,
   "metadata": {},
   "outputs": [],
   "source": [
    "df_tmp.to_csv('../data/package_dependencies_time.csv.gz',compression='gzip')"
   ]
  }
 ],
 "metadata": {
  "kernelspec": {
   "display_name": "Python 3",
   "language": "python",
   "name": "python3"
  },
  "language_info": {
   "codemirror_mode": {
    "name": "ipython",
    "version": 3
   },
   "file_extension": ".py",
   "mimetype": "text/x-python",
   "name": "python",
   "nbconvert_exporter": "python",
   "pygments_lexer": "ipython3",
   "version": "3.6.6"
  }
 },
 "nbformat": 4,
 "nbformat_minor": 2
}
