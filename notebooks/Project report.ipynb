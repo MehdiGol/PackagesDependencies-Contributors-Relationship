{
 "cells": [
  {
   "cell_type": "markdown",
   "metadata": {},
   "source": [
    "# Project report"
   ]
  },
  {
   "cell_type": "markdown",
   "metadata": {},
   "source": [
    "We have subjected the Cargo package manager for RUST language to find out if there is any relationship between contributors comment activity and their code activity in GitHub.\n",
    "Cargo package manager dataset includes:\n",
    "    * 14496 records.\n",
    "    * we removed 1571 record with null repository URL.\n",
    "    * We removed 413 records with repository URL other than GitHub.\n",
    "    * We found 9954 unique repository URLs\n",
    "    * 8162 unique repositories which is either in package or dependency part of the package dependencies dataset\n",
    "\n",
    "package and dependencies dataset includes:\n",
    "    * 302834 records (merged dataset)\n",
    "    * 66105 unique package-versions\n",
    "    * 48597 unique package-dependencies\n",
    "\n",
    "In order to simplify and buying time we selected 99 repositories from 8162 unique repositories in libio dataset. We downloaded all comments(of types commit comment, issue comment, pull comment and pull review comments) of all reositories. We also downloaded commit logs and pull request meta-data for above mentioned repositories from github website through its API. (Meanwhile I downloaded all repositories data)\n",
    "\n",
    "meta-data of 99 downloaded datasets\n",
    "    * There are 151773 comments including\n",
    "        * 2401 commit comments\n",
    "        * 60144 issue comments\n",
    "        * 67402 pull comments\n",
    "        * 21826 pull review comments\n",
    "    * 11777 comments of 5514 users (without considering the user_association) and 6738 user (considering user_association)\n",
    "    * 77842 commits\n",
    "    * 22122 pull requests"
   ]
  },
  {
   "cell_type": "markdown",
   "metadata": {},
   "source": [
    "#### package_dependencies_time notebook"
   ]
  },
  {
   "cell_type": "markdown",
   "metadata": {},
   "source": [
    "Is my method to find if the package excluded form dependencies correct? (I dorpped duplicate records with keep last parameter)"
   ]
  },
  {
   "cell_type": "markdown",
   "metadata": {},
   "source": [
    "#### Question 1 notebook"
   ]
  },
  {
   "cell_type": "markdown",
   "metadata": {},
   "source": [
    "* in part 1 I dont know how to describe the scatter plot in a correct way to support the mentioned quesion.\n",
    "\n",
    "* in part 2 and 4 According to plot we see that our hypothesis is not true. How are we going to justify this in our report? it's very unlikely to change after adding data of all repositories\n",
    "\n",
    "* in part 3 number of comments on dependent packages regarding the type of comments "
   ]
  },
  {
   "cell_type": "markdown",
   "metadata": {},
   "source": [
    "#### Question 2 notebook"
   ]
  },
  {
   "cell_type": "markdown",
   "metadata": {},
   "source": [
    " "
   ]
  },
  {
   "cell_type": "markdown",
   "metadata": {},
   "source": [
    "#### Question 3 notebook"
   ]
  },
  {
   "cell_type": "markdown",
   "metadata": {},
   "source": [
    " "
   ]
  },
  {
   "cell_type": "markdown",
   "metadata": {},
   "source": [
    "#### Question 4 notebook"
   ]
  },
  {
   "cell_type": "markdown",
   "metadata": {},
   "source": [
    " "
   ]
  }
 ],
 "metadata": {
  "kernelspec": {
   "display_name": "Python 3",
   "language": "python",
   "name": "python3"
  },
  "language_info": {
   "codemirror_mode": {
    "name": "ipython",
    "version": 3
   },
   "file_extension": ".py",
   "mimetype": "text/x-python",
   "name": "python",
   "nbconvert_exporter": "python",
   "pygments_lexer": "ipython3",
   "version": "3.6.6"
  }
 },
 "nbformat": 4,
 "nbformat_minor": 2
}
