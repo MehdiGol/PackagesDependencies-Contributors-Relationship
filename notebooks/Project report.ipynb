{
 "cells": [
  {
   "cell_type": "markdown",
   "metadata": {},
   "source": [
    "# Project report"
   ]
  },
  {
   "cell_type": "markdown",
   "metadata": {},
   "source": [
    "We have subjected the Cargo package manager for RUST language to find out if there is any relationship between contributors comment activity and their code activity in GitHub.\n",
    "Cargo package manager dataset includes:\n",
    "    * 14496 records.\n",
    "    * we removed 1571 record with null repository URL.\n",
    "    * We removed 413 records with repository URL other than GitHub.\n",
    "    * We found 9954 unique repository URLs\n",
    "    * 8162 unique repositories which is either in package or dependency part of the package dependencies dataset\n",
    "\n",
    "package and dependencies dataset includes:\n",
    "    * 302834 records (merged dataset)\n",
    "    * 66105 unique package-versions\n",
    "    * 48597 unique package-dependencies\n",
    "\n",
    "In order to simplify and buying time we selected 99 repositories from 8162 unique repositories in libio dataset. We downloaded all comments(of types commit comment, issue comment, pull comment and pull review comments) of all reositories. We also downloaded commit logs and pull request meta-data for above mentioned repositories from github website through its API. (Meanwhile I downloaded all repositories data)\n",
    "\n",
    "meta-data of 99 downloaded datasets\n",
    "    * There are 151773 comments including\n",
    "        * 2401 commit comments\n",
    "        * 60144 issue comments\n",
    "        * 67402 pull comments\n",
    "        * 21826 pull review comments\n",
    "    * 11777 comments of 5514 users (without considering the user_association) and 6738 user (considering user_association)\n",
    "    * 77842 commits\n",
    "    * 22122 pull requests"
   ]
  },
  {
   "cell_type": "markdown",
   "metadata": {},
   "source": [
    "#### Package_dependencies_time notebook"
   ]
  },
  {
   "cell_type": "markdown",
   "metadata": {},
   "source": [
    "* Is my method (to find the time package excluded form dependencies) correct? (I dorpped duplicate records with keep last parameter)"
   ]
  },
  {
   "cell_type": "markdown",
   "metadata": {},
   "source": [
    "#### Question 1 notebook"
   ]
  },
  {
   "cell_type": "markdown",
   "metadata": {},
   "source": [
    "Questions: \n",
    "* could you check the logic of section 2 script?\n",
    "* in section 3 I don't know how to describe the scatter plot in a correct way to support the mentioned question. ( I could say that the proportion of contributors who have commented on dependent packages are generally less than contributors with comment contribution on not dependent packages but the number of comments in some cases is much higher than others. But I think its not a good support for the raised quesion)\n",
    "\n",
    "* in section 4, 5 and 6 According to the plot we see that our hypothesis is not true. How are we going to justify this in our report? it's very unlikely to change after adding data of all repositories"
   ]
  },
  {
   "cell_type": "markdown",
   "metadata": {},
   "source": [
    "#### Question 2 notebook"
   ]
  },
  {
   "cell_type": "markdown",
   "metadata": {},
   "source": [
    "Results:\n",
    "* According to the plot in section 5, the number of packages with contributors who have had comment activity before start depending on a package is less than other packages.\n",
    "* According to the plot in section 6 contributors are more likely to contribute issue comment and pull comment and owners and contributors have more comment activity than others.\n",
    "* According to the plot in section 8 time interval between comment activity and start depending on a package is drastically reduced in recent years.\n",
    "* \n",
    "\n",
    "    \n",
    "    \n",
    "Questions:    \n",
    "* Section 1: is to correct to exclude comments with author association type of NONE? (Owner, Member, Collaborator, and Contributor are our target comment contributor)\n",
    "* Section 3: can you take a look at my function? I am a bit skeptical about the logic? do you have any suggestion to get better results?\n",
    "* Section 7: I used time-interval between first contributor comment and the first time package added to dependencies. You said it's useful to consider time from the last comment, how can it help us? would you mind explaining why? \n",
    "* Section 11 and 12: am I defining T and E correctly??? I don't know how to interpret the lifeline plots. I'm not confident that I used lifelines in the right way. Also, there are several methods like Weibull model, Nelson-Aalen model and I don't know which one is appropriate for our case. "
   ]
  },
  {
   "cell_type": "markdown",
   "metadata": {},
   "source": [
    "#### Question 3 notebook"
   ]
  },
  {
   "cell_type": "markdown",
   "metadata": {},
   "source": [
    "Results:\n",
    "* In section 1 we have demonstrated the proportion of contributors with and without comment activity before start depending on a package. the result is not what we expected.\n",
    "* In section 2 we have monthly and yearly distribution of time interval between comment contribution of contributors and going to start using that package. the median is less than 20 days each year.\n",
    "* In section 3 we have the time interval between comment activity of contributors and start depending on a package according to the type of the comment. It shows that the interval for commit comment and pull review comment is lower than issue and pull comments.\n",
    "\n",
    "Questions:    \n",
    "* Is there anything to consider to get a better result? for example we can get a better result by the elimination of some rows or putting some constraint."
   ]
  },
  {
   "cell_type": "markdown",
   "metadata": {},
   "source": [
    "#### Question 4 notebook"
   ]
  },
  {
   "cell_type": "markdown",
   "metadata": {},
   "source": [
    "Results:\n",
    " * In section 4 We try to show the proportion of packages excluded from dependencies of a package after comment activity of contributor vs other. This plot shows the number of packages is not considerable. although it may change by adding all packages data.\n",
    " * Plot in section 5 has a lot to say. For example, commit comments are less than other comments and the time interval decreases each year.\n",
    " * in section 7 we show the monthly distribution of time interval between comment contribution of contributors and stop depending on a package. I think the plot will have a better shape using all data.\n",
    " * In section 8 we show the monthly distribution of lifespan of excluded packages.\n",
    " * Survival analysis plots clearly show that packages with comment contribution of contributors are likely to be excluded in a longer time.\n",
    " \n",
    "Questions:\n",
    " * In section 9: My lifeline analysis looks true but there are few cases happened against those cases which contributors didn't contribut comment before stop using the package. how could I link these two? \n",
    " * In section 3: Generally I'm a bit uncertain about my logic. Would you please check it and let me know if my script is OK or not?\n",
    " * Section 6: the plot is not so professional. do you have any suggestion to make it more sophisticated?"
   ]
  }
 ],
 "metadata": {
  "kernelspec": {
   "display_name": "Python 3",
   "language": "python",
   "name": "python3"
  },
  "language_info": {
   "codemirror_mode": {
    "name": "ipython",
    "version": 3
   },
   "file_extension": ".py",
   "mimetype": "text/x-python",
   "name": "python",
   "nbconvert_exporter": "python",
   "pygments_lexer": "ipython3",
   "version": "3.6.6"
  }
 },
 "nbformat": 4,
 "nbformat_minor": 2
}
