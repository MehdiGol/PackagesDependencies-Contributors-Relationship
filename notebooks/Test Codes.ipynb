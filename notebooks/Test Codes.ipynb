{
 "cells": [
  {
   "cell_type": "markdown",
   "metadata": {},
   "source": [
    "# get issues with api"
   ]
  },
  {
   "cell_type": "code",
   "execution_count": null,
   "metadata": {},
   "outputs": [],
   "source": [
    "repo = 'https://github.com/rust-lang/cargo'\n",
    "issue_comment = 'https://api.github.com/repos/{}/{}/issues?client_id={}&client_secret={}'.format(\n",
    "            repo.split('/')[3] ,\n",
    "            repo.split('/')[4] ,\n",
    "            GIT_API[11].split(':')[0] , GIT_API[11].split(':')[1])\n",
    "print(issue_comment)\n",
    "req = requests.get(issue_comment)\n",
    "data = req.json()\n",
    "print(len(data))\n",
    "i = 1\n",
    "for issue in data:\n",
    "    print(issue)\n",
    "    print('---------------' + str(i))\n",
    "    i += 1"
   ]
  }
 ],
 "metadata": {
  "kernelspec": {
   "display_name": "Python 3",
   "language": "python",
   "name": "python3"
  },
  "language_info": {
   "codemirror_mode": {
    "name": "ipython",
    "version": 3
   },
   "file_extension": ".py",
   "mimetype": "text/x-python",
   "name": "python",
   "nbconvert_exporter": "python",
   "pygments_lexer": "ipython3",
   "version": "3.6.6"
  }
 },
 "nbformat": 4,
 "nbformat_minor": 2
}
