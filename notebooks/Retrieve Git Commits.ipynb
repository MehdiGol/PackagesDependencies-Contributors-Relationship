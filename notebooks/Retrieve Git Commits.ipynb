{
 "cells": [
  {
   "cell_type": "markdown",
   "metadata": {},
   "source": [
    "# this is just for test each method\n",
    "\n",
    "\n",
    "\n",
    "# using grimoire-perceval"
   ]
  },
  {
   "cell_type": "code",
   "execution_count": null,
   "metadata": {
    "scrolled": true
   },
   "outputs": [],
   "source": [
    "from perceval.backends.core.git import Git\n",
    "\n",
    "# url for the git repo to analyze\n",
    "repo_url = 'http://github.com/grimoirelab/perceval.git'\n",
    "# directory for letting Perceval clone the git repo\n",
    "repo_dir = '/tmp/perceval.git'\n",
    "\n",
    "# create a Git object, pointing to repo_url, using repo_dir for cloning\n",
    "repo = Git(uri=repo_url, gitpath=repo_dir)\n",
    "# fetch all commits as an iteratoir, and iterate it printing each hash\n",
    "for commit in repo.fetch():\n",
    "    print(commit['data']['commit'])"
   ]
  },
  {
   "cell_type": "markdown",
   "metadata": {},
   "source": [
    "# using pygithub"
   ]
  },
  {
   "cell_type": "code",
   "execution_count": null,
   "metadata": {},
   "outputs": [],
   "source": [
    "from github import Github\n",
    "\n",
    "\n",
    "# or using an access token\n",
    "g = Github(\"249b66d4906897c34f2fc58779685f4c144222c2 \")\n",
    "\n",
    "# Github Enterprise with custom hostname\n",
    "#g = Github(base_url=\"https://{hostname}/api/v3\", login_or_token=\"access_token\")\n",
    "\n",
    "# Then play with your Github objects:\n",
    "repo = g.get_repo('rust-random/rand')\n",
    "\n",
    "print(repo.full_name)\n",
    "for commit in repo.get_commits():\n",
    "    # commit.author\n",
    "    # is an object of type https://pygithub.readthedocs.io/en/latest/github_objects/NamedUser.html#github.NamedUser.NamedUser\n",
    "    print(\"\\ncommit.author\")\n",
    "    print(\"------------------\")\n",
    "    print(commit.author.company)\n",
    "    print(commit.author.id)\n",
    "    print(commit.author.name)\n",
    "    \n",
    "    # a string\n",
    "    print(\"\\ncommit.comments_url\")\n",
    "    print(\"------------------\")\n",
    "    print(commit.comments_url)\n",
    "    \n",
    "    # commit.commit\n",
    "    # is an object of type https://pygithub.readthedocs.io/en/latest/github_objects/GitCommit.html#github.GitCommit.GitCommit\n",
    "    print(\"\\ncommit.commit\")\n",
    "    print(\"------------------\")\n",
    "    print(commit.commit.message)\n",
    "    print(commit.commit.committer.name)\n",
    "    print(commit.commit.committer.date)\n",
    "    \n",
    "    # commit.committer\n",
    "    # is an object of type https://pygithub.readthedocs.io/en/latest/github_objects/NamedUser.html#github.NamedUser.NamedUser\n",
    "    print(\"\\ncommit.committer\")\n",
    "    print(\"------------------\")\n",
    "    print(commit.committer.company)\n",
    "    print(commit.committer.id)\n",
    "    print(commit.committer.name)\n",
    "    \n",
    "    print(\"\\n**********************************************************\")"
   ]
  },
  {
   "cell_type": "markdown",
   "metadata": {},
   "source": [
    "# subprocess method"
   ]
  },
  {
   "cell_type": "code",
   "execution_count": null,
   "metadata": {},
   "outputs": [],
   "source": [
   "import subprocess\n",
    "import os\n",
    "\n",
    "repo = 'https://github.com/bluss/rust-itertools'\n",
    "\n",
    "#minor error here, you forgot to add '/' between the two splits\n",
    "repo_name = repo.split('/')[3] + '/' + repo.split('/')[4]\n",
    "folder_location = '.'+os.sep+'tempclone'+os.sep+repo_name.replace('/',os.sep)\n",
    "commands = [\"git\", \"clone\" ,\"--bare\", repo , folder_location]\n",
    "process = subprocess.Popen(commands,stdout=subprocess.PIPE)\n",
    "output = process.communicate()[0]\n",
    "\n",
    "#you had an extra argument here (not sure why). All you need is the folder location with the git repository to \n",
    "#run git log\n",
    "commands = [\"git\", \"log\" ,'--pretty=format:%H\";\"%ai\";\"%an\";\"%ae\";\"%cn\";\"%ce']\n",
    "#commands = [\"git\", \"log\" ,'--pretty=format:%H\";\"%ai\";\"%an\";\"%ae\";\"%cn\";\"%ce:%#$GOLZADEH']\n",
    "#What purpose does :%#$GOLZADEH serve??? \n",
    "\n",
    "process = subprocess.Popen(commands,  cwd=r''+folder_location ,stdout=subprocess.PIPE)\n",
    "output = process.communicate()[0]\n",
    "output = str(output)\n",
    "output = output[2:len(output)-1]\n",
    "output = output.replace('\\\\n','\\n')\n",
    "headers = 'hash;date;author_name;author_email;committer_name;committer_email;branch'\n",
    "output = headers+'\\n'+output\n",
    "print(output)"
   ]
  },
  {
   "cell_type": "code",
   "execution_count": null,
   "metadata": {},
   "outputs": [],
   "source": []
  }
 ],
 "metadata": {
  "kernelspec": {
   "display_name": "Python 3",
   "language": "python",
   "name": "python3"
  },
  "language_info": {
   "codemirror_mode": {
    "name": "ipython",
    "version": 3
   },
   "file_extension": ".py",
   "mimetype": "text/x-python",
   "name": "python",
   "nbconvert_exporter": "python",
   "pygments_lexer": "ipython3",
   "version": "3.6.6"
  }
 },
 "nbformat": 4,
 "nbformat_minor": 2
}
