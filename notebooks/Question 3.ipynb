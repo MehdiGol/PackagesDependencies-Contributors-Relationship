{
 "cells": [
  {
   "cell_type": "markdown",
   "metadata": {},
   "source": [
    "# Question 3"
   ]
  },
  {
   "cell_type": "markdown",
   "metadata": {},
   "source": [
    "Question: Is there some (temporal) relation between the commenting activity and the decision to start “contributing to\" a package? I would guess that new contributors/committers to the code of a package would first start by commenting to the package, and as they get more experiences they might go one step further and actually start submitting pull requests or even direct commits (depending on the development process followed)"
   ]
  },
  {
   "cell_type": "markdown",
   "metadata": {},
   "source": [
    "Data: In this part, we are going to use downloaded data (commit, pull request, commit comment, issue comment, pull review comments) of the selected list of repositories of cargo package manager for rust language. (99 github repositories)"
   ]
  },
  {
   "cell_type": "code",
   "execution_count": 174,
   "metadata": {},
   "outputs": [],
   "source": [
    "import pandas\n",
    "import matplotlib.pyplot as plt\n",
    "import seaborn\n",
    "import collections\n",
    "import itertools\n",
    "import numpy as np\n",
    "import warnings\n",
    "import subprocess\n",
    "import requests\n",
    "import lifelines\n",
    "\n",
    "\n",
    "import sys\n",
    "sys.path.append('..')\n",
    "\n",
    "from helper import load_data , load_repo ,read_comments , GIT_API , DATE_RANGE\n",
    "warnings.filterwarnings('ignore')\n",
    "\n",
    "%matplotlib inline\n",
    "\n",
    "palet = seaborn.color_palette('hls', 8)[0:8]"
   ]
  },
  {
   "cell_type": "code",
   "execution_count": 2,
   "metadata": {},
   "outputs": [],
   "source": [
    "cargo = load_repo('Cargo')\n",
    "cargo_git = cargo[cargo.Repository_URL.notnull()]\n",
    "cargo_git = cargo_git[cargo_git.Repository_URL.str.contains('github')].drop_duplicates(subset='Repository_URL')\n",
    "repos = cargo_git[['Name','Repository_URL']].set_index('Repository_URL')"
   ]
  },
  {
   "cell_type": "code",
   "execution_count": 3,
   "metadata": {},
   "outputs": [
    {
     "data": {
      "text/html": [
       "<div>\n",
       "<style scoped>\n",
       "    .dataframe tbody tr th:only-of-type {\n",
       "        vertical-align: middle;\n",
       "    }\n",
       "\n",
       "    .dataframe tbody tr th {\n",
       "        vertical-align: top;\n",
       "    }\n",
       "\n",
       "    .dataframe thead th {\n",
       "        text-align: right;\n",
       "    }\n",
       "</style>\n",
       "<table border=\"1\" class=\"dataframe\">\n",
       "  <thead>\n",
       "    <tr style=\"text-align: right;\">\n",
       "      <th></th>\n",
       "      <th>Name</th>\n",
       "      <th>user_login</th>\n",
       "      <th>author_assoc</th>\n",
       "      <th>created_at</th>\n",
       "      <th>type</th>\n",
       "    </tr>\n",
       "  </thead>\n",
       "  <tbody>\n",
       "    <tr>\n",
       "      <th>130628</th>\n",
       "      <td>actix</td>\n",
       "      <td>Anton-4</td>\n",
       "      <td>NONE</td>\n",
       "      <td>2018-02-05 18:39:23</td>\n",
       "      <td>isu</td>\n",
       "    </tr>\n",
       "    <tr>\n",
       "      <th>130790</th>\n",
       "      <td>actix</td>\n",
       "      <td>Brooooooklyn</td>\n",
       "      <td>NONE</td>\n",
       "      <td>2018-08-01 17:11:35</td>\n",
       "      <td>pul</td>\n",
       "    </tr>\n",
       "    <tr>\n",
       "      <th>130752</th>\n",
       "      <td>actix</td>\n",
       "      <td>Cocalus</td>\n",
       "      <td>CONTRIBUTOR</td>\n",
       "      <td>2018-09-22 20:14:28</td>\n",
       "      <td>pul</td>\n",
       "    </tr>\n",
       "    <tr>\n",
       "      <th>130644</th>\n",
       "      <td>actix</td>\n",
       "      <td>DGolubets</td>\n",
       "      <td>CONTRIBUTOR</td>\n",
       "      <td>2017-12-12 18:32:30</td>\n",
       "      <td>isu</td>\n",
       "    </tr>\n",
       "    <tr>\n",
       "      <th>130601</th>\n",
       "      <td>actix</td>\n",
       "      <td>DoumanAsh</td>\n",
       "      <td>CONTRIBUTOR</td>\n",
       "      <td>2018-03-15 06:52:05</td>\n",
       "      <td>isu</td>\n",
       "    </tr>\n",
       "  </tbody>\n",
       "</table>\n",
       "</div>"
      ],
      "text/plain": [
       "         Name    user_login author_assoc          created_at type\n",
       "130628  actix       Anton-4         NONE 2018-02-05 18:39:23  isu\n",
       "130790  actix  Brooooooklyn         NONE 2018-08-01 17:11:35  pul\n",
       "130752  actix       Cocalus  CONTRIBUTOR 2018-09-22 20:14:28  pul\n",
       "130644  actix     DGolubets  CONTRIBUTOR 2017-12-12 18:32:30  isu\n",
       "130601  actix     DoumanAsh  CONTRIBUTOR 2018-03-15 06:52:05  isu"
      ]
     },
     "execution_count": 3,
     "metadata": {},
     "output_type": "execute_result"
    }
   ],
   "source": [
    "all_comments = (\n",
    "    read_comments()\n",
    "    .assign(created_at = lambda x: pandas.to_datetime(x['created_at']))\n",
    "    [['Name','user_login','author_assoc','created_at','type']]\n",
    "    .sort_values(['Name','user_login','created_at'])\n",
    "    .drop_duplicates(['Name','user_login'],keep='first')\n",
    ")\n",
    "\n",
    "all_comments.head()"
   ]
  },
  {
   "cell_type": "code",
   "execution_count": 4,
   "metadata": {},
   "outputs": [],
   "source": [
    "packages, dependencies = load_data('Cargo')\n",
    "packages_dependencies = (\n",
    "    packages.merge(dependencies,left_on=['package','version'], right_on=['package','version'])\n",
    "    .sort_values(['package','date'])\n",
    "    .reset_index()\n",
    "    .drop('index',axis=1)\n",
    "    .drop_duplicates(['package','target'],keep='first')\n",
    ")"
   ]
  },
  {
   "cell_type": "code",
   "execution_count": 5,
   "metadata": {},
   "outputs": [],
   "source": [
    "commits = pandas.read_csv('../data/commitlogs1.csv.gz',compression='gzip',parse_dates=['commit_date'])"
   ]
  },
  {
   "cell_type": "code",
   "execution_count": 6,
   "metadata": {},
   "outputs": [],
   "source": [
    "selected_repos = (\n",
    "    pandas.read_csv('../data/origin/selected_origins.csv')\n",
    "    .append(pandas.read_csv('../data/depend/selected_dependencies.csv'))\n",
    ")"
   ]
  },
  {
   "cell_type": "code",
   "execution_count": 7,
   "metadata": {},
   "outputs": [
    {
     "data": {
      "text/html": [
       "<div>\n",
       "<style scoped>\n",
       "    .dataframe tbody tr th:only-of-type {\n",
       "        vertical-align: middle;\n",
       "    }\n",
       "\n",
       "    .dataframe tbody tr th {\n",
       "        vertical-align: top;\n",
       "    }\n",
       "\n",
       "    .dataframe thead th {\n",
       "        text-align: right;\n",
       "    }\n",
       "</style>\n",
       "<table border=\"1\" class=\"dataframe\">\n",
       "  <thead>\n",
       "    <tr style=\"text-align: right;\">\n",
       "      <th></th>\n",
       "      <th>Name</th>\n",
       "      <th>commit_date</th>\n",
       "      <th>author_name</th>\n",
       "      <th>committer_name</th>\n",
       "    </tr>\n",
       "  </thead>\n",
       "  <tbody>\n",
       "    <tr>\n",
       "      <th>0</th>\n",
       "      <td>itertools</td>\n",
       "      <td>2018-08-27 20:11:09</td>\n",
       "      <td>bluss</td>\n",
       "      <td>GitHub</td>\n",
       "    </tr>\n",
       "    <tr>\n",
       "      <th>1</th>\n",
       "      <td>itertools</td>\n",
       "      <td>2018-08-27 06:31:53</td>\n",
       "      <td>Aleksey Kladov</td>\n",
       "      <td>Aleksey Kladov</td>\n",
       "    </tr>\n",
       "    <tr>\n",
       "      <th>2</th>\n",
       "      <td>itertools</td>\n",
       "      <td>2018-06-30 09:09:15</td>\n",
       "      <td>bluss</td>\n",
       "      <td>GitHub</td>\n",
       "    </tr>\n",
       "    <tr>\n",
       "      <th>3</th>\n",
       "      <td>itertools</td>\n",
       "      <td>2018-06-27 17:36:00</td>\n",
       "      <td>Jim Turner</td>\n",
       "      <td>Jim Turner</td>\n",
       "    </tr>\n",
       "    <tr>\n",
       "      <th>4</th>\n",
       "      <td>itertools</td>\n",
       "      <td>2018-06-23 11:15:04</td>\n",
       "      <td>bluss</td>\n",
       "      <td>GitHub</td>\n",
       "    </tr>\n",
       "  </tbody>\n",
       "</table>\n",
       "</div>"
      ],
      "text/plain": [
       "        Name         commit_date     author_name  committer_name\n",
       "0  itertools 2018-08-27 20:11:09           bluss          GitHub\n",
       "1  itertools 2018-08-27 06:31:53  Aleksey Kladov  Aleksey Kladov\n",
       "2  itertools 2018-06-30 09:09:15           bluss          GitHub\n",
       "3  itertools 2018-06-27 17:36:00      Jim Turner      Jim Turner\n",
       "4  itertools 2018-06-23 11:15:04           bluss          GitHub"
      ]
     },
     "execution_count": 7,
     "metadata": {},
     "output_type": "execute_result"
    }
   ],
   "source": [
    "selected_commits = (\n",
    "    commits[commits['project_name'].isin(selected_repos['Repository_URL'])]\n",
    "    .assign(Name= lambda x: x['project_name'].map(repos['Name']))\n",
    "    [['Name','commit_date','author_name','committer_name']]\n",
    ")\n",
    "selected_commits.head()"
   ]
  },
  {
   "cell_type": "code",
   "execution_count": 8,
   "metadata": {},
   "outputs": [
    {
     "data": {
      "text/html": [
       "<div>\n",
       "<style scoped>\n",
       "    .dataframe tbody tr th:only-of-type {\n",
       "        vertical-align: middle;\n",
       "    }\n",
       "\n",
       "    .dataframe tbody tr th {\n",
       "        vertical-align: top;\n",
       "    }\n",
       "\n",
       "    .dataframe thead th {\n",
       "        text-align: right;\n",
       "    }\n",
       "</style>\n",
       "<table border=\"1\" class=\"dataframe\">\n",
       "  <thead>\n",
       "    <tr style=\"text-align: right;\">\n",
       "      <th></th>\n",
       "      <th>Name</th>\n",
       "      <th>user_login</th>\n",
       "      <th>author_assoc</th>\n",
       "      <th>created_at</th>\n",
       "    </tr>\n",
       "  </thead>\n",
       "  <tbody>\n",
       "    <tr>\n",
       "      <th>0</th>\n",
       "      <td>actix-web</td>\n",
       "      <td>zpgaal</td>\n",
       "      <td>NONE</td>\n",
       "      <td>2018-11-09 08:57:09</td>\n",
       "    </tr>\n",
       "    <tr>\n",
       "      <th>1</th>\n",
       "      <td>actix-web</td>\n",
       "      <td>botika</td>\n",
       "      <td>CONTRIBUTOR</td>\n",
       "      <td>2018-11-08 11:49:29</td>\n",
       "    </tr>\n",
       "    <tr>\n",
       "      <th>2</th>\n",
       "      <td>actix-web</td>\n",
       "      <td>notogawa</td>\n",
       "      <td>NONE</td>\n",
       "      <td>2018-11-07 02:05:07</td>\n",
       "    </tr>\n",
       "    <tr>\n",
       "      <th>3</th>\n",
       "      <td>actix-web</td>\n",
       "      <td>jtescher</td>\n",
       "      <td>CONTRIBUTOR</td>\n",
       "      <td>2018-11-07 00:18:26</td>\n",
       "    </tr>\n",
       "    <tr>\n",
       "      <th>4</th>\n",
       "      <td>actix-web</td>\n",
       "      <td>legokichi</td>\n",
       "      <td>NONE</td>\n",
       "      <td>2018-11-05 09:11:39</td>\n",
       "    </tr>\n",
       "  </tbody>\n",
       "</table>\n",
       "</div>"
      ],
      "text/plain": [
       "        Name user_login author_assoc          created_at\n",
       "0  actix-web     zpgaal         NONE 2018-11-09 08:57:09\n",
       "1  actix-web     botika  CONTRIBUTOR 2018-11-08 11:49:29\n",
       "2  actix-web   notogawa         NONE 2018-11-07 02:05:07\n",
       "3  actix-web   jtescher  CONTRIBUTOR 2018-11-07 00:18:26\n",
       "4  actix-web  legokichi         NONE 2018-11-05 09:11:39"
      ]
     },
     "execution_count": 8,
     "metadata": {},
     "output_type": "execute_result"
    }
   ],
   "source": [
    "pull_req = (\n",
    "    pandas.read_csv('../data/origin/pullrequests.csv.gz',\n",
    "                    compression='gzip',\n",
    "                    parse_dates=['closed_at','created_at','updated_at','merged_at'])\n",
    "    .append(\n",
    "    pandas.read_csv('../data/depend/pullrequests.csv.gz',\n",
    "                    compression='gzip',\n",
    "                    parse_dates=['closed_at','created_at','updated_at','merged_at']))\n",
    "    .drop(columns='Unnamed: 0')\n",
    "    .assign(Name= lambda x: x['project_name'].map(repos['Name']))\n",
    "    [['Name','user_login','author_assoc','created_at']]\n",
    ")\n",
    "pull_req.head()"
   ]
  },
  {
   "cell_type": "code",
   "execution_count": 9,
   "metadata": {},
   "outputs": [
    {
     "data": {
      "text/plain": [
       "(11268, 5)"
      ]
     },
     "execution_count": 9,
     "metadata": {},
     "output_type": "execute_result"
    }
   ],
   "source": [
    "pull_commit_activity = (\n",
    "    selected_commits\n",
    "    .drop('committer_name',axis=1)\n",
    "    .rename(columns={'author_name':'user_login','commit_date':'created_at'})\n",
    "    .assign(author_assoc='COLLABORATOR')\n",
    "    .assign(type='Ct')\n",
    "    .append(pull_req.assign(type='Pr'),ignore_index=True)\n",
    "    [['Name','user_login','author_assoc','created_at','type']]\n",
    "    .sort_values(['Name','user_login','created_at'])\n",
    "    .drop_duplicates(['Name','user_login'],keep='first')\n",
    ")\n",
    "pull_commit_activity.shape"
   ]
  },
  {
   "cell_type": "markdown",
   "metadata": {},
   "source": [
    "### The proportion of contributors with comments activity"
   ]
  },
  {
   "cell_type": "markdown",
   "metadata": {},
   "source": [
    "In this part we want to investigate what is the prpportion of contributors with comments activity versus contributors without."
   ]
  },
  {
   "cell_type": "code",
   "execution_count": 132,
   "metadata": {},
   "outputs": [],
   "source": [
    "comment_relation_all = (\n",
    "    pull_commit_activity\n",
    "    .merge(all_comments,how='inner',left_on=['Name','user_login'],right_on=['Name','user_login'])\n",
    "    .assign(created_at = lambda x: pandas.to_datetime(x['created_at_x']))\n",
    "    .assign(comment_at = lambda x: pandas.to_datetime(x['created_at_y']))\n",
    "    .rename(columns={'author_assoc_x':'author_assoc','type_x':'type','author_assoc_y':'commenter_assoc','type_y':'cmt_type'})\n",
    "    [['Name','user_login','created_at','author_assoc','type','commenter_assoc','comment_at','cmt_type']]\n",
    ")"
   ]
  },
  {
   "cell_type": "code",
   "execution_count": 138,
   "metadata": {
    "scrolled": true
   },
   "outputs": [
    {
     "name": "stdout",
     "output_type": "stream",
     "text": [
      "False\n",
      "True\n"
     ]
    },
    {
     "data": {
      "image/png": "[encoded data removed]",
      "text/plain": [
       "<Figure size 576x180 with 1 Axes>"
      ]
     },
     "metadata": {
      "needs_background": "light"
     },
     "output_type": "display_data"
    }
   ],
   "source": [
    "df_p2 = (\n",
    "    comment_relation_all\n",
    "    .assign(occurred = lambda x: x['created_at']>x['comment_at'])\n",
    "    .assign(count = 1)\n",
    "    .groupby([pandas.Grouper(key='created_at',freq='1M'),'occurred'])\n",
    "    .sum()\n",
    "    .reset_index()\n",
    ")\n",
    "plt.rcParams[\"figure.figsize\"] = (8,2.5)\n",
    "fig, ax = plt.subplots()\n",
    "\n",
    "for type in df_p2.occurred.unique():\n",
    "    print(type)\n",
    "    ax.plot(df_p2[lambda x: x['occurred']==type]['created_at'],df_p2[lambda x: x['occurred']==type]['count'])\n",
    "ax.set_xlabel('The proportion of contributors')\n",
    "ax.set_ylabel('')\n",
    "ax.legend(['without comment','with comment'],loc='upper left')\n",
    "ax.grid(True)"
   ]
  },
  {
   "cell_type": "markdown",
   "metadata": {},
   "source": [
    "This plot shows in our dataset the number of contributors with comment activity before start code activity is less than contributors without comment."
   ]
  },
  {
   "cell_type": "markdown",
   "metadata": {},
   "source": [
    "### Time interval between commenting activity and start contributing on a package."
   ]
  },
  {
   "cell_type": "code",
   "execution_count": 10,
   "metadata": {},
   "outputs": [],
   "source": [
    "comment_relation = (\n",
    "    pull_commit_activity\n",
    "    .merge(all_comments,how='inner',left_on=['Name','user_login'],right_on=['Name','user_login'])\n",
    "    .assign(created_at = lambda x: pandas.to_datetime(x['created_at_x']))\n",
    "    .assign(comment_at = lambda x: pandas.to_datetime(x['created_at_y']))\n",
    "    .rename(columns={'author_assoc_x':'author_assoc','type_x':'type','author_assoc_y':'commenter_assoc','type_y':'cmt_type'})\n",
    "    [['Name','user_login','created_at','author_assoc','type','commenter_assoc','comment_at','cmt_type']]\n",
    "    [lambda x: x['created_at']>x['comment_at']]\n",
    ")"
   ]
  },
  {
   "cell_type": "code",
   "execution_count": 144,
   "metadata": {},
   "outputs": [
    {
     "data": {
      "text/plain": [
       "<matplotlib.legend.Legend at 0x252a0dce438>"
      ]
     },
     "execution_count": 144,
     "metadata": {},
     "output_type": "execute_result"
    },
    {
     "data": {
      "image/png": "[encoded data removed]",
      "text/plain": [
       "<Figure size 576x180 with 1 Axes>"
      ]
     },
     "metadata": {
      "needs_background": "light"
     },
     "output_type": "display_data"
    }
   ],
   "source": [
    "df_plot_interval = (\n",
    "    comment_relation\n",
    "    .assign(interval = lambda x: (x['created_at'] - x['comment_at']).dt.total_seconds()/3600/24)\n",
    "    .groupby([pandas.Grouper(key='created_at',freq='1M')])\n",
    "    .describe()\n",
    "    .xs('interval', axis=1, drop_level=True)\n",
    "    .reset_index()\n",
    "    .set_index('created_at')\n",
    ")\n",
    "\n",
    "plt.rcParams[\"figure.figsize\"] = (8,2.5)\n",
    "fig, ax = plt.subplots()\n",
    "\n",
    "df_plot_interval['50%'].rename('median').plot(color=palet, ax=ax)\n",
    "df_plot_interval['mean'].plot(color=palet, style=':', ax=ax)\n",
    "ax.fill_between(df_plot_interval.index, df_plot_interval['25%'], df_plot_interval['75%'], facecolor=palet[0], alpha=0.2)\n",
    "ax.set(\n",
    "    xlabel='Time interval between commenting activity and start contributing on a package over years',\n",
    "    ylabel='Time interval (in days)',\n",
    "    xlim=DATE_RANGE,\n",
    ")\n",
    "ax.legend(loc='upper left')"
   ]
  },
  {
   "cell_type": "code",
   "execution_count": 146,
   "metadata": {
    "scrolled": false
   },
   "outputs": [
    {
     "data": {
      "text/plain": [
       "[Text(0.5, 0, 'Time inteval between start commenting on a package and start contributing in years')]"
      ]
     },
     "execution_count": 146,
     "metadata": {},
     "output_type": "execute_result"
    },
    {
     "data": {
      "image/png": "[encoded data removed]",
      "text/plain": [
       "<Figure size 288x576 with 1 Axes>"
      ]
     },
     "metadata": {
      "needs_background": "light"
     },
     "output_type": "display_data"
    }
   ],
   "source": [
    "plt.rcParams[\"figure.figsize\"] = (4,8)\n",
    "fig, ax = plt.subplots()\n",
    "\n",
    "seaborn.boxplot(\n",
    "    x='year', \n",
    "    y='interval', \n",
    "    data=(\n",
    "        comment_relation\n",
    "        .assign(interval = lambda x: (x['created_at'] - x['comment_at']).dt.total_seconds()/3600/24)\n",
    "        .assign(year = lambda x: x['created_at'].dt.year,axis=1)\n",
    "        [['year','interval']]\n",
    "    ),\n",
    "    order=range(2014, 2019),\n",
    "    palette=palet,\n",
    "    ax=ax,\n",
    "    fliersize=1,\n",
    "    showmeans=True,\n",
    "    showfliers=False,\n",
    "    meanprops=dict(marker='D', markeredgecolor='black', markerfacecolor='white')\n",
    ")\n",
    "\n",
    "ax.set(\n",
    "    xlabel='Time inteval between start commenting on a package and start contributing in years', \n",
    ")"
   ]
  },
  {
   "cell_type": "markdown",
   "metadata": {},
   "source": [
    "### Time interval between commenting activity and start contributing on a package and Type of comment"
   ]
  },
  {
   "cell_type": "markdown",
   "metadata": {},
   "source": [
    "This analysis can help us to understand how contributors behaviour changes regarding time interval between commenting activity and start contributing on a package and type of comments."
   ]
  },
  {
   "cell_type": "code",
   "execution_count": 176,
   "metadata": {
    "scrolled": false
   },
   "outputs": [
    {
     "name": "stdout",
     "output_type": "stream",
     "text": [
      "Commit\n",
      "Issue\n",
      "Pull request\n",
      "Pull\n"
     ]
    },
    {
     "data": {
      "text/plain": [
       "<matplotlib.legend.Legend at 0x252a078c780>"
      ]
     },
     "execution_count": 176,
     "metadata": {},
     "output_type": "execute_result"
    },
    {
     "data": {
      "image/png": "[encoded data removed]",
      "text/plain": [
       "<Figure size 576x180 with 1 Axes>"
      ]
     },
     "metadata": {
      "needs_background": "light"
     },
     "output_type": "display_data"
    }
   ],
   "source": [
    "df_tmp = (\n",
    "    comment_relation[['created_at','author_assoc','cmt_type']]\n",
    "    .assign(count=1)\n",
    "    .groupby([pandas.Grouper(key='created_at',freq='1M'),'cmt_type'])\n",
    "    .sum()\n",
    "    .unstack('cmt_type')\n",
    "    .fillna(0).rename(columns={'cmt': 'Commit',\n",
    "                               'pul': 'Pull',\n",
    "                               'isu': 'Issue',\n",
    "                               'prq': 'Pull request'})\n",
    ")\n",
    "df_tmp = df_tmp.xs('count', axis=1, drop_level=True).reset_index()\n",
    "plt.rcParams[\"figure.figsize\"] = (8,2.5)\n",
    "fig, ax = plt.subplots()\n",
    "\n",
    "\n",
    "for i in range(1,len(df_tmp.columns)):\n",
    "    ax.plot(df_tmp['created_at'],df_tmp[df_tmp.columns[i]],color= palet[i+2])\n",
    "ax.set_xlabel('time')\n",
    "ax.set_ylabel('type of comment')\n",
    "ax.grid(True)\n",
    "ax.legend(('Commit','Issue','Pull request','Pull'))"
   ]
  }
 ],
 "metadata": {
  "kernelspec": {
   "display_name": "Python 3",
   "language": "python",
   "name": "python3"
  },
  "language_info": {
   "codemirror_mode": {
    "name": "ipython",
    "version": 3
   },
   "file_extension": ".py",
   "mimetype": "text/x-python",
   "name": "python",
   "nbconvert_exporter": "python",
   "pygments_lexer": "ipython3",
   "version": "3.6.6"
  }
 },
 "nbformat": 4,
 "nbformat_minor": 2
}
