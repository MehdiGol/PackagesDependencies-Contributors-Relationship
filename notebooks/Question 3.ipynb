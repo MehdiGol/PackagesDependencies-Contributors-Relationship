{
 "cells": [
  {
   "cell_type": "markdown",
   "metadata": {},
   "source": [
    "# Question 3"
   ]
  },
  {
   "cell_type": "markdown",
   "metadata": {},
   "source": [
    "Is there some (temporal) relation between the commenting activity and the decision to start “contributing to\" a package? I would guess that new contributors/committers to the code of a package would first start by commenting to the package, and as they get more experiences they might go one step further and actually start submitting pull requests or even direct commits (depending on the development process followed)"
   ]
  },
  {
   "cell_type": "code",
   "execution_count": 37,
   "metadata": {},
   "outputs": [],
   "source": [
    "import pandas\n",
    "import matplotlib.pyplot as plt\n",
    "import seaborn\n",
    "import collections\n",
    "import itertools\n",
    "import numpy as np\n",
    "import warnings\n",
    "import subprocess\n",
    "import requests\n",
    "import lifelines\n",
    "\n",
    "\n",
    "import sys\n",
    "sys.path.append('..')\n",
    "\n",
    "from helper import load_data , load_repo ,read_comments , GIT_API\n",
    "warnings.filterwarnings('ignore')\n",
    "\n",
    "%matplotlib inline\n",
    "\n",
    "palet = seaborn.color_palette('hls', 8)[0:8]"
   ]
  },
  {
   "cell_type": "code",
   "execution_count": 2,
   "metadata": {},
   "outputs": [],
   "source": [
    "cargo = load_repo('Cargo')\n",
    "cargo_git = cargo[cargo.Repository_URL.notnull()]\n",
    "cargo_git = cargo_git[cargo_git.Repository_URL.str.contains('github')].drop_duplicates(subset='Repository_URL')\n",
    "repos = cargo_git[['Name','Repository_URL']].set_index('Repository_URL')"
   ]
  },
  {
   "cell_type": "code",
   "execution_count": 13,
   "metadata": {},
   "outputs": [
    {
     "data": {
      "text/html": [
       "<div>\n",
       "<style scoped>\n",
       "    .dataframe tbody tr th:only-of-type {\n",
       "        vertical-align: middle;\n",
       "    }\n",
       "\n",
       "    .dataframe tbody tr th {\n",
       "        vertical-align: top;\n",
       "    }\n",
       "\n",
       "    .dataframe thead th {\n",
       "        text-align: right;\n",
       "    }\n",
       "</style>\n",
       "<table border=\"1\" class=\"dataframe\">\n",
       "  <thead>\n",
       "    <tr style=\"text-align: right;\">\n",
       "      <th></th>\n",
       "      <th>Name</th>\n",
       "      <th>user_login</th>\n",
       "      <th>author_assoc</th>\n",
       "      <th>created_at</th>\n",
       "      <th>type</th>\n",
       "    </tr>\n",
       "  </thead>\n",
       "  <tbody>\n",
       "    <tr>\n",
       "      <th>130628</th>\n",
       "      <td>actix</td>\n",
       "      <td>Anton-4</td>\n",
       "      <td>NONE</td>\n",
       "      <td>2018-02-05 18:39:23</td>\n",
       "      <td>isu</td>\n",
       "    </tr>\n",
       "    <tr>\n",
       "      <th>130790</th>\n",
       "      <td>actix</td>\n",
       "      <td>Brooooooklyn</td>\n",
       "      <td>NONE</td>\n",
       "      <td>2018-08-01 17:11:35</td>\n",
       "      <td>pul</td>\n",
       "    </tr>\n",
       "    <tr>\n",
       "      <th>130752</th>\n",
       "      <td>actix</td>\n",
       "      <td>Cocalus</td>\n",
       "      <td>CONTRIBUTOR</td>\n",
       "      <td>2018-09-22 20:14:28</td>\n",
       "      <td>pul</td>\n",
       "    </tr>\n",
       "    <tr>\n",
       "      <th>130644</th>\n",
       "      <td>actix</td>\n",
       "      <td>DGolubets</td>\n",
       "      <td>CONTRIBUTOR</td>\n",
       "      <td>2017-12-12 18:32:30</td>\n",
       "      <td>isu</td>\n",
       "    </tr>\n",
       "    <tr>\n",
       "      <th>130601</th>\n",
       "      <td>actix</td>\n",
       "      <td>DoumanAsh</td>\n",
       "      <td>CONTRIBUTOR</td>\n",
       "      <td>2018-03-15 06:52:05</td>\n",
       "      <td>isu</td>\n",
       "    </tr>\n",
       "  </tbody>\n",
       "</table>\n",
       "</div>"
      ],
      "text/plain": [
       "         Name    user_login author_assoc          created_at type\n",
       "130628  actix       Anton-4         NONE 2018-02-05 18:39:23  isu\n",
       "130790  actix  Brooooooklyn         NONE 2018-08-01 17:11:35  pul\n",
       "130752  actix       Cocalus  CONTRIBUTOR 2018-09-22 20:14:28  pul\n",
       "130644  actix     DGolubets  CONTRIBUTOR 2017-12-12 18:32:30  isu\n",
       "130601  actix     DoumanAsh  CONTRIBUTOR 2018-03-15 06:52:05  isu"
      ]
     },
     "execution_count": 13,
     "metadata": {},
     "output_type": "execute_result"
    }
   ],
   "source": [
    "all_comments = (\n",
    "    read_comments()\n",
    "    .assign(created_at = lambda x: pandas.to_datetime(x['created_at']))\n",
    "    [['Name','user_login','author_assoc','created_at','type']]\n",
    "    .sort_values(['Name','user_login','created_at'])\n",
    "    .drop_duplicates(['Name','user_login'],keep='first')\n",
    ")\n",
    "\n",
    "all_comments.head()"
   ]
  },
  {
   "cell_type": "code",
   "execution_count": 4,
   "metadata": {},
   "outputs": [],
   "source": [
    "packages, dependencies = load_data('Cargo')\n",
    "packages_dependencies = (\n",
    "    packages.merge(dependencies,left_on=['package','version'], right_on=['package','version'])\n",
    "    .sort_values(['package','date'])\n",
    "    .reset_index()\n",
    "    .drop('index',axis=1)\n",
    "    .drop_duplicates(['package','target'],keep='first')\n",
    ")"
   ]
  },
  {
   "cell_type": "code",
   "execution_count": 5,
   "metadata": {},
   "outputs": [],
   "source": [
    "commits = pandas.read_csv('../data/commitlogs1.csv.gz',compression='gzip',parse_dates=['commit_date'])"
   ]
  },
  {
   "cell_type": "code",
   "execution_count": 6,
   "metadata": {},
   "outputs": [],
   "source": [
    "selected_repos = (\n",
    "    pandas.read_csv('../data/origin/selected_origins.csv')\n",
    "    .append(pandas.read_csv('../data/depend/selected_dependencies.csv'))\n",
    ")"
   ]
  },
  {
   "cell_type": "code",
   "execution_count": 7,
   "metadata": {},
   "outputs": [
    {
     "data": {
      "text/html": [
       "<div>\n",
       "<style scoped>\n",
       "    .dataframe tbody tr th:only-of-type {\n",
       "        vertical-align: middle;\n",
       "    }\n",
       "\n",
       "    .dataframe tbody tr th {\n",
       "        vertical-align: top;\n",
       "    }\n",
       "\n",
       "    .dataframe thead th {\n",
       "        text-align: right;\n",
       "    }\n",
       "</style>\n",
       "<table border=\"1\" class=\"dataframe\">\n",
       "  <thead>\n",
       "    <tr style=\"text-align: right;\">\n",
       "      <th></th>\n",
       "      <th>Name</th>\n",
       "      <th>commit_date</th>\n",
       "      <th>author_name</th>\n",
       "      <th>committer_name</th>\n",
       "    </tr>\n",
       "  </thead>\n",
       "  <tbody>\n",
       "    <tr>\n",
       "      <th>0</th>\n",
       "      <td>itertools</td>\n",
       "      <td>2018-08-27 20:11:09</td>\n",
       "      <td>bluss</td>\n",
       "      <td>GitHub</td>\n",
       "    </tr>\n",
       "    <tr>\n",
       "      <th>1</th>\n",
       "      <td>itertools</td>\n",
       "      <td>2018-08-27 06:31:53</td>\n",
       "      <td>Aleksey Kladov</td>\n",
       "      <td>Aleksey Kladov</td>\n",
       "    </tr>\n",
       "    <tr>\n",
       "      <th>2</th>\n",
       "      <td>itertools</td>\n",
       "      <td>2018-06-30 09:09:15</td>\n",
       "      <td>bluss</td>\n",
       "      <td>GitHub</td>\n",
       "    </tr>\n",
       "    <tr>\n",
       "      <th>3</th>\n",
       "      <td>itertools</td>\n",
       "      <td>2018-06-27 17:36:00</td>\n",
       "      <td>Jim Turner</td>\n",
       "      <td>Jim Turner</td>\n",
       "    </tr>\n",
       "    <tr>\n",
       "      <th>4</th>\n",
       "      <td>itertools</td>\n",
       "      <td>2018-06-23 11:15:04</td>\n",
       "      <td>bluss</td>\n",
       "      <td>GitHub</td>\n",
       "    </tr>\n",
       "  </tbody>\n",
       "</table>\n",
       "</div>"
      ],
      "text/plain": [
       "        Name         commit_date     author_name  committer_name\n",
       "0  itertools 2018-08-27 20:11:09           bluss          GitHub\n",
       "1  itertools 2018-08-27 06:31:53  Aleksey Kladov  Aleksey Kladov\n",
       "2  itertools 2018-06-30 09:09:15           bluss          GitHub\n",
       "3  itertools 2018-06-27 17:36:00      Jim Turner      Jim Turner\n",
       "4  itertools 2018-06-23 11:15:04           bluss          GitHub"
      ]
     },
     "execution_count": 7,
     "metadata": {},
     "output_type": "execute_result"
    }
   ],
   "source": [
    "selected_commits = (\n",
    "    commits[commits['project_name'].isin(selected_repos['Repository_URL'])]\n",
    "    .assign(Name= lambda x: x['project_name'].map(repos['Name']))\n",
    "    [['Name','commit_date','author_name','committer_name']]\n",
    ")\n",
    "selected_commits.head()"
   ]
  },
  {
   "cell_type": "code",
   "execution_count": 8,
   "metadata": {},
   "outputs": [
    {
     "data": {
      "text/html": [
       "<div>\n",
       "<style scoped>\n",
       "    .dataframe tbody tr th:only-of-type {\n",
       "        vertical-align: middle;\n",
       "    }\n",
       "\n",
       "    .dataframe tbody tr th {\n",
       "        vertical-align: top;\n",
       "    }\n",
       "\n",
       "    .dataframe thead th {\n",
       "        text-align: right;\n",
       "    }\n",
       "</style>\n",
       "<table border=\"1\" class=\"dataframe\">\n",
       "  <thead>\n",
       "    <tr style=\"text-align: right;\">\n",
       "      <th></th>\n",
       "      <th>Name</th>\n",
       "      <th>user_login</th>\n",
       "      <th>author_assoc</th>\n",
       "      <th>created_at</th>\n",
       "    </tr>\n",
       "  </thead>\n",
       "  <tbody>\n",
       "    <tr>\n",
       "      <th>0</th>\n",
       "      <td>actix-web</td>\n",
       "      <td>zpgaal</td>\n",
       "      <td>NONE</td>\n",
       "      <td>2018-11-09 08:57:09</td>\n",
       "    </tr>\n",
       "    <tr>\n",
       "      <th>1</th>\n",
       "      <td>actix-web</td>\n",
       "      <td>botika</td>\n",
       "      <td>CONTRIBUTOR</td>\n",
       "      <td>2018-11-08 11:49:29</td>\n",
       "    </tr>\n",
       "    <tr>\n",
       "      <th>2</th>\n",
       "      <td>actix-web</td>\n",
       "      <td>notogawa</td>\n",
       "      <td>NONE</td>\n",
       "      <td>2018-11-07 02:05:07</td>\n",
       "    </tr>\n",
       "    <tr>\n",
       "      <th>3</th>\n",
       "      <td>actix-web</td>\n",
       "      <td>jtescher</td>\n",
       "      <td>CONTRIBUTOR</td>\n",
       "      <td>2018-11-07 00:18:26</td>\n",
       "    </tr>\n",
       "    <tr>\n",
       "      <th>4</th>\n",
       "      <td>actix-web</td>\n",
       "      <td>legokichi</td>\n",
       "      <td>NONE</td>\n",
       "      <td>2018-11-05 09:11:39</td>\n",
       "    </tr>\n",
       "  </tbody>\n",
       "</table>\n",
       "</div>"
      ],
      "text/plain": [
       "        Name user_login author_assoc          created_at\n",
       "0  actix-web     zpgaal         NONE 2018-11-09 08:57:09\n",
       "1  actix-web     botika  CONTRIBUTOR 2018-11-08 11:49:29\n",
       "2  actix-web   notogawa         NONE 2018-11-07 02:05:07\n",
       "3  actix-web   jtescher  CONTRIBUTOR 2018-11-07 00:18:26\n",
       "4  actix-web  legokichi         NONE 2018-11-05 09:11:39"
      ]
     },
     "execution_count": 8,
     "metadata": {},
     "output_type": "execute_result"
    }
   ],
   "source": [
    "pull_req = (\n",
    "    pandas.read_csv('../data/origin/pullrequests.csv.gz',\n",
    "                    compression='gzip',\n",
    "                    parse_dates=['closed_at','created_at','updated_at','merged_at'])\n",
    "    .append(\n",
    "    pandas.read_csv('../data/depend/pullrequests.csv.gz',\n",
    "                    compression='gzip',\n",
    "                    parse_dates=['closed_at','created_at','updated_at','merged_at']))\n",
    "    .drop(columns='Unnamed: 0')\n",
    "    .assign(Name= lambda x: x['project_name'].map(repos['Name']))\n",
    "    [['Name','user_login','author_assoc','created_at']]\n",
    ")\n",
    "pull_req.head()"
   ]
  },
  {
   "cell_type": "code",
   "execution_count": 9,
   "metadata": {},
   "outputs": [
    {
     "data": {
      "text/plain": [
       "(11268, 5)"
      ]
     },
     "execution_count": 9,
     "metadata": {},
     "output_type": "execute_result"
    }
   ],
   "source": [
    "pull_commit_activity = (\n",
    "    selected_commits\n",
    "    .drop('committer_name',axis=1)\n",
    "    .rename(columns={'author_name':'user_login','commit_date':'created_at'})\n",
    "    .assign(author_assoc='COLLABORATOR')\n",
    "    .assign(type='Ct')\n",
    "    .append(pull_req.assign(type='Pr'),ignore_index=True)\n",
    "    [['Name','user_login','author_assoc','created_at','type']]\n",
    "    .sort_values(['Name','user_login','created_at'])\n",
    "    .drop_duplicates(['Name','user_login'],keep='first')\n",
    ")\n",
    "pull_commit_activity.shape"
   ]
  },
  {
   "cell_type": "code",
   "execution_count": 16,
   "metadata": {},
   "outputs": [],
   "source": [
    "comment_relation = (\n",
    "    pull_commit_activity\n",
    "    .merge(all_comments,how='inner',left_on=['Name','user_login'],right_on=['Name','user_login'])\n",
    "    .assign(created_at = lambda x: pandas.to_datetime(x['created_at_x']))\n",
    "    .assign(comment_at = lambda x: pandas.to_datetime(x['created_at_y']))\n",
    "    .rename(columns={'author_assoc_x':'author_assoc','type_x':'type','author_assoc_y':'commenter_assoc','type_y':'cmt_type'})\n",
    "    [['Name','user_login','created_at','author_assoc','type','commenter_assoc','comment_at','cmt_type']]\n",
    "    [lambda x: x['created_at']>x['comment_at']]\n",
    ")"
   ]
  },
  {
   "cell_type": "code",
   "execution_count": 18,
   "metadata": {},
   "outputs": [
    {
     "data": {
      "text/html": [
       "<div>\n",
       "<style scoped>\n",
       "    .dataframe tbody tr th:only-of-type {\n",
       "        vertical-align: middle;\n",
       "    }\n",
       "\n",
       "    .dataframe tbody tr th {\n",
       "        vertical-align: top;\n",
       "    }\n",
       "\n",
       "    .dataframe thead th {\n",
       "        text-align: right;\n",
       "    }\n",
       "</style>\n",
       "<table border=\"1\" class=\"dataframe\">\n",
       "  <thead>\n",
       "    <tr style=\"text-align: right;\">\n",
       "      <th></th>\n",
       "      <th>Name</th>\n",
       "      <th>user_login</th>\n",
       "      <th>created_at</th>\n",
       "      <th>author_assoc</th>\n",
       "      <th>type</th>\n",
       "      <th>commenter_assoc</th>\n",
       "      <th>comment_at</th>\n",
       "      <th>cmt_type</th>\n",
       "    </tr>\n",
       "  </thead>\n",
       "  <tbody>\n",
       "    <tr>\n",
       "      <th>2</th>\n",
       "      <td>actix</td>\n",
       "      <td>DGolubets</td>\n",
       "      <td>2017-12-12 23:29:09</td>\n",
       "      <td>CONTRIBUTOR</td>\n",
       "      <td>Pr</td>\n",
       "      <td>CONTRIBUTOR</td>\n",
       "      <td>2017-12-12 18:32:30</td>\n",
       "      <td>isu</td>\n",
       "    </tr>\n",
       "    <tr>\n",
       "      <th>3</th>\n",
       "      <td>actix</td>\n",
       "      <td>DoumanAsh</td>\n",
       "      <td>2018-06-14 14:30:24</td>\n",
       "      <td>CONTRIBUTOR</td>\n",
       "      <td>Pr</td>\n",
       "      <td>CONTRIBUTOR</td>\n",
       "      <td>2018-03-15 06:52:05</td>\n",
       "      <td>isu</td>\n",
       "    </tr>\n",
       "    <tr>\n",
       "      <th>5</th>\n",
       "      <td>actix</td>\n",
       "      <td>GooseDB</td>\n",
       "      <td>2018-10-05 14:10:43</td>\n",
       "      <td>CONTRIBUTOR</td>\n",
       "      <td>Pr</td>\n",
       "      <td>CONTRIBUTOR</td>\n",
       "      <td>2018-10-02 22:49:19</td>\n",
       "      <td>isu</td>\n",
       "    </tr>\n",
       "    <tr>\n",
       "      <th>6</th>\n",
       "      <td>actix</td>\n",
       "      <td>Xorlev</td>\n",
       "      <td>2018-07-07 02:42:00</td>\n",
       "      <td>CONTRIBUTOR</td>\n",
       "      <td>Pr</td>\n",
       "      <td>CONTRIBUTOR</td>\n",
       "      <td>2018-07-06 05:25:23</td>\n",
       "      <td>isu</td>\n",
       "    </tr>\n",
       "    <tr>\n",
       "      <th>8</th>\n",
       "      <td>actix</td>\n",
       "      <td>callym</td>\n",
       "      <td>2017-11-16 12:33:53</td>\n",
       "      <td>NONE</td>\n",
       "      <td>Pr</td>\n",
       "      <td>NONE</td>\n",
       "      <td>2017-11-04 16:19:22</td>\n",
       "      <td>isu</td>\n",
       "    </tr>\n",
       "  </tbody>\n",
       "</table>\n",
       "</div>"
      ],
      "text/plain": [
       "    Name user_login          created_at author_assoc type commenter_assoc  \\\n",
       "2  actix  DGolubets 2017-12-12 23:29:09  CONTRIBUTOR   Pr     CONTRIBUTOR   \n",
       "3  actix  DoumanAsh 2018-06-14 14:30:24  CONTRIBUTOR   Pr     CONTRIBUTOR   \n",
       "5  actix    GooseDB 2018-10-05 14:10:43  CONTRIBUTOR   Pr     CONTRIBUTOR   \n",
       "6  actix     Xorlev 2018-07-07 02:42:00  CONTRIBUTOR   Pr     CONTRIBUTOR   \n",
       "8  actix     callym 2017-11-16 12:33:53         NONE   Pr            NONE   \n",
       "\n",
       "           comment_at cmt_type  \n",
       "2 2017-12-12 18:32:30      isu  \n",
       "3 2018-03-15 06:52:05      isu  \n",
       "5 2018-10-02 22:49:19      isu  \n",
       "6 2018-07-06 05:25:23      isu  \n",
       "8 2017-11-04 16:19:22      isu  "
      ]
     },
     "execution_count": 18,
     "metadata": {},
     "output_type": "execute_result"
    }
   ],
   "source": [
    "comment_relation.head()"
   ]
  },
  {
   "cell_type": "code",
   "execution_count": 28,
   "metadata": {},
   "outputs": [
    {
     "data": {
      "text/plain": [
       "[Text(0.5, 0, 'Time difference between start commenting on a package and start contributing')]"
      ]
     },
     "execution_count": 28,
     "metadata": {},
     "output_type": "execute_result"
    },
    {
     "data": {
      "image/png": "[encoded data removed]",
      "text/plain": [
       "<Figure size 288x576 with 1 Axes>"
      ]
     },
     "metadata": {
      "needs_background": "light"
     },
     "output_type": "display_data"
    }
   ],
   "source": [
    "plt.rcParams[\"figure.figsize\"] = (4,8)\n",
    "fig, ax = plt.subplots()\n",
    "\n",
    "seaborn.boxplot(\n",
    "    x='year', \n",
    "    y='interval', \n",
    "    data=(\n",
    "        comment_relation\n",
    "        .assign(interval=lambda x: (x['created_at'] - x['comment_at']).dt.total_seconds()/3600/24)\n",
    "        .assign(year=lambda x: x['created_at'].dt.year,axis=1)\n",
    "        [['year','interval']]\n",
    "    ),\n",
    "    order=range(2014, 2019),\n",
    "    palette=palet,\n",
    "    ax=ax,\n",
    "    fliersize=1,\n",
    "    showmeans=True,\n",
    "    showfliers=False,\n",
    "    meanprops=dict(marker='D', markeredgecolor='black', markerfacecolor='white')\n",
    ")\n",
    "\n",
    "ax.set(\n",
    "    xlabel='Time difference between start commenting on a package and start contributing', \n",
    ")"
   ]
  },
  {
   "cell_type": "code",
   "execution_count": 29,
   "metadata": {},
   "outputs": [
    {
     "data": {
      "text/plain": [
       "[Text(0.5, 0, 'Time difference between start commenting on a package and start contributing')]"
      ]
     },
     "execution_count": 29,
     "metadata": {},
     "output_type": "execute_result"
    },
    {
     "data": {
      "image/png": "[encoded data removed]",
      "text/plain": [
       "<Figure size 288x576 with 1 Axes>"
      ]
     },
     "metadata": {
      "needs_background": "light"
     },
     "output_type": "display_data"
    }
   ],
   "source": [
    "plt.rcParams[\"figure.figsize\"] = (4,8)\n",
    "fig, ax = plt.subplots()\n",
    "\n",
    "seaborn.boxplot(\n",
    "    x='cmt_type', \n",
    "    y='interval', \n",
    "    data=(\n",
    "        comment_relation\n",
    "        .assign(interval=lambda x: (x['created_at'] - x['comment_at']).dt.total_seconds()/3600/24)\n",
    "        [['cmt_type','interval']]\n",
    "    ),\n",
    "    palette=palet,\n",
    "    ax=ax,\n",
    "    fliersize=1,\n",
    "    showmeans=True,\n",
    "    showfliers=False,\n",
    "    meanprops=dict(marker='D', markeredgecolor='black', markerfacecolor='white')\n",
    ")\n",
    "\n",
    "ax.set(\n",
    "    xlabel='Time difference between start commenting on a package and start contributing', \n",
    ")"
   ]
  },
  {
   "cell_type": "code",
   "execution_count": 38,
   "metadata": {},
   "outputs": [
    {
     "data": {
      "text/plain": [
       "<matplotlib.legend.Legend at 0x1fd957e4518>"
      ]
     },
     "execution_count": 38,
     "metadata": {},
     "output_type": "execute_result"
    },
    {
     "data": {
      "image/png": "[encoded data removed]",
      "text/plain": [
       "<Figure size 576x180 with 1 Axes>"
      ]
     },
     "metadata": {
      "needs_background": "light"
     },
     "output_type": "display_data"
    }
   ],
   "source": [
    "df_tmp = (\n",
    "    comment_relation[['created_at','author_assoc','cmt_type']]\n",
    "    .assign(count=1)\n",
    "    .groupby([pandas.Grouper(key='created_at',freq='1M'),'cmt_type'])\n",
    "    .sum()\n",
    "    .unstack('cmt_type')\n",
    "    .fillna(0).rename(columns={'cmt': 'Commit',\n",
    "                               'pul': 'Pull',\n",
    "                               'isu': 'Issue',\n",
    "                               'prq': 'Pull request'})\n",
    ")\n",
    "df_tmp = df_tmp.xs('count', axis=1, drop_level=True).reset_index()\n",
    "plt.rcParams[\"figure.figsize\"] = (8,2.5)\n",
    "fig, ax = plt.subplots()\n",
    "\n",
    "\n",
    "for i in range(1,len(df_tmp.columns)):\n",
    "    ax.plot(df_tmp['created_at'],df_tmp[df_tmp.columns[i]],color= palet[i+2])\n",
    "ax.set_xlabel('time')\n",
    "ax.set_ylabel('type of comment')\n",
    "ax.grid(True)\n",
    "ax.legend(('Commit','Issue','Pull request','Pull'))"
   ]
  },
  {
   "cell_type": "code",
   "execution_count": null,
   "metadata": {},
   "outputs": [],
   "source": []
  }
 ],
 "metadata": {
  "kernelspec": {
   "display_name": "Python 3",
   "language": "python",
   "name": "python3"
  },
  "language_info": {
   "codemirror_mode": {
    "name": "ipython",
    "version": 3
   },
   "file_extension": ".py",
   "mimetype": "text/x-python",
   "name": "python",
   "nbconvert_exporter": "python",
   "pygments_lexer": "ipython3",
   "version": "3.6.6"
  }
 },
 "nbformat": 4,
 "nbformat_minor": 2
}
