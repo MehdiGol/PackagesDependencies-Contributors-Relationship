{
 "cells": [
  {
   "cell_type": "code",
   "execution_count": 4,
   "metadata": {},
   "outputs": [],
   "source": [
    "import pandas\n",
    "import matplotlib\n",
    "import seaborn\n",
    "import collections\n",
    "import itertools\n",
    "import requests\n",
    "import threading\n",
    "\n",
    "%matplotlib inline"
   ]
  },
  {
   "cell_type": "code",
   "execution_count": 10,
   "metadata": {},
   "outputs": [],
   "source": [
    "github =  ['ea4b6eec52dce28ec7fa:7959c04f36e84e8c701279b3cea1aef8b596088a',\n",
    "           '13ebff80c1f67316e889:2e9cc995164db8438dd7f776ab53af4592353c1f',\n",
    "           'be243f299d5b56b105e0:3982847d4312aa7cbed09da43cf6f39ace1beb6a',\n",
    "           '1b08271f98996e347123:d8e0dfbe1fd136b76585a50d7e89b80492f0fb4e',\n",
    "           'fe57e2e032d3230c1766:244315313d02e9146061bc6946c61d145121fbbe',\n",
    "           'c2bf131a500f55730b6c:b9e8de22e6575495eb493b18fcebd48d0df6ffef',\n",
    "           '2d7a20e9b74893c3aca7:ceeb0fb792c336f8567981881798d906f9948118',\n",
    "           'dda03c75918b37514d85:8e1760a5500fd75d73452e0a8329d0b1f15c4be2',\n",
    "           '1ba77e5c592d462e7ae4:535199ceacbda6130156b0ebda64926a6e139c5d',\n",
    "           'ff9e74acc730af8ead4d:811f5bee820d058aad60d32fed3074d535201f95',\n",
    "           'ef066c3b2f51f82e904b:11984fde063725cb1c0e982033903d52b789b562',\n",
    "           'bbb3a7cd0b231237aac5:c9e66b2b92ee97660e2c38254f802e305b8e8ab4']\n",
    "not_processed = list()\n",
    "def get_chunk_data(git,index):\n",
    "    try:\n",
    "        all_comments = pandas.read_csv('../../data/commitcomments/comments{}.csv'.format(index))\n",
    "    except:\n",
    "        all_comments = pandas.DataFrame(columns=[\"id\",\"project_name\",\"commit_hash\",\"user_name\",\"user_type\",\"comment_author_assoc\",\"comment_created_at\"])\n",
    "    all_commits = pandas.read_csv('../../data/commits/commit{}.csv'.format(index))\n",
    "    \n",
    "    for i in range(0,len(all_commits)):\n",
    "        if all_commits.loc[i][0] in all_comments.id.unique():\n",
    "            continue\n",
    "        \n",
    "        # Create comment url + client info to increase the request limit\n",
    "        comment_url = 'https://api.github.com/repos/{}/{}/commits/{}/comments?client_id={}&client_secret={}'.format(\n",
    "            all_commits.loc[i].project_name.split('/')[3] ,\n",
    "            all_commits.loc[i].project_name.split('/')[4] ,\n",
    "            all_commits.loc[i].commit_hash ,\n",
    "            github[git].split(':')[0] , github[git].split(':')[1] )\n",
    "        \n",
    "        try:\n",
    "            req = requests.get(comment_url)\n",
    "            # if request was successful read data\n",
    "            data = req.json()\n",
    "            # if data is empty\n",
    "            if data == []:\n",
    "                all_comments = all_comments.append({\n",
    "                    \"id\":all_commits.loc[i][0],\n",
    "                    \"project_name\": all_commits.loc[i].project_name,\n",
    "                    \"commit_hash\": all_commits.loc[i].commit_hash,\n",
    "                    \"user_name\": '',\n",
    "                    \"user_type\": '',\n",
    "                    \"comment_author_assoc\": '',\n",
    "                    \"comment_created_at\": '' },ignore_index=True)\n",
    "            else:\n",
    "                if('message' in data):\n",
    "                    all_comments = all_comments.append({\n",
    "                        \"id\":all_commits.loc[i][0],\n",
    "                        \"project_name\": all_commits.loc[i].project_name,\n",
    "                        \"commit_hash\": all_commits.loc[i].commit_hash,\n",
    "                        \"user_name\": 'nf',\n",
    "                        \"user_type\": 'nf',\n",
    "                        \"comment_author_assoc\": 'nf',\n",
    "                        \"comment_created_at\": 'nf' },ignore_index=True)\n",
    "\n",
    "                for comment in data:\n",
    "                    all_comments = all_comments.append({\n",
    "                        \"id\":all_commits.loc[i][0],\n",
    "                        \"project_name\": all_commits.loc[i].project_name,\n",
    "                        \"commit_hash\": comment['commit_id'],\n",
    "                        \"user_name\": comment['user']['login'],\n",
    "                        \"user_type\": comment['user']['type'],\n",
    "                        \"comment_author_assoc\": comment['author_association'],\n",
    "                        \"comment_created_at\": comment['created_at']},ignore_index=True)\n",
    "        except:\n",
    "            print(comment_url)\n",
    "            not_processed.append(comment_url)\n",
    "\n",
    "        print('{} - {} - {}'.format(all_commits.loc[i][0],len(all_comments),req.headers['X-RateLimit-Remaining']))\n",
    "    all_comments.to_csv('../../data/commitcomments/comments{}.csv'.format(index))"
   ]
  },
  {
   "cell_type": "code",
   "execution_count": 11,
   "metadata": {},
   "outputs": [
    {
     "name": "stdout",
     "output_type": "stream",
     "text": [
      "0 - 1 - 4949\n",
      "1 - 2 - 4948\n",
      "2 - 3 - 4947\n",
      "3 - 4 - 4946\n",
      "4 - 5 - 4945\n",
      "5 - 6 - 4944\n",
      "6 - 7 - 4943\n",
      "7 - 8 - 4942\n",
      "8 - 9 - 4941\n",
      "9 - 10 - 4940\n"
     ]
    }
   ],
   "source": [
    "get_chunk_data(5,30)"
   ]
  },
  {
   "cell_type": "code",
   "execution_count": null,
   "metadata": {},
   "outputs": [],
   "source": []
  }
 ],
 "metadata": {
  "kernelspec": {
   "display_name": "Python 3",
   "language": "python",
   "name": "python3"
  },
  "language_info": {
   "codemirror_mode": {
    "name": "ipython",
    "version": 3
   },
   "file_extension": ".py",
   "mimetype": "text/x-python",
   "name": "python",
   "nbconvert_exporter": "python",
   "pygments_lexer": "ipython3",
   "version": "3.6.5"
  }
 },
 "nbformat": 4,
 "nbformat_minor": 2
}
