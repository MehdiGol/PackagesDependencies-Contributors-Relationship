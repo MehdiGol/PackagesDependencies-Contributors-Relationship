{
 "cells": [
  {
   "cell_type": "markdown",
   "metadata": {},
   "source": [
    "# Exploring Data\n",
    "This notebook is aimed to explore cargo repo data"
   ]
  },
  {
   "cell_type": "code",
   "execution_count": 1,
   "metadata": {},
   "outputs": [],
   "source": [
    "import pandas\n",
    "import matplotlib\n",
    "import seaborn\n",
    "import collections\n",
    "import itertools\n",
    "import numpy as np\n",
    "import warnings\n",
    "import subprocess\n",
    "\n",
    "\n",
    "import sys\n",
    "sys.path.append('..')\n",
    "\n",
    "from helper import load_data , load_repo\n",
    "warnings.filterwarnings('ignore')\n",
    "\n",
    "%matplotlib inline"
   ]
  },
  {
   "cell_type": "markdown",
   "metadata": {},
   "source": [
    "# Load Cargo"
   ]
  },
  {
   "cell_type": "code",
   "execution_count": 2,
   "metadata": {},
   "outputs": [],
   "source": [
    "cargo = load_repo('Cargo')"
   ]
  },
  {
   "cell_type": "code",
   "execution_count": 3,
   "metadata": {},
   "outputs": [],
   "source": [
    "cargo_git = cargo[cargo.Repository_URL.notnull()]\n",
    "cargo_git = cargo_git[cargo_git.Repository_URL.str.contains('github')]\n",
    "cargo_git = cargo_git.drop_duplicates(subset='Repository_URL')"
   ]
  },
  {
   "cell_type": "markdown",
   "metadata": {},
   "source": [
    "# Load Dependencies"
   ]
  },
  {
   "cell_type": "code",
   "execution_count": 4,
   "metadata": {},
   "outputs": [
    {
     "name": "stdout",
     "output_type": "stream",
     "text": [
      "<class 'pandas.core.frame.DataFrame'>\n",
      "Int64Index: 302834 entries, 0 to 302833\n",
      "Data columns (total 4 columns):\n",
      "package       302834 non-null object\n",
      "version       302834 non-null object\n",
      "target        302834 non-null object\n",
      "constraint    302834 non-null object\n",
      "dtypes: object(4)\n",
      "memory usage: 11.6+ MB\n"
     ]
    }
   ],
   "source": [
    "packages, dependencies = load_data('Cargo')\n",
    "dependencies.info()"
   ]
  },
  {
   "cell_type": "markdown",
   "metadata": {},
   "source": [
    "All unique cargo packages and adding a column as package-version combination"
   ]
  },
  {
   "cell_type": "code",
   "execution_count": 5,
   "metadata": {
    "scrolled": true
   },
   "outputs": [
    {
     "data": {
      "text/html": [
       "<div>\n",
       "<style scoped>\n",
       "    .dataframe tbody tr th:only-of-type {\n",
       "        vertical-align: middle;\n",
       "    }\n",
       "\n",
       "    .dataframe tbody tr th {\n",
       "        vertical-align: top;\n",
       "    }\n",
       "\n",
       "    .dataframe thead th {\n",
       "        text-align: right;\n",
       "    }\n",
       "</style>\n",
       "<table border=\"1\" class=\"dataframe\">\n",
       "  <thead>\n",
       "    <tr style=\"text-align: right;\">\n",
       "      <th></th>\n",
       "      <th>package</th>\n",
       "      <th>version</th>\n",
       "      <th>date</th>\n",
       "      <th>pack_ver</th>\n",
       "    </tr>\n",
       "  </thead>\n",
       "  <tbody>\n",
       "    <tr>\n",
       "      <th>0</th>\n",
       "      <td>acorn</td>\n",
       "      <td>1.0.0</td>\n",
       "      <td>2014-11-21 01:13:02</td>\n",
       "      <td>acorn1.0.0</td>\n",
       "    </tr>\n",
       "    <tr>\n",
       "      <th>1</th>\n",
       "      <td>a</td>\n",
       "      <td>0.0.1</td>\n",
       "      <td>2014-11-21 00:06:54</td>\n",
       "      <td>a0.0.1</td>\n",
       "    </tr>\n",
       "    <tr>\n",
       "      <th>9</th>\n",
       "      <td>acacia</td>\n",
       "      <td>0.1.2</td>\n",
       "      <td>2017-02-26 16:14:51</td>\n",
       "      <td>acacia0.1.2</td>\n",
       "    </tr>\n",
       "    <tr>\n",
       "      <th>19</th>\n",
       "      <td>abort_on_panic</td>\n",
       "      <td>2.0.0</td>\n",
       "      <td>2017-11-29 21:58:03</td>\n",
       "      <td>abort_on_panic2.0.0</td>\n",
       "    </tr>\n",
       "    <tr>\n",
       "      <th>20</th>\n",
       "      <td>adamantium</td>\n",
       "      <td>0.0.1</td>\n",
       "      <td>2014-11-21 06:48:26</td>\n",
       "      <td>adamantium0.0.1</td>\n",
       "    </tr>\n",
       "    <tr>\n",
       "      <th>21</th>\n",
       "      <td>aio</td>\n",
       "      <td>0.0.1</td>\n",
       "      <td>2015-01-04 21:30:57</td>\n",
       "      <td>aio0.0.1</td>\n",
       "    </tr>\n",
       "    <tr>\n",
       "      <th>29</th>\n",
       "      <td>advapi32-sys</td>\n",
       "      <td>0.2.0</td>\n",
       "      <td>2016-02-08 01:05:06</td>\n",
       "      <td>advapi32-sys0.2.0</td>\n",
       "    </tr>\n",
       "    <tr>\n",
       "      <th>49</th>\n",
       "      <td>alfred</td>\n",
       "      <td>4.0.1</td>\n",
       "      <td>2017-11-13 19:46:50</td>\n",
       "      <td>alfred4.0.1</td>\n",
       "    </tr>\n",
       "    <tr>\n",
       "      <th>62</th>\n",
       "      <td>algebloat</td>\n",
       "      <td>0.0.8</td>\n",
       "      <td>2015-04-17 03:48:15</td>\n",
       "      <td>algebloat0.0.8</td>\n",
       "    </tr>\n",
       "    <tr>\n",
       "      <th>75</th>\n",
       "      <td>algebloat_macros</td>\n",
       "      <td>0.0.8</td>\n",
       "      <td>2015-04-17 03:48:07</td>\n",
       "      <td>algebloat_macros0.0.8</td>\n",
       "    </tr>\n",
       "  </tbody>\n",
       "</table>\n",
       "</div>"
      ],
      "text/plain": [
       "             package version                date               pack_ver\n",
       "0              acorn   1.0.0 2014-11-21 01:13:02             acorn1.0.0\n",
       "1                  a   0.0.1 2014-11-21 00:06:54                 a0.0.1\n",
       "9             acacia   0.1.2 2017-02-26 16:14:51            acacia0.1.2\n",
       "19    abort_on_panic   2.0.0 2017-11-29 21:58:03    abort_on_panic2.0.0\n",
       "20        adamantium   0.0.1 2014-11-21 06:48:26        adamantium0.0.1\n",
       "21               aio   0.0.1 2015-01-04 21:30:57               aio0.0.1\n",
       "29      advapi32-sys   0.2.0 2016-02-08 01:05:06      advapi32-sys0.2.0\n",
       "49            alfred   4.0.1 2017-11-13 19:46:50            alfred4.0.1\n",
       "62         algebloat   0.0.8 2015-04-17 03:48:15         algebloat0.0.8\n",
       "75  algebloat_macros   0.0.8 2015-04-17 03:48:07  algebloat_macros0.0.8"
      ]
     },
     "execution_count": 5,
     "metadata": {},
     "output_type": "execute_result"
    }
   ],
   "source": [
    "unique_cargo_packages = packages.drop_duplicates(subset='package',keep = 'last')\n",
    "unique_cargo_packages['pack_ver'] = unique_cargo_packages['package']+unique_cargo_packages['version']\n",
    "unique_cargo_packages.head(10)"
   ]
  },
  {
   "cell_type": "markdown",
   "metadata": {},
   "source": [
    "All dependencies"
   ]
  },
  {
   "cell_type": "code",
   "execution_count": 6,
   "metadata": {},
   "outputs": [],
   "source": [
    "dependencies['pack_ver'] = dependencies['package']+dependencies['version']\n",
    "all_unique_dependencies = dependencies[dependencies['pack_ver'].isin(unique_cargo_packages['pack_ver'])]\n",
    "all_unique_dependencies = all_unique_dependencies.drop('pack_ver',axis=1).reset_index().drop('index',axis=1)"
   ]
  },
  {
   "cell_type": "code",
   "execution_count": 7,
   "metadata": {
    "scrolled": true
   },
   "outputs": [
    {
     "data": {
      "text/html": [
       "<div>\n",
       "<style scoped>\n",
       "    .dataframe tbody tr th:only-of-type {\n",
       "        vertical-align: middle;\n",
       "    }\n",
       "\n",
       "    .dataframe tbody tr th {\n",
       "        vertical-align: top;\n",
       "    }\n",
       "\n",
       "    .dataframe thead th {\n",
       "        text-align: right;\n",
       "    }\n",
       "</style>\n",
       "<table border=\"1\" class=\"dataframe\">\n",
       "  <thead>\n",
       "    <tr style=\"text-align: right;\">\n",
       "      <th></th>\n",
       "      <th>package</th>\n",
       "      <th>version</th>\n",
       "      <th>target</th>\n",
       "      <th>constraint</th>\n",
       "    </tr>\n",
       "  </thead>\n",
       "  <tbody>\n",
       "    <tr>\n",
       "      <th>0</th>\n",
       "      <td>acacia</td>\n",
       "      <td>0.1.2</td>\n",
       "      <td>itertools</td>\n",
       "      <td>^0.5</td>\n",
       "    </tr>\n",
       "    <tr>\n",
       "      <th>1</th>\n",
       "      <td>acacia</td>\n",
       "      <td>0.1.2</td>\n",
       "      <td>num</td>\n",
       "      <td>^0.1</td>\n",
       "    </tr>\n",
       "    <tr>\n",
       "      <th>2</th>\n",
       "      <td>acacia</td>\n",
       "      <td>0.1.2</td>\n",
       "      <td>rand</td>\n",
       "      <td>^0.3</td>\n",
       "    </tr>\n",
       "    <tr>\n",
       "      <th>3</th>\n",
       "      <td>aio</td>\n",
       "      <td>0.0.1</td>\n",
       "      <td>event</td>\n",
       "      <td>*</td>\n",
       "    </tr>\n",
       "    <tr>\n",
       "      <th>4</th>\n",
       "      <td>aio</td>\n",
       "      <td>0.0.1</td>\n",
       "      <td>mio</td>\n",
       "      <td>*</td>\n",
       "    </tr>\n",
       "    <tr>\n",
       "      <th>5</th>\n",
       "      <td>aio</td>\n",
       "      <td>0.0.1</td>\n",
       "      <td>nix</td>\n",
       "      <td>*</td>\n",
       "    </tr>\n",
       "    <tr>\n",
       "      <th>6</th>\n",
       "      <td>advapi32-sys</td>\n",
       "      <td>0.2.0</td>\n",
       "      <td>winapi</td>\n",
       "      <td>^0.2.5</td>\n",
       "    </tr>\n",
       "    <tr>\n",
       "      <th>7</th>\n",
       "      <td>alfred</td>\n",
       "      <td>4.0.1</td>\n",
       "      <td>serde_json</td>\n",
       "      <td>^1.0</td>\n",
       "    </tr>\n",
       "    <tr>\n",
       "      <th>8</th>\n",
       "      <td>algebloat</td>\n",
       "      <td>0.0.8</td>\n",
       "      <td>algebloat_macros</td>\n",
       "      <td>= 0.0.8</td>\n",
       "    </tr>\n",
       "    <tr>\n",
       "      <th>9</th>\n",
       "      <td>allegro_acodec</td>\n",
       "      <td>0.0.8</td>\n",
       "      <td>allegro_acodec-sys</td>\n",
       "      <td>= 0.0.8</td>\n",
       "    </tr>\n",
       "  </tbody>\n",
       "</table>\n",
       "</div>"
      ],
      "text/plain": [
       "          package version              target constraint\n",
       "0          acacia   0.1.2           itertools       ^0.5\n",
       "1          acacia   0.1.2                 num       ^0.1\n",
       "2          acacia   0.1.2                rand       ^0.3\n",
       "3             aio   0.0.1               event          *\n",
       "4             aio   0.0.1                 mio          *\n",
       "5             aio   0.0.1                 nix          *\n",
       "6    advapi32-sys   0.2.0              winapi     ^0.2.5\n",
       "7          alfred   4.0.1          serde_json       ^1.0\n",
       "8       algebloat   0.0.8    algebloat_macros    = 0.0.8\n",
       "9  allegro_acodec   0.0.8  allegro_acodec-sys    = 0.0.8"
      ]
     },
     "execution_count": 7,
     "metadata": {},
     "output_type": "execute_result"
    }
   ],
   "source": [
    "all_unique_dependencies.head(10)"
   ]
  },
  {
   "cell_type": "markdown",
   "metadata": {},
   "source": [
    "# Related Git URLs\n",
    "finding git url that each package contributor communicates with "
   ]
  },
  {
   "cell_type": "code",
   "execution_count": 8,
   "metadata": {},
   "outputs": [
    {
     "data": {
      "text/html": [
       "<div>\n",
       "<style scoped>\n",
       "    .dataframe tbody tr th:only-of-type {\n",
       "        vertical-align: middle;\n",
       "    }\n",
       "\n",
       "    .dataframe tbody tr th {\n",
       "        vertical-align: top;\n",
       "    }\n",
       "\n",
       "    .dataframe thead th {\n",
       "        text-align: right;\n",
       "    }\n",
       "</style>\n",
       "<table border=\"1\" class=\"dataframe\">\n",
       "  <thead>\n",
       "    <tr style=\"text-align: right;\">\n",
       "      <th></th>\n",
       "      <th>Repository_URL</th>\n",
       "    </tr>\n",
       "    <tr>\n",
       "      <th>Name</th>\n",
       "      <th></th>\n",
       "    </tr>\n",
       "  </thead>\n",
       "  <tbody>\n",
       "    <tr>\n",
       "      <th>acacia</th>\n",
       "      <td>https://github.com/aepsil0n/acacia</td>\n",
       "    </tr>\n",
       "    <tr>\n",
       "      <th>abort_on_panic</th>\n",
       "      <td>https://github.com/emk/abort_on_panic-rs</td>\n",
       "    </tr>\n",
       "    <tr>\n",
       "      <th>aio</th>\n",
       "      <td>https://github.com/reem/rust-aio</td>\n",
       "    </tr>\n",
       "    <tr>\n",
       "      <th>advapi32-sys</th>\n",
       "      <td>https://github.com/retep998/winapi-rs</td>\n",
       "    </tr>\n",
       "    <tr>\n",
       "      <th>alfred</th>\n",
       "      <td>https://github.com/kballard/alfred-rs</td>\n",
       "    </tr>\n",
       "  </tbody>\n",
       "</table>\n",
       "</div>"
      ],
      "text/plain": [
       "                                          Repository_URL\n",
       "Name                                                    \n",
       "acacia                https://github.com/aepsil0n/acacia\n",
       "abort_on_panic  https://github.com/emk/abort_on_panic-rs\n",
       "aio                     https://github.com/reem/rust-aio\n",
       "advapi32-sys       https://github.com/retep998/winapi-rs\n",
       "alfred             https://github.com/kballard/alfred-rs"
      ]
     },
     "execution_count": 8,
     "metadata": {},
     "output_type": "execute_result"
    }
   ],
   "source": [
    "repos = cargo_git[['Name','Repository_URL']].set_index('Name')\n",
    "repos.head()"
   ]
  },
  {
   "cell_type": "markdown",
   "metadata": {},
   "source": [
    "For each package which github repositories data should be retrieved"
   ]
  },
  {
   "cell_type": "code",
   "execution_count": 9,
   "metadata": {
    "scrolled": false
   },
   "outputs": [
    {
     "data": {
      "text/html": [
       "<div>\n",
       "<style scoped>\n",
       "    .dataframe tbody tr th:only-of-type {\n",
       "        vertical-align: middle;\n",
       "    }\n",
       "\n",
       "    .dataframe tbody tr th {\n",
       "        vertical-align: top;\n",
       "    }\n",
       "\n",
       "    .dataframe thead th {\n",
       "        text-align: right;\n",
       "    }\n",
       "</style>\n",
       "<table border=\"1\" class=\"dataframe\">\n",
       "  <thead>\n",
       "    <tr style=\"text-align: right;\">\n",
       "      <th></th>\n",
       "      <th>package</th>\n",
       "      <th>version</th>\n",
       "      <th>target</th>\n",
       "      <th>constraint</th>\n",
       "      <th>target_url</th>\n",
       "    </tr>\n",
       "  </thead>\n",
       "  <tbody>\n",
       "    <tr>\n",
       "      <th>0</th>\n",
       "      <td>acacia</td>\n",
       "      <td>0.1.2</td>\n",
       "      <td>itertools</td>\n",
       "      <td>^0.5</td>\n",
       "      <td>https://github.com/bluss/rust-itertools</td>\n",
       "    </tr>\n",
       "    <tr>\n",
       "      <th>1</th>\n",
       "      <td>acacia</td>\n",
       "      <td>0.1.2</td>\n",
       "      <td>num</td>\n",
       "      <td>^0.1</td>\n",
       "      <td>https://github.com/rust-num/num</td>\n",
       "    </tr>\n",
       "    <tr>\n",
       "      <th>2</th>\n",
       "      <td>acacia</td>\n",
       "      <td>0.1.2</td>\n",
       "      <td>rand</td>\n",
       "      <td>^0.3</td>\n",
       "      <td>https://github.com/rust-lang-nursery/rand</td>\n",
       "    </tr>\n",
       "    <tr>\n",
       "      <th>3</th>\n",
       "      <td>aio</td>\n",
       "      <td>0.0.1</td>\n",
       "      <td>event</td>\n",
       "      <td>*</td>\n",
       "      <td>https://github.com/reem/rust-event</td>\n",
       "    </tr>\n",
       "    <tr>\n",
       "      <th>4</th>\n",
       "      <td>aio</td>\n",
       "      <td>0.0.1</td>\n",
       "      <td>mio</td>\n",
       "      <td>*</td>\n",
       "      <td>https://github.com/carllerche/mio</td>\n",
       "    </tr>\n",
       "  </tbody>\n",
       "</table>\n",
       "</div>"
      ],
      "text/plain": [
       "  package version     target constraint  \\\n",
       "0  acacia   0.1.2  itertools       ^0.5   \n",
       "1  acacia   0.1.2        num       ^0.1   \n",
       "2  acacia   0.1.2       rand       ^0.3   \n",
       "3     aio   0.0.1      event          *   \n",
       "4     aio   0.0.1        mio          *   \n",
       "\n",
       "                                  target_url  \n",
       "0    https://github.com/bluss/rust-itertools  \n",
       "1            https://github.com/rust-num/num  \n",
       "2  https://github.com/rust-lang-nursery/rand  \n",
       "3         https://github.com/reem/rust-event  \n",
       "4          https://github.com/carllerche/mio  "
      ]
     },
     "execution_count": 9,
     "metadata": {},
     "output_type": "execute_result"
    }
   ],
   "source": [
    "all_unique_dependencies['target_url'] = repos.loc[all_unique_dependencies['target']].reset_index()[['Repository_URL']]\n",
    "all_unique_dependencies.head()"
   ]
  },
  {
   "cell_type": "markdown",
   "metadata": {},
   "source": [
    "Dependency origins’ repositories"
   ]
  },
  {
   "cell_type": "code",
   "execution_count": 10,
   "metadata": {},
   "outputs": [],
   "source": [
    "all_self_repo = repos.loc[all_unique_dependencies['package']].reset_index().Repository_URL.unique()"
   ]
  },
  {
   "cell_type": "markdown",
   "metadata": {},
   "source": [
    "Dependent package repositories"
   ]
  },
  {
   "cell_type": "code",
   "execution_count": 11,
   "metadata": {},
   "outputs": [],
   "source": [
    "all_depend_repo = all_unique_dependencies.dropna(subset=['target_url'], how='all').target_url.unique()"
   ]
  },
  {
   "cell_type": "markdown",
   "metadata": {},
   "source": [
    "# unique repositories\n",
    "to find all unique repository addresses"
   ]
  },
  {
   "cell_type": "code",
   "execution_count": 12,
   "metadata": {},
   "outputs": [
    {
     "data": {
      "text/plain": [
       "7971"
      ]
     },
     "execution_count": 12,
     "metadata": {},
     "output_type": "execute_result"
    }
   ],
   "source": [
    "all_repos = np.append(all_depend_repo,all_self_repo)\n",
    "df = pandas.DataFrame(all_repos,columns=['repository'])\n",
    "final_repo_list = df.drop_duplicates(keep = 'last').dropna().reset_index().drop('index',axis=1).repository.unique()\n",
    "len(final_repo_list)"
   ]
  },
  {
   "cell_type": "markdown",
   "metadata": {},
   "source": [
    "# Method 1 \n",
    "With pygithub the downside is that it takes to much time to (although as I tracked with fiddler, for each repository there is just one request for all commit history from Github.com)"
   ]
  },
  {
   "cell_type": "code",
   "execution_count": null,
   "metadata": {},
   "outputs": [],
   "source": [
    "from github import Github\n",
    "\n",
    "#g = Github(\"git key\")\n",
    "\n",
    "all_commits = pandas.DataFrame(columns=[\"project_name\",\"commit_hash\",\"commit_date\",\"author_name\",\"author_email\",\"committer_name\",\"committer_email\"])\n",
    "\n",
    "def new_row(commit,repo):\n",
    "    row = {\n",
    "        \"project_name\": repo,\n",
    "        \"commit_hash\": commit.sha,\n",
    "        \"commit_date\": commit.commit.committer.date , # if commit.commit.committer is not None else '',\n",
    "        \"author_name\": commit.author.name, # if commit.author is not None else '',\n",
    "        \"author_email\": commit.author.email, # if commit.author is not None else '',\n",
    "        \"committer_name\": commit.committer.name, # if commit.committer is not None else '',\n",
    "        \"committer_email\": commit.committer.email # if commit.committer is not None else ''\n",
    "    }\n",
    "    return row\n",
    "\n",
    "prevlen = 0\n",
    "# iterating all repositories to retrieve commit history\n",
    "for repo in final_repo_list:\n",
    "    # try to create repo if exist\n",
    "    try:\n",
    "        repos = g.get_repo(repo.split(\"https://github.com/\")[1])\n",
    "        print(repos)\n",
    "        # try to get commits from repo and add to dataframe\n",
    "        repo_commits = repos.get_commits()\n",
    "        print(repo_commits.totalCount)\n",
    "        for commit in repo_commits:\n",
    "            print(commit)\n",
    "            all_commits = all_commits.append(new_row(commit,repo),ignore_index=True)\n",
    "\n",
    "        # print sizes\n",
    "        print('{} - {} , {}'.format(repo , (len(all_commits) - prevlen), len(all_commits)))\n",
    "        prevlen = len(all_commits)\n",
    "    except:\n",
    "        print('{} -- has problem'.format(repo.split(\"https://github.com/\")[1]))\n",
    "        continue"
   ]
  },
  {
   "cell_type": "markdown",
   "metadata": {},
   "source": [
    "# Method 2 \n",
    "with subprocess the downside is that we have to clone the repository before running get log"
   ]
  },
  {
   "cell_type": "code",
   "execution_count": 18,
   "metadata": {},
   "outputs": [],
   "source": [
    "#For first time\n",
    "\n",
    "# a dataframe to store commit data                                \n",
    "all_commits = pandas.DataFrame(columns=[\"project_name\",\"commit_hash\",\"commit_date\",\"author_name\",\"author_email\",\"committer_name\",\"committer_email\"])\n",
    "\n",
    "# a dataframe to store commit data                                \n",
    "processed_repos = pandas.DataFrame(columns=[\"project_name\"])"
   ]
  },
  {
   "cell_type": "code",
   "execution_count": 13,
   "metadata": {},
   "outputs": [
    {
     "data": {
      "text/plain": [
       "(529975, 7)"
      ]
     },
     "execution_count": 13,
     "metadata": {},
     "output_type": "execute_result"
    }
   ],
   "source": [
    "#if there is a file and some repos had been processed before\n",
    "\n",
    "all_commits = pandas.read_csv('../data/commitlogs.csv')\n",
    "processed_repos = pandas.read_csv('../data/processedrepos.csv')\n",
    "all_commits.shape"
   ]
  },
  {
   "cell_type": "code",
   "execution_count": null,
   "metadata": {
    "scrolled": true
   },
   "outputs": [
    {
     "name": "stdout",
     "output_type": "stream",
     "text": [
      "Failed to upload to ftp: [WinError 267] The directory name is invalid\n",
      "Failed to upload to ftp: [WinError 267] The directory name is invalid\n",
      "Failed to upload to ftp: [WinError 267] The directory name is invalid\n",
      "Failed to upload to ftp: [WinError 267] The directory name is invalid\n",
      "Failed to upload to ftp: [WinError 267] The directory name is invalid\n",
      "Failed to upload to ftp: [WinError 267] The directory name is invalid\n",
      "Failed to upload to ftp: [WinError 267] The directory name is invalid\n",
      "Failed to upload to ftp: [WinError 267] The directory name is invalid\n",
      "Failed to upload to ftp: [WinError 267] The directory name is invalid\n",
      "Failed to upload to ftp: [WinError 267] The directory name is invalid\n",
      "Failed to upload to ftp: [WinError 267] The directory name is invalid\n",
      "Failed to upload to ftp: [WinError 267] The directory name is invalid\n",
      "Failed to upload to ftp: [WinError 267] The directory name is invalid\n",
      "https://github.com/cardoe/oxerun - 529975 , 529975\n",
      "https://github.com/reem/rust-aio - 35 , 530010\n",
      "https://github.com/kballard/alfred-rs - 95 , 530105\n",
      "https://github.com/SiegeLord/RustAlgebloat - 191 , 530296\n",
      "Failed to upload to ftp: [WinError 267] The directory name is invalid\n",
      "https://github.com/brandonson/artifact-rs - 63 , 530359\n",
      "https://github.com/TyOverby/astar - 64 , 530423\n",
      "https://github.com/kstep/rust-websocket - 77 , 530500\n",
      "https://github.com/lifthrasiir/rust-basehangul - 15 , 530515\n",
      "https://github.com/1wilkens/bitio.rs - 22 , 530537\n",
      "https://github.com/nicklan/bloom-rs - 24 , 530561\n",
      "https://github.com/jedisct1/rust-bloom-filter - 96 , 530657\n",
      "https://github.com/mkpankov/bread - 61 , 530718\n",
      "https://github.com/danburkert/bytekey - 36 , 530754\n",
      "https://github.com/parkr/cal-rust - 8 , 530762\n",
      "https://github.com/rust-builder/cargo-rub - 74 , 530836\n",
      "https://github.com/passcod/cargo-watch - 177 , 531013\n",
      "https://github.com/SimonSapin/rust-caseless - 33 , 531046\n",
      "https://github.com/THeK3nger/CellularMaps-Rust - 24 , 531070\n",
      "https://github.com/emk/rust-cld2 - 68 , 531138\n",
      "https://github.com/rust-builder/clj-rub - 45 , 531183\n",
      "https://github.com/viraptor/coinaddress - 39 , 531222\n",
      "https://github.com/Gankro/collect-rs - 302 , 531524\n",
      "https://github.com/conduit-rust/conduit-test - 35 , 531559\n"
     ]
    }
   ],
   "source": [
    "# creates new row of dataframe\n",
    "def newrow(row,project):\n",
    "    rowdata ={\n",
    "        \"project_name\": project,\n",
    "        \"commit_hash\": row[0],\n",
    "        \"commit_date\": row[1],\n",
    "        \"author_name\": row[2],\n",
    "        \"author_email\": row[3],\n",
    "        \"committer_name\": row[4],\n",
    "        \"committer_email\": row[5] }\n",
    "    return rowdata\n",
    "    \n",
    "# get log of a spesific repo\n",
    "def get_repo_commits(repo):\n",
    "    \n",
    "    #clone repository to a bare repo to work with gitlog\n",
    "    repo_name = repo.split('/')[3] + repo.split('/')[4]\n",
    "    commands = [\"git\", \"clone\" ,\"--bare\", repo , '.\\\\tempclone\\\\'+repo_name]\n",
    "    process = subprocess.Popen(commands,stdout=subprocess.PIPE)\n",
    "    output = process.communicate()[0]\n",
    "\n",
    "    #get git log result by subprocess\n",
    "    commands = [\"git\", \"log\" , '--pretty=format:%H\";\"%ai\";\"%an\";\"%ae\";\"%cn\";\"%ce:%#$GLZDH']\n",
    "    process = subprocess.Popen(commands,  cwd=r'.\\\\tempclone\\\\'+repo_name ,stdout=subprocess.PIPE)\n",
    "    output = process.communicate()[0]\n",
    "    output = str(output)\n",
    "    \n",
    "    return output\n",
    "\n",
    "# read commit data from gitlog result and add it to dataframe\n",
    "def add_to_dataset(commits,project,df):\n",
    "    #find the main text from git log commit string\n",
    "    commits = commits[2:len(commits)-10]\n",
    "    for commit in commits.split(':%#$GLZDH\\\\n'):\n",
    "        #if commit length is 0\n",
    "        if len(commit) == 0:\n",
    "            return df\n",
    "\n",
    "        #split to find the parts and if there is problem with some parts we return \n",
    "        rowdata = commit.split('\";\"')\n",
    "        if len(rowdata) < 6:\n",
    "            print(rowdata)\n",
    "            return df\n",
    "\n",
    "        #append data to dataframe\n",
    "        df = df.append(newrow(rowdata,project),ignore_index=True)\n",
    "        \n",
    "    return df\n",
    "\n",
    "prevlen = 0\n",
    "\n",
    "# iterating all repositories to retrieve commit history\n",
    "for repo in final_repo_list:\n",
    "    if repo in processed_repos.project_name.unique():\n",
    "        continue\n",
    "        \n",
    "    try:\n",
    "        all_commits = add_to_dataset(get_repo_commits(repo),repo,all_commits)\n",
    "        processed_repos = processed_repos.append({\"project_name\": repo},ignore_index=True)\n",
    "        \n",
    "        print('{} - {} , {}'.format(repo , (len(all_commits) - prevlen), len(all_commits)))\n",
    "        prevlen = len(all_commits)\n",
    "    except Exception as e:\n",
    "        print('Failed to upload to ftp: '+ str(e))\n",
    "        #print(\"problem processing repo: \" + repo)"
   ]
  }
 ],
 "metadata": {
  "kernelspec": {
   "display_name": "Python 3",
   "language": "python",
   "name": "python3"
  },
  "language_info": {
   "codemirror_mode": {
    "name": "ipython",
    "version": 3
   },
   "file_extension": ".py",
   "mimetype": "text/x-python",
   "name": "python",
   "nbconvert_exporter": "python",
   "pygments_lexer": "ipython3",
   "version": "3.6.6"
  }
 },
 "nbformat": 4,
 "nbformat_minor": 2
}
