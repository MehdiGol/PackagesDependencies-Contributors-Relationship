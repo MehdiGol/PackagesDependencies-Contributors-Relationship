{
 "cells": [
  {
   "cell_type": "code",
   "execution_count": 33,
   "metadata": {
    "scrolled": true
   },
   "outputs": [],
   "source": [
    "import pandas\n",
    "import matplotlib\n",
    "import requests\n",
    "import warnings\n",
    "\n",
    "import sys\n",
    "sys.path.append('..')\n",
    "\n",
    "from helper import load_data , load_repo , GIT_API\n",
    "warnings.filterwarnings('ignore')\n",
    "\n",
    "%matplotlib inline\n",
    "\n",
    "import os\n",
    "import json\n",
    "import time"
   ]
  },
  {
   "cell_type": "code",
   "execution_count": 34,
   "metadata": {},
   "outputs": [],
   "source": [
    "json_store_dir = '..'+os.sep+'data'+os.sep+'json'"
   ]
  },
  {
   "cell_type": "code",
   "execution_count": 35,
   "metadata": {},
   "outputs": [],
   "source": [
    "testrepo = 'https://github.com/rust-lang/cargo'\n",
    "\n",
    "ISSUE = 'issue'\n",
    "PULL = 'pull'\n",
    "\n",
    "time_sleep = 0.1\n",
    "\n",
    "OPEN = 'open'\n",
    "CLOSED = 'closed'"
   ]
  },
  {
   "cell_type": "code",
   "execution_count": 48,
   "metadata": {},
   "outputs": [],
   "source": [
    "def get_pull_pages(repo):\n",
    "    pr = 'https://api.github.com/repos/{}/{}/pulls?state=all&client_id={}&client_secret={}'.format(\n",
    "                repo.split('/')[3] ,\n",
    "                repo.split('/')[4] ,\n",
    "                GIT_API[0].split(':')[0] , GIT_API[0].split(':')[1])\n",
    "    req = requests.get(pr)\n",
    "    return int(req.headers['Link'].split(',')[1].split('page=')[1].split('>')[0])"
   ]
  },
  {
   "cell_type": "code",
   "execution_count": 54,
   "metadata": {},
   "outputs": [],
   "source": [
    "#this function fetches review comment of pull request and returns a dataframe of review comments\n",
    "def get_pull_requests(repo,pagenum):\n",
    "    df = pandas.DataFrame()\n",
    "    add_address(repo+str(pagenum))\n",
    "    \n",
    "    repo_parts = repo.split('/')\n",
    "    repo_full = repo_parts[-2]+'/'+repo_parts[-1]\n",
    "    \n",
    "    par_folder = json_store_dir+os.sep+'pull_request'+os.sep+repo_full.replace('/',os.sep)\n",
    "    json_store_location = par_folder+os.sep+'pulls'+str(pagenum)+'.json'\n",
    "        \n",
    "    if os.path.exists(json_store_location):\n",
    "        with open(json_store_location) as f:\n",
    "            pulls = json.load(f)\n",
    "    else:\n",
    "        pr = 'https://api.github.com/repos/{}/{}/pulls?state=all&client_id={}&client_secret={}&page={}'.format(\n",
    "                repo.split('/')[3] ,\n",
    "                repo.split('/')[4] ,\n",
    "                GIT_API[6].split(':')[0] , GIT_API[6].split(':')[1],\n",
    "                pagenum)\n",
    "            \n",
    "        time.sleep(time_sleep)\n",
    "        req = requests.get(pr)\n",
    "        print(req.headers['X-RateLimit-Remaining'])\n",
    "        \n",
    "        pulls = req.json()\n",
    "        print(pr)\n",
    "        if not os.path.exists(par_folder):\n",
    "            os.makedirs(par_folder)\n",
    "        with open(json_store_location, 'w') as outfile:\n",
    "            json.dump(pulls, outfile)\n",
    "        \n",
    "        \n",
    "    for pullreq in pulls:\n",
    "        df = df.append({\n",
    "            \"project_name\": repo,\n",
    "            \"pr_id\": pullreq[\"number\"],\n",
    "            \"id\": pullreq['id'],\n",
    "            \"user_login\": pullreq['user']['login'] if pullreq['user'] else 'null',\n",
    "            \"created_at\": pullreq['created_at'],\n",
    "            \"updated_at\": pullreq['updated_at'],\n",
    "            \"closed_at\": pullreq['closed_at'],\n",
    "            \"merged_at\": pullreq['merged_at'],\n",
    "            \"merge_commit_sha\": pullreq['merge_commit_sha'],\n",
    "            \"author_assoc\": pullreq['author_association'],\n",
    "            \"is_open\": 0 if pullreq['state'] == 'closed' else 1},ignore_index=True)\n",
    "    return df "
   ]
  },
  {
   "cell_type": "markdown",
   "metadata": {},
   "source": [
    "# Open/Closed Pull Request Comments"
   ]
  },
  {
   "cell_type": "code",
   "execution_count": null,
   "metadata": {
    "scrolled": true
   },
   "outputs": [
    {
     "name": "stdout",
     "output_type": "stream",
     "text": [
      "https://github.com/serde-rs/serde\n",
      "4922\n",
      "https://api.github.com/repos/serde-rs/serde/pulls?state=all&client_id=093a7ed958a206f60a37&client_secret=3dc925411cdea302056f7d22a5123efe2dbad079&page=1\n",
      "4921\n",
      "https://api.github.com/repos/serde-rs/serde/pulls?state=all&client_id=093a7ed958a206f60a37&client_secret=3dc925411cdea302056f7d22a5123efe2dbad079&page=2\n",
      "4920\n",
      "https://api.github.com/repos/serde-rs/serde/pulls?state=all&client_id=093a7ed958a206f60a37&client_secret=3dc925411cdea302056f7d22a5123efe2dbad079&page=3\n",
      "4919\n",
      "https://api.github.com/repos/serde-rs/serde/pulls?state=all&client_id=093a7ed958a206f60a37&client_secret=3dc925411cdea302056f7d22a5123efe2dbad079&page=4\n",
      "4918\n",
      "https://api.github.com/repos/serde-rs/serde/pulls?state=all&client_id=093a7ed958a206f60a37&client_secret=3dc925411cdea302056f7d22a5123efe2dbad079&page=5\n",
      "4917\n",
      "https://api.github.com/repos/serde-rs/serde/pulls?state=all&client_id=093a7ed958a206f60a37&client_secret=3dc925411cdea302056f7d22a5123efe2dbad079&page=6\n",
      "4916\n",
      "https://api.github.com/repos/serde-rs/serde/pulls?state=all&client_id=093a7ed958a206f60a37&client_secret=3dc925411cdea302056f7d22a5123efe2dbad079&page=7\n",
      "4915\n",
      "https://api.github.com/repos/serde-rs/serde/pulls?state=all&client_id=093a7ed958a206f60a37&client_secret=3dc925411cdea302056f7d22a5123efe2dbad079&page=8\n",
      "4914\n",
      "https://api.github.com/repos/serde-rs/serde/pulls?state=all&client_id=093a7ed958a206f60a37&client_secret=3dc925411cdea302056f7d22a5123efe2dbad079&page=9\n",
      "4913\n",
      "https://api.github.com/repos/serde-rs/serde/pulls?state=all&client_id=093a7ed958a206f60a37&client_secret=3dc925411cdea302056f7d22a5123efe2dbad079&page=10\n",
      "4912\n",
      "https://api.github.com/repos/serde-rs/serde/pulls?state=all&client_id=093a7ed958a206f60a37&client_secret=3dc925411cdea302056f7d22a5123efe2dbad079&page=11\n",
      "4911\n",
      "https://api.github.com/repos/serde-rs/serde/pulls?state=all&client_id=093a7ed958a206f60a37&client_secret=3dc925411cdea302056f7d22a5123efe2dbad079&page=12\n",
      "4910\n",
      "https://api.github.com/repos/serde-rs/serde/pulls?state=all&client_id=093a7ed958a206f60a37&client_secret=3dc925411cdea302056f7d22a5123efe2dbad079&page=13\n",
      "4909\n",
      "https://api.github.com/repos/serde-rs/serde/pulls?state=all&client_id=093a7ed958a206f60a37&client_secret=3dc925411cdea302056f7d22a5123efe2dbad079&page=14\n",
      "4908\n",
      "https://api.github.com/repos/serde-rs/serde/pulls?state=all&client_id=093a7ed958a206f60a37&client_secret=3dc925411cdea302056f7d22a5123efe2dbad079&page=15\n",
      "4907\n",
      "https://api.github.com/repos/serde-rs/serde/pulls?state=all&client_id=093a7ed958a206f60a37&client_secret=3dc925411cdea302056f7d22a5123efe2dbad079&page=16\n",
      "4906\n",
      "https://api.github.com/repos/serde-rs/serde/pulls?state=all&client_id=093a7ed958a206f60a37&client_secret=3dc925411cdea302056f7d22a5123efe2dbad079&page=17\n",
      "4905\n",
      "https://api.github.com/repos/serde-rs/serde/pulls?state=all&client_id=093a7ed958a206f60a37&client_secret=3dc925411cdea302056f7d22a5123efe2dbad079&page=18\n",
      "4904\n",
      "https://api.github.com/repos/serde-rs/serde/pulls?state=all&client_id=093a7ed958a206f60a37&client_secret=3dc925411cdea302056f7d22a5123efe2dbad079&page=19\n",
      "https://github.com/rust-lang/libc\n",
      "4903\n",
      "https://api.github.com/repos/rust-lang/libc/pulls?state=all&client_id=093a7ed958a206f60a37&client_secret=3dc925411cdea302056f7d22a5123efe2dbad079&page=1\n",
      "4902\n",
      "https://api.github.com/repos/rust-lang/libc/pulls?state=all&client_id=093a7ed958a206f60a37&client_secret=3dc925411cdea302056f7d22a5123efe2dbad079&page=2\n",
      "4901\n",
      "https://api.github.com/repos/rust-lang/libc/pulls?state=all&client_id=093a7ed958a206f60a37&client_secret=3dc925411cdea302056f7d22a5123efe2dbad079&page=3\n",
      "4900\n",
      "https://api.github.com/repos/rust-lang/libc/pulls?state=all&client_id=093a7ed958a206f60a37&client_secret=3dc925411cdea302056f7d22a5123efe2dbad079&page=4\n",
      "4899\n",
      "https://api.github.com/repos/rust-lang/libc/pulls?state=all&client_id=093a7ed958a206f60a37&client_secret=3dc925411cdea302056f7d22a5123efe2dbad079&page=5\n"
     ]
    }
   ],
   "source": [
    "selected_repos = pandas.read_csv('../data/depend/selected_dependencies.csv')\n",
    "\n",
    "for repo in selected_repos.Repository_URL.unique():\n",
    "    \n",
    "    print(repo )\n",
    "    \n",
    "    number_of_pages = get_pull_pages(repo)\n",
    "    for i in range(1,number_of_pages+1):\n",
    "        pullrequests = pullrequests.append(get_pull_requests(repo,i),ignore_index=True)\n",
    "        pullrequests.to_csv('../data/pullrequests.csv.gz',compression='gzip')\n",
    "        \n",
    "    \n",
    "    prcoessed_addresses.to_csv('../data/padd.csv')"
   ]
  },
  {
   "cell_type": "code",
   "execution_count": null,
   "metadata": {},
   "outputs": [],
   "source": []
  }
 ],
 "metadata": {
  "kernelspec": {
   "display_name": "Python 3",
   "language": "python",
   "name": "python3"
  },
  "language_info": {
   "codemirror_mode": {
    "name": "ipython",
    "version": 3
   },
   "file_extension": ".py",
   "mimetype": "text/x-python",
   "name": "python",
   "nbconvert_exporter": "python",
   "pygments_lexer": "ipython3",
   "version": "3.6.6"
  }
 },
 "nbformat": 4,
 "nbformat_minor": 2
}
