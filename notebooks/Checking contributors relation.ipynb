{
 "cells": [
  {
   "cell_type": "markdown",
   "metadata": {},
   "source": [
    "# To which extent is there some kind of relation between the dependencies between software packages (in a software packaging ecosystem) and the contributors of those packages?"
   ]
  },
  {
   "cell_type": "code",
   "execution_count": 1,
   "metadata": {},
   "outputs": [],
   "source": [
    "import pandas\n",
    "import matplotlib.pyplot as plt\n",
    "import seaborn\n",
    "import collections\n",
    "import itertools\n",
    "import numpy as np\n",
    "import warnings\n",
    "import subprocess\n",
    "import requests\n",
    "\n",
    "\n",
    "import sys\n",
    "sys.path.append('..')\n",
    "\n",
    "from helper import load_data , load_repo , GIT_API\n",
    "warnings.filterwarnings('ignore')\n",
    "\n",
    "%matplotlib inline"
   ]
  },
  {
   "cell_type": "markdown",
   "metadata": {},
   "source": [
    "## Load Cargo Dataset"
   ]
  },
  {
   "cell_type": "code",
   "execution_count": 103,
   "metadata": {},
   "outputs": [],
   "source": [
    "cargo = load_repo('Cargo')\n",
    "cargo_git = cargo[cargo.Repository_URL.notnull()]\n",
    "cargo_git = cargo_git[cargo_git.Repository_URL.str.contains('github')].drop_duplicates(subset='Repository_URL')\n",
    "repos = cargo_git[['Name','Repository_URL']].set_index('Name')"
   ]
  },
  {
   "cell_type": "markdown",
   "metadata": {},
   "source": [
    "## Load Cargo packages and dependencies"
   ]
  },
  {
   "cell_type": "code",
   "execution_count": 83,
   "metadata": {},
   "outputs": [],
   "source": [
    "packages, dependencies = load_data('Cargo')"
   ]
  },
  {
   "cell_type": "markdown",
   "metadata": {},
   "source": [
    "join to packages and dependencies"
   ]
  },
  {
   "cell_type": "code",
   "execution_count": 89,
   "metadata": {},
   "outputs": [
    {
     "data": {
      "text/html": [
       "<div>\n",
       "<style scoped>\n",
       "    .dataframe tbody tr th:only-of-type {\n",
       "        vertical-align: middle;\n",
       "    }\n",
       "\n",
       "    .dataframe tbody tr th {\n",
       "        vertical-align: top;\n",
       "    }\n",
       "\n",
       "    .dataframe thead th {\n",
       "        text-align: right;\n",
       "    }\n",
       "</style>\n",
       "<table border=\"1\" class=\"dataframe\">\n",
       "  <thead>\n",
       "    <tr style=\"text-align: right;\">\n",
       "      <th></th>\n",
       "      <th>package</th>\n",
       "      <th>version</th>\n",
       "      <th>date</th>\n",
       "      <th>target</th>\n",
       "      <th>constraint</th>\n",
       "    </tr>\n",
       "  </thead>\n",
       "  <tbody>\n",
       "    <tr>\n",
       "      <th>2</th>\n",
       "      <td>acacia</td>\n",
       "      <td>0.0.1</td>\n",
       "      <td>2014-12-08 12:49:37</td>\n",
       "      <td>quickcheck_macros</td>\n",
       "      <td>~0.1.5</td>\n",
       "    </tr>\n",
       "    <tr>\n",
       "      <th>4</th>\n",
       "      <td>acacia</td>\n",
       "      <td>0.0.2</td>\n",
       "      <td>2015-01-25 17:49:33</td>\n",
       "      <td>quickcheck</td>\n",
       "      <td>*</td>\n",
       "    </tr>\n",
       "    <tr>\n",
       "      <th>5</th>\n",
       "      <td>acacia</td>\n",
       "      <td>0.0.2</td>\n",
       "      <td>2015-01-25 17:49:33</td>\n",
       "      <td>nalgebra</td>\n",
       "      <td>*</td>\n",
       "    </tr>\n",
       "    <tr>\n",
       "      <th>19</th>\n",
       "      <td>acacia</td>\n",
       "      <td>0.1.2</td>\n",
       "      <td>2017-02-26 16:14:51</td>\n",
       "      <td>itertools</td>\n",
       "      <td>^0.5</td>\n",
       "    </tr>\n",
       "    <tr>\n",
       "      <th>20</th>\n",
       "      <td>acacia</td>\n",
       "      <td>0.1.2</td>\n",
       "      <td>2017-02-26 16:14:51</td>\n",
       "      <td>num</td>\n",
       "      <td>^0.1</td>\n",
       "    </tr>\n",
       "  </tbody>\n",
       "</table>\n",
       "</div>"
      ],
      "text/plain": [
       "   package version                date             target constraint\n",
       "2   acacia   0.0.1 2014-12-08 12:49:37  quickcheck_macros     ~0.1.5\n",
       "4   acacia   0.0.2 2015-01-25 17:49:33         quickcheck          *\n",
       "5   acacia   0.0.2 2015-01-25 17:49:33           nalgebra          *\n",
       "19  acacia   0.1.2 2017-02-26 16:14:51          itertools       ^0.5\n",
       "20  acacia   0.1.2 2017-02-26 16:14:51                num       ^0.1"
      ]
     },
     "execution_count": 89,
     "metadata": {},
     "output_type": "execute_result"
    }
   ],
   "source": [
    "packages_dependencies = packages.merge(dependencies,left_on=['package','version'], right_on=['package','version'])\n",
    "packages_dependencies = packages_dependencies.drop_duplicates(subset=['package','target'],keep = 'last')\n",
    "packages_dependencies.head()"
   ]
  },
  {
   "cell_type": "markdown",
   "metadata": {},
   "source": [
    "find packages project URL"
   ]
  },
  {
   "cell_type": "code",
   "execution_count": 111,
   "metadata": {},
   "outputs": [],
   "source": [
    "def find_git_url(target):\n",
    "    return repos.loc[target].Repository_URL if target in repos.index else ''\n",
    "packages_dependencies['target_url'] = packages_dependencies.apply(lambda row: find_git_url(row['target']),axis=1)"
   ]
  },
  {
   "cell_type": "markdown",
   "metadata": {},
   "source": [
    "# Load all comments"
   ]
  },
  {
   "cell_type": "code",
   "execution_count": 119,
   "metadata": {},
   "outputs": [],
   "source": [
    "depend_comt = pandas.read_csv('../data/depend/commit_comment.csv.gz').dropna().rename(columns={'comment_author_assoc':'author_assoc','user_name':'user_login','comment_created_at':'created_at'})\n",
    "depend_comt['type'] = 'cmt'\n",
    "depend_isue = pandas.read_csv('../data/depend/issue_comments.csv.gz')\n",
    "depend_isue['type'] = 'isu'\n",
    "depend_puls = pandas.read_csv('../data/depend/pulls_comments.csv.gz')\n",
    "depend_puls['type'] = 'pul'\n",
    "depend_plrq = pandas.read_csv('../data/depend/pulls_review_comments.csv.gz')\n",
    "depend_plrq['type'] = 'prq'\n",
    "\n",
    "origin_comt = pandas.read_csv('../data/origin/commit_comment.csv.gz').dropna().rename(columns={'comment_author_assoc':'author_assoc','user_name':'user_login','comment_created_at':'created_at'})\n",
    "origin_comt['type'] = 'cmt'\n",
    "origin_isue = pandas.read_csv('../data/origin/issue_comments.csv.gz')\n",
    "origin_isue['type'] = 'isu'\n",
    "origin_puls = pandas.read_csv('../data/origin/pulls_comments.csv.gz')\n",
    "origin_puls['type'] = 'pul'\n",
    "origin_plrq = pandas.read_csv('../data/origin/pulls_review_comments.csv.gz')\n",
    "origin_plrq['type'] = 'prq'\n",
    "\n",
    "\n",
    "selected_depend_list = pandas.read_csv('../data/depend/selected_dependencies.csv')\n",
    "selected_origin_list = pandas.read_csv('../data/origin/selected_origins.csv')"
   ]
  },
  {
   "cell_type": "code",
   "execution_count": 120,
   "metadata": {
    "scrolled": true
   },
   "outputs": [
    {
     "data": {
      "text/html": [
       "<div>\n",
       "<style scoped>\n",
       "    .dataframe tbody tr th:only-of-type {\n",
       "        vertical-align: middle;\n",
       "    }\n",
       "\n",
       "    .dataframe tbody tr th {\n",
       "        vertical-align: top;\n",
       "    }\n",
       "\n",
       "    .dataframe thead th {\n",
       "        text-align: right;\n",
       "    }\n",
       "</style>\n",
       "<table border=\"1\" class=\"dataframe\">\n",
       "  <thead>\n",
       "    <tr style=\"text-align: right;\">\n",
       "      <th></th>\n",
       "      <th>project_name</th>\n",
       "      <th>commit_hash</th>\n",
       "      <th>user_login</th>\n",
       "      <th>user_type</th>\n",
       "      <th>author_assoc</th>\n",
       "      <th>created_at</th>\n",
       "      <th>type</th>\n",
       "    </tr>\n",
       "  </thead>\n",
       "  <tbody>\n",
       "    <tr>\n",
       "      <th>155</th>\n",
       "      <td>https://github.com/bluss/rust-itertools</td>\n",
       "      <td>faa11a7cd852b2ff7c70e75518eb2f1f405965fc</td>\n",
       "      <td>Antti</td>\n",
       "      <td>User</td>\n",
       "      <td>NONE</td>\n",
       "      <td>2017-09-05T10:03:23Z</td>\n",
       "      <td>cmt</td>\n",
       "    </tr>\n",
       "    <tr>\n",
       "      <th>156</th>\n",
       "      <td>https://github.com/bluss/rust-itertools</td>\n",
       "      <td>faa11a7cd852b2ff7c70e75518eb2f1f405965fc</td>\n",
       "      <td>bluss</td>\n",
       "      <td>User</td>\n",
       "      <td>OWNER</td>\n",
       "      <td>2017-09-05T21:42:56Z</td>\n",
       "      <td>cmt</td>\n",
       "    </tr>\n",
       "    <tr>\n",
       "      <th>631</th>\n",
       "      <td>https://github.com/bluss/rust-itertools</td>\n",
       "      <td>34e8a0e29ad50039dffc6dfbcca4051549064f75</td>\n",
       "      <td>DanielKeep</td>\n",
       "      <td>User</td>\n",
       "      <td>CONTRIBUTOR</td>\n",
       "      <td>2015-06-06T03:52:21Z</td>\n",
       "      <td>cmt</td>\n",
       "    </tr>\n",
       "    <tr>\n",
       "      <th>632</th>\n",
       "      <td>https://github.com/bluss/rust-itertools</td>\n",
       "      <td>34e8a0e29ad50039dffc6dfbcca4051549064f75</td>\n",
       "      <td>bluss</td>\n",
       "      <td>User</td>\n",
       "      <td>OWNER</td>\n",
       "      <td>2015-06-06T07:33:39Z</td>\n",
       "      <td>cmt</td>\n",
       "    </tr>\n",
       "    <tr>\n",
       "      <th>633</th>\n",
       "      <td>https://github.com/bluss/rust-itertools</td>\n",
       "      <td>34e8a0e29ad50039dffc6dfbcca4051549064f75</td>\n",
       "      <td>bluss</td>\n",
       "      <td>User</td>\n",
       "      <td>OWNER</td>\n",
       "      <td>2015-06-06T07:34:31Z</td>\n",
       "      <td>cmt</td>\n",
       "    </tr>\n",
       "  </tbody>\n",
       "</table>\n",
       "</div>"
      ],
      "text/plain": [
       "                                project_name  \\\n",
       "155  https://github.com/bluss/rust-itertools   \n",
       "156  https://github.com/bluss/rust-itertools   \n",
       "631  https://github.com/bluss/rust-itertools   \n",
       "632  https://github.com/bluss/rust-itertools   \n",
       "633  https://github.com/bluss/rust-itertools   \n",
       "\n",
       "                                  commit_hash  user_login user_type  \\\n",
       "155  faa11a7cd852b2ff7c70e75518eb2f1f405965fc       Antti      User   \n",
       "156  faa11a7cd852b2ff7c70e75518eb2f1f405965fc       bluss      User   \n",
       "631  34e8a0e29ad50039dffc6dfbcca4051549064f75  DanielKeep      User   \n",
       "632  34e8a0e29ad50039dffc6dfbcca4051549064f75       bluss      User   \n",
       "633  34e8a0e29ad50039dffc6dfbcca4051549064f75       bluss      User   \n",
       "\n",
       "    author_assoc            created_at type  \n",
       "155         NONE  2017-09-05T10:03:23Z  cmt  \n",
       "156        OWNER  2017-09-05T21:42:56Z  cmt  \n",
       "631  CONTRIBUTOR  2015-06-06T03:52:21Z  cmt  \n",
       "632        OWNER  2015-06-06T07:33:39Z  cmt  \n",
       "633        OWNER  2015-06-06T07:34:31Z  cmt  "
      ]
     },
     "execution_count": 120,
     "metadata": {},
     "output_type": "execute_result"
    }
   ],
   "source": [
    "depend_comt.head()"
   ]
  },
  {
   "cell_type": "markdown",
   "metadata": {},
   "source": [
    "## join all comments to each other"
   ]
  },
  {
   "cell_type": "code",
   "execution_count": 121,
   "metadata": {},
   "outputs": [],
   "source": [
    "all_comments = depend_comt[['project_name','user_login','author_assoc','created_at','type']].append(\n",
    "               depend_isue[['project_name','user_login','author_assoc','created_at','type']]).append(\n",
    "               depend_puls[['project_name','user_login','author_assoc','created_at','type']]).append(\n",
    "               depend_plrq[['project_name','user_login','author_assoc','created_at','type']]).append(\n",
    "               origin_comt[['project_name','user_login','author_assoc','created_at','type']]).append(\n",
    "               origin_isue[['project_name','user_login','author_assoc','created_at','type']]).append(\n",
    "               origin_puls[['project_name','user_login','author_assoc','created_at','type']]).append(\n",
    "               origin_plrq[['project_name','user_login','author_assoc','created_at','type']])"
   ]
  },
  {
   "cell_type": "markdown",
   "metadata": {},
   "source": [
    "finding comment project name regarding project url"
   ]
  },
  {
   "cell_type": "code",
   "execution_count": 122,
   "metadata": {},
   "outputs": [],
   "source": [
    "all_comments_repos = all_comments.merge(repos.reset_index(),left_on='project_name', right_on='Repository_URL')[['Name','user_login','author_assoc','type']]"
   ]
  },
  {
   "cell_type": "markdown",
   "metadata": {},
   "source": [
    "# Commenters who are 'Owner', 'Collaborator' or 'Contributor'"
   ]
  },
  {
   "cell_type": "code",
   "execution_count": 130,
   "metadata": {
    "scrolled": true
   },
   "outputs": [
    {
     "data": {
      "text/html": [
       "<div>\n",
       "<style scoped>\n",
       "    .dataframe tbody tr th:only-of-type {\n",
       "        vertical-align: middle;\n",
       "    }\n",
       "\n",
       "    .dataframe tbody tr th {\n",
       "        vertical-align: top;\n",
       "    }\n",
       "\n",
       "    .dataframe thead th {\n",
       "        text-align: right;\n",
       "    }\n",
       "</style>\n",
       "<table border=\"1\" class=\"dataframe\">\n",
       "  <thead>\n",
       "    <tr style=\"text-align: right;\">\n",
       "      <th></th>\n",
       "      <th>author_assoc</th>\n",
       "    </tr>\n",
       "  </thead>\n",
       "  <tbody>\n",
       "    <tr>\n",
       "      <th>CONTRIBUTOR</th>\n",
       "      <td>50369</td>\n",
       "    </tr>\n",
       "    <tr>\n",
       "      <th>COLLABORATOR</th>\n",
       "      <td>17143</td>\n",
       "    </tr>\n",
       "    <tr>\n",
       "      <th>OWNER</th>\n",
       "      <td>13924</td>\n",
       "    </tr>\n",
       "  </tbody>\n",
       "</table>\n",
       "</div>"
      ],
      "text/plain": [
       "              author_assoc\n",
       "CONTRIBUTOR          50369\n",
       "COLLABORATOR         17143\n",
       "OWNER                13924"
      ]
     },
     "execution_count": 130,
     "metadata": {},
     "output_type": "execute_result"
    }
   ],
   "source": [
    "all_contributors = all_comments_repos[all_comments_repos['author_assoc'] != 'NONE'][all_comments_repos['author_assoc'] != 'MEMBER']\n",
    "pandas.DataFrame(all_contributors.author_assoc.value_counts())"
   ]
  },
  {
   "cell_type": "markdown",
   "metadata": {},
   "source": [
    "### All commenters and packages they commented on"
   ]
  },
  {
   "cell_type": "code",
   "execution_count": 124,
   "metadata": {
    "scrolled": true
   },
   "outputs": [
    {
     "data": {
      "text/html": [
       "<div>\n",
       "<style scoped>\n",
       "    .dataframe tbody tr th:only-of-type {\n",
       "        vertical-align: middle;\n",
       "    }\n",
       "\n",
       "    .dataframe tbody tr th {\n",
       "        vertical-align: top;\n",
       "    }\n",
       "\n",
       "    .dataframe thead th {\n",
       "        text-align: right;\n",
       "    }\n",
       "</style>\n",
       "<table border=\"1\" class=\"dataframe\">\n",
       "  <thead>\n",
       "    <tr style=\"text-align: right;\">\n",
       "      <th></th>\n",
       "      <th>user_login</th>\n",
       "      <th>Name</th>\n",
       "    </tr>\n",
       "  </thead>\n",
       "  <tbody>\n",
       "    <tr>\n",
       "      <th>0</th>\n",
       "      <td>0ndorio</td>\n",
       "      <td>clippy</td>\n",
       "    </tr>\n",
       "    <tr>\n",
       "      <th>1</th>\n",
       "      <td>0xa</td>\n",
       "      <td>openssl</td>\n",
       "    </tr>\n",
       "    <tr>\n",
       "      <th>2</th>\n",
       "      <td>0xbrt</td>\n",
       "      <td>cargo</td>\n",
       "    </tr>\n",
       "    <tr>\n",
       "      <th>3</th>\n",
       "      <td>0xbrt</td>\n",
       "      <td>openssl</td>\n",
       "    </tr>\n",
       "    <tr>\n",
       "      <th>4</th>\n",
       "      <td>0xbsec</td>\n",
       "      <td>clippy</td>\n",
       "    </tr>\n",
       "  </tbody>\n",
       "</table>\n",
       "</div>"
      ],
      "text/plain": [
       "  user_login     Name\n",
       "0    0ndorio   clippy\n",
       "1        0xa  openssl\n",
       "2      0xbrt    cargo\n",
       "3      0xbrt  openssl\n",
       "4     0xbsec   clippy"
      ]
     },
     "execution_count": 124,
     "metadata": {},
     "output_type": "execute_result"
    }
   ],
   "source": [
    "contributor_package = pandas.DataFrame(all_contributors.groupby('user_login').Name.value_counts()).rename(columns={'Name':'Count'})\n",
    "contributor_package = contributor_package.reset_index()[['user_login','Name']]\n",
    "contributor_package.head()"
   ]
  },
  {
   "cell_type": "markdown",
   "metadata": {},
   "source": [
    "### Which commenters have commented both in origin package and dependent packages of origin package"
   ]
  },
  {
   "cell_type": "code",
   "execution_count": 125,
   "metadata": {},
   "outputs": [],
   "source": [
    "def test_relation(origin,dependent):\n",
    "    oc = contributor_package[contributor_package['Name'] == origin]['user_login']\n",
    "    dc = contributor_package[contributor_package['Name'] == dependent]['user_login']\n",
    "    return set(oc).intersection(set(dc)) if set(oc).intersection(set(dc)) != set() else 0\n",
    "\n",
    "\n",
    "\n",
    "depend_comment = all_unique_dependencies\n",
    "depend_comment['cnr_relation'] = depend_comment.apply(lambda row: test_relation(row['package'], row['target']), axis=1)\n",
    "#test_relation('acacia','itertools')"
   ]
  },
  {
   "cell_type": "markdown",
   "metadata": {},
   "source": [
    "number of commenters commented in both side"
   ]
  },
  {
   "cell_type": "code",
   "execution_count": 126,
   "metadata": {},
   "outputs": [],
   "source": [
    "def test_relation_count(cntr_set):\n",
    "    return 0 if cntr_set == 0 else len(set(cntr_set))\n",
    "\n",
    "depend_comment['cnr_relation_count'] = depend_comment.apply(lambda row: test_relation_count(row['cnr_relation']), axis=1)"
   ]
  },
  {
   "cell_type": "code",
   "execution_count": 127,
   "metadata": {
    "scrolled": true
   },
   "outputs": [
    {
     "data": {
      "text/html": [
       "<div>\n",
       "<style scoped>\n",
       "    .dataframe tbody tr th:only-of-type {\n",
       "        vertical-align: middle;\n",
       "    }\n",
       "\n",
       "    .dataframe tbody tr th {\n",
       "        vertical-align: top;\n",
       "    }\n",
       "\n",
       "    .dataframe thead th {\n",
       "        text-align: right;\n",
       "    }\n",
       "</style>\n",
       "<table border=\"1\" class=\"dataframe\">\n",
       "  <thead>\n",
       "    <tr style=\"text-align: right;\">\n",
       "      <th></th>\n",
       "      <th>package</th>\n",
       "      <th>version</th>\n",
       "      <th>target</th>\n",
       "      <th>constraint</th>\n",
       "      <th>pack_ver</th>\n",
       "      <th>target_url</th>\n",
       "      <th>cnr_relation</th>\n",
       "      <th>cnr_relation_count</th>\n",
       "    </tr>\n",
       "  </thead>\n",
       "  <tbody>\n",
       "    <tr>\n",
       "      <th>3292</th>\n",
       "      <td>chrono</td>\n",
       "      <td>0.4.0</td>\n",
       "      <td>num</td>\n",
       "      <td>^0.1</td>\n",
       "      <td>chrono0.4.0</td>\n",
       "      <td>https://github.com/rust-lang-nursery/rust-clippy</td>\n",
       "      <td>{dten, huonw, frewsxcv}</td>\n",
       "      <td>3</td>\n",
       "    </tr>\n",
       "    <tr>\n",
       "      <th>3293</th>\n",
       "      <td>chrono</td>\n",
       "      <td>0.4.0</td>\n",
       "      <td>time</td>\n",
       "      <td>^0.1.36</td>\n",
       "      <td>chrono0.4.0</td>\n",
       "      <td>NaN</td>\n",
       "      <td>{dten, huonw}</td>\n",
       "      <td>2</td>\n",
       "    </tr>\n",
       "    <tr>\n",
       "      <th>3294</th>\n",
       "      <td>chrono</td>\n",
       "      <td>0.4.0</td>\n",
       "      <td>rustc-serialize</td>\n",
       "      <td>^0.3</td>\n",
       "      <td>chrono0.4.0</td>\n",
       "      <td>https://github.com/rust-lang/libc</td>\n",
       "      <td>{dtolnay, huonw, frewsxcv}</td>\n",
       "      <td>3</td>\n",
       "    </tr>\n",
       "    <tr>\n",
       "      <th>3295</th>\n",
       "      <td>chrono</td>\n",
       "      <td>0.4.0</td>\n",
       "      <td>serde</td>\n",
       "      <td>^1</td>\n",
       "      <td>chrono0.4.0</td>\n",
       "      <td>https://github.com/rust-lang/libc</td>\n",
       "      <td>{ignatenkobrain, daboross, frewsxcv, jwilm, Eh...</td>\n",
       "      <td>5</td>\n",
       "    </tr>\n",
       "    <tr>\n",
       "      <th>5624</th>\n",
       "      <td>docopt</td>\n",
       "      <td>0.8.3</td>\n",
       "      <td>strsim</td>\n",
       "      <td>^0.6</td>\n",
       "      <td>docopt0.8.3</td>\n",
       "      <td>https://github.com/rust-num/num-traits</td>\n",
       "      <td>{dguo}</td>\n",
       "      <td>1</td>\n",
       "    </tr>\n",
       "  </tbody>\n",
       "</table>\n",
       "</div>"
      ],
      "text/plain": [
       "     package version           target constraint     pack_ver  \\\n",
       "3292  chrono   0.4.0              num       ^0.1  chrono0.4.0   \n",
       "3293  chrono   0.4.0             time    ^0.1.36  chrono0.4.0   \n",
       "3294  chrono   0.4.0  rustc-serialize       ^0.3  chrono0.4.0   \n",
       "3295  chrono   0.4.0            serde         ^1  chrono0.4.0   \n",
       "5624  docopt   0.8.3           strsim       ^0.6  docopt0.8.3   \n",
       "\n",
       "                                            target_url  \\\n",
       "3292  https://github.com/rust-lang-nursery/rust-clippy   \n",
       "3293                                               NaN   \n",
       "3294                 https://github.com/rust-lang/libc   \n",
       "3295                 https://github.com/rust-lang/libc   \n",
       "5624            https://github.com/rust-num/num-traits   \n",
       "\n",
       "                                           cnr_relation  cnr_relation_count  \n",
       "3292                            {dten, huonw, frewsxcv}                   3  \n",
       "3293                                      {dten, huonw}                   2  \n",
       "3294                         {dtolnay, huonw, frewsxcv}                   3  \n",
       "3295  {ignatenkobrain, daboross, frewsxcv, jwilm, Eh...                   5  \n",
       "5624                                             {dguo}                   1  "
      ]
     },
     "execution_count": 127,
     "metadata": {},
     "output_type": "execute_result"
    }
   ],
   "source": [
    "depend_comment[depend_comment['cnr_relation'] != 0 ].head()"
   ]
  },
  {
   "cell_type": "markdown",
   "metadata": {},
   "source": [
    "### Tag packages which is downloaded"
   ]
  },
  {
   "cell_type": "code",
   "execution_count": 128,
   "metadata": {
    "scrolled": true
   },
   "outputs": [],
   "source": [
    "def check_list(package , dependency):\n",
    "    pkg = selected_origin_list[selected_origin_list['Name'] == package]\n",
    "    dpd = selected_depend_list[selected_depend_list['Name'] == dependency]\n",
    "    return 1 if len(pkg) > 0 and len(dpd) > 0 else 0\n",
    "\n",
    "packages_dependencies['is_selected'] = packages_dependencies.apply(lambda row: check_list(row['package'],row['target']), axis=1)"
   ]
  },
  {
   "cell_type": "code",
   "execution_count": 129,
   "metadata": {
    "scrolled": true
   },
   "outputs": [],
   "source": [
    "selected_packages = packages_dependencies[packages_dependencies['is_selected'] != 0].drop('is_selected',axis=1)"
   ]
  },
  {
   "cell_type": "code",
   "execution_count": 17,
   "metadata": {},
   "outputs": [],
   "source": [
    "depend_comment['cnr_relation_count'] = depend_comment.apply(lambda x: 1 if x['cnr_relation_count'] >0 else 0, axis=1)\n",
    "topiechart = depend_comment[depend_comment['is_selected'] > 0].groupby('cnr_relation_count').sum().rename(columns={'is_selected':'contributors_relation'})\n",
    "topiechart['relation'] = topiechart.reset_index().apply(lambda x: 'Yes' if x['cnr_relation_count']==1 else 'No',axis = 1)"
   ]
  },
  {
   "cell_type": "code",
   "execution_count": 18,
   "metadata": {
    "scrolled": true
   },
   "outputs": [
    {
     "data": {
      "text/html": [
       "<div>\n",
       "<style scoped>\n",
       "    .dataframe tbody tr th:only-of-type {\n",
       "        vertical-align: middle;\n",
       "    }\n",
       "\n",
       "    .dataframe tbody tr th {\n",
       "        vertical-align: top;\n",
       "    }\n",
       "\n",
       "    .dataframe thead th {\n",
       "        text-align: right;\n",
       "    }\n",
       "</style>\n",
       "<table border=\"1\" class=\"dataframe\">\n",
       "  <thead>\n",
       "    <tr style=\"text-align: right;\">\n",
       "      <th></th>\n",
       "      <th>package</th>\n",
       "      <th>version</th>\n",
       "      <th>target</th>\n",
       "      <th>constraint</th>\n",
       "      <th>target_url</th>\n",
       "      <th>cnr_relation</th>\n",
       "      <th>cnr_relation_count</th>\n",
       "    </tr>\n",
       "  </thead>\n",
       "  <tbody>\n",
       "    <tr>\n",
       "      <th>672</th>\n",
       "      <td>mysql</td>\n",
       "      <td>9.1.0</td>\n",
       "      <td>openssl</td>\n",
       "      <td>~0.9</td>\n",
       "      <td>https://github.com/sfackler/rust-openssl</td>\n",
       "      <td>{bbigras}</td>\n",
       "      <td>1</td>\n",
       "    </tr>\n",
       "    <tr>\n",
       "      <th>674</th>\n",
       "      <td>mysql</td>\n",
       "      <td>9.1.0</td>\n",
       "      <td>nix</td>\n",
       "      <td>~0.7.0</td>\n",
       "      <td>https://github.com/nix-rust/nix</td>\n",
       "      <td>{alex-gulyas}</td>\n",
       "      <td>1</td>\n",
       "    </tr>\n",
       "    <tr>\n",
       "      <th>675</th>\n",
       "      <td>mysql</td>\n",
       "      <td>9.1.0</td>\n",
       "      <td>bitflags</td>\n",
       "      <td>~0.7</td>\n",
       "      <td>https://github.com/rust-lang-nursery/bitflags</td>\n",
       "      <td>0</td>\n",
       "      <td>0</td>\n",
       "    </tr>\n",
       "    <tr>\n",
       "      <th>676</th>\n",
       "      <td>mysql</td>\n",
       "      <td>9.1.0</td>\n",
       "      <td>serde</td>\n",
       "      <td>^0.9</td>\n",
       "      <td>https://github.com/serde-rs/serde</td>\n",
       "      <td>{jonhoo}</td>\n",
       "      <td>1</td>\n",
       "    </tr>\n",
       "    <tr>\n",
       "      <th>677</th>\n",
       "      <td>mysql</td>\n",
       "      <td>9.1.0</td>\n",
       "      <td>regex</td>\n",
       "      <td>~0.2</td>\n",
       "      <td>https://github.com/rust-lang/regex</td>\n",
       "      <td>{seeekr}</td>\n",
       "      <td>1</td>\n",
       "    </tr>\n",
       "  </tbody>\n",
       "</table>\n",
       "</div>"
      ],
      "text/plain": [
       "    package version    target constraint  \\\n",
       "672   mysql   9.1.0   openssl       ~0.9   \n",
       "674   mysql   9.1.0       nix     ~0.7.0   \n",
       "675   mysql   9.1.0  bitflags       ~0.7   \n",
       "676   mysql   9.1.0     serde       ^0.9   \n",
       "677   mysql   9.1.0     regex       ~0.2   \n",
       "\n",
       "                                        target_url   cnr_relation  \\\n",
       "672       https://github.com/sfackler/rust-openssl      {bbigras}   \n",
       "674                https://github.com/nix-rust/nix  {alex-gulyas}   \n",
       "675  https://github.com/rust-lang-nursery/bitflags              0   \n",
       "676              https://github.com/serde-rs/serde       {jonhoo}   \n",
       "677             https://github.com/rust-lang/regex       {seeekr}   \n",
       "\n",
       "     cnr_relation_count  \n",
       "672                   1  \n",
       "674                   1  \n",
       "675                   0  \n",
       "676                   1  \n",
       "677                   1  "
      ]
     },
     "execution_count": 18,
     "metadata": {},
     "output_type": "execute_result"
    }
   ],
   "source": [
    "selected_packages.head()"
   ]
  },
  {
   "cell_type": "markdown",
   "metadata": {},
   "source": [
    "### Percent of contributers either contributed to packages they depend on or to packages that depend on them"
   ]
  },
  {
   "cell_type": "code",
   "execution_count": 19,
   "metadata": {
    "scrolled": false
   },
   "outputs": [
    {
     "data": {
      "text/plain": [
       "([<matplotlib.patches.Wedge at 0x1bcbbf3c588>,\n",
       "  <matplotlib.patches.Wedge at 0x1bcbbf3cc88>],\n",
       " [Text(-0.7381399050693506, 0.946123396045257, 'No'),\n",
       "  Text(0.7381398164868819, -0.9461234651548984, 'Yes')],\n",
       " [Text(-0.861163222580909, 1.1038106287194664, '71%'),\n",
       "  Text(0.8611631192346956, -1.1038107093473815, '29%')])"
      ]
     },
     "execution_count": 19,
     "metadata": {},
     "output_type": "execute_result"
    },
    {
     "data": {
      "image/png": "[encoded data removed]",
      "text/plain": [
       "<Figure size 432x432 with 1 Axes>"
      ]
     },
     "metadata": {},
     "output_type": "display_data"
    }
   ],
   "source": [
    "plt.rcParams[\"figure.figsize\"] = (6,6)\n",
    "plt.pie(topiechart['contributors_relation'], labels=topiechart['relation'], autopct='%1.0f%%', pctdistance=1.4, labeldistance=1.2)\n"
   ]
  },
  {
   "cell_type": "markdown",
   "metadata": {},
   "source": [
    "## Number of comments on dependent packages"
   ]
  },
  {
   "cell_type": "code",
   "execution_count": 20,
   "metadata": {
    "scrolled": false
   },
   "outputs": [
    {
     "data": {
      "image/png": "[encoded data removed]",
      "text/plain": [
       "<Figure size 648x648 with 1 Axes>"
      ]
     },
     "metadata": {
      "needs_background": "light"
     },
     "output_type": "display_data"
    }
   ],
   "source": [
    "plt.rcParams[\"figure.figsize\"] = (9,9)\n",
    "fig, ax = plt.subplots()\n",
    "ax.scatter(selected_packages['package'],selected_packages['target'], s=selected_packages.cnr_relation_count*30, alpha=0.5)\n",
    "ax.set_title('number of comments on dependent packages')\n",
    "ax.grid(True)\n",
    "fig.tight_layout()\n",
    "plt.xticks(rotation=90)\n",
    "\n",
    "plt.show()"
   ]
  },
  {
   "cell_type": "markdown",
   "metadata": {},
   "source": [
    "# Question 1"
   ]
  },
  {
   "cell_type": "markdown",
   "metadata": {},
   "source": [
    "Are contributors of comments (commit comments, issue comments, pull request comments) more likely to contribute to packages they depend on (or to packages that depend on them) than to other packages?"
   ]
  },
  {
   "cell_type": "markdown",
   "metadata": {},
   "source": [
    "*** I think to answer this question we need all comments of users who have contributed on a package... to this end, we need to scrap github to find all comments of a user"
   ]
  },
  {
   "cell_type": "markdown",
   "metadata": {},
   "source": [
    "# Question 2"
   ]
  },
  {
   "cell_type": "markdown",
   "metadata": {},
   "source": [
    "Is there some (temporal) relation between the commenting activity and the decision to start \"depending on\" a package? For example, if you are a developer of some package, and you would like to start depending on another package, you might first start to be involved through comments in that package, before you actually make the decision to depend on it. Such a possible relation could probably be checked using the statistical technique of \"survival analysis\"."
   ]
  },
  {
   "cell_type": "markdown",
   "metadata": {},
   "source": [
    "*** I found some relations but I need to study survival analysis to answer this question better"
   ]
  },
  {
   "cell_type": "code",
   "execution_count": 131,
   "metadata": {},
   "outputs": [],
   "source": [
    "packages_dependencies = packages.merge(dependencies,left_on=['package','version'], right_on=['package','version'])"
   ]
  },
  {
   "cell_type": "code",
   "execution_count": 132,
   "metadata": {},
   "outputs": [],
   "source": [
    "all_comments_name = all_comments.merge(repos.reset_index(),left_on='project_name', right_on='Repository_URL')[['Name','user_login','author_assoc','created_at','type']]\n",
    "all_comments_name = all_comments_name[all_comments_name['author_assoc'] != 'NONE'][all_comments_name['author_assoc'] != 'MEMBER']"
   ]
  },
  {
   "cell_type": "code",
   "execution_count": 133,
   "metadata": {},
   "outputs": [],
   "source": [
    "pkg_dep_cntbr_cmnt = packages_dependencies.drop_duplicates(subset=['package','target'],keep = 'first')"
   ]
  },
  {
   "cell_type": "code",
   "execution_count": 36,
   "metadata": {},
   "outputs": [],
   "source": [
    "def check_comments(row):\n",
    "    contributors = all_comments_name[all_comments_name['Name'] == row['package']].user_login.unique()\n",
    "    cont_depends = all_comments_name[all_comments_name['Name'] == row['target']][all_comments_name['user_login'].isin(contributors)][all_comments_name['created_at'] < row['date']]\n",
    "    return cont_depends.user_login.unique()\n",
    "\n",
    "pkg_dep_cntbr_cmnt['contributor_commented_before_use'] = pkg_dep_cntbr_cmnt.apply(lambda row: check_comments(row),axis=1)"
   ]
  },
  {
   "cell_type": "code",
   "execution_count": 37,
   "metadata": {},
   "outputs": [],
   "source": [
    "pkg_dep_cntbr_cmnt['contributor_commented_before_use_count'] = pkg_dep_cntbr_cmnt.apply(lambda row: len(row['contributor_commented_before_use']),axis=1)"
   ]
  },
  {
   "cell_type": "code",
   "execution_count": 54,
   "metadata": {},
   "outputs": [],
   "source": [
    "cmtpckg = pkg_dep_cntbr_cmnt[pkg_dep_cntbr_cmnt['contributor_commented_before_use_count'] >0].sort_values('date')"
   ]
  },
  {
   "cell_type": "code",
   "execution_count": 59,
   "metadata": {},
   "outputs": [],
   "source": [
    "pkg_dep_cntbr_cmnt.sort_values('date',inplace=True)"
   ]
  },
  {
   "cell_type": "code",
   "execution_count": 61,
   "metadata": {},
   "outputs": [
    {
     "data": {
      "image/png": "[encoded data removed]",
      "text/plain": [
       "<Figure size 1440x504 with 1 Axes>"
      ]
     },
     "metadata": {
      "needs_background": "light"
     },
     "output_type": "display_data"
    }
   ],
   "source": [
    "plt.rcParams[\"figure.figsize\"] = (20,7)\n",
    "fig, ax = plt.subplots()\n",
    "ax.plot(pkg_dep_cntbr_cmnt['date'], pkg_dep_cntbr_cmnt['contributor_commented_before_use_count'])\n",
    "ax.set_title('Number of contributors commented on a package before depending on it')\n",
    "plt.show()"
   ]
  },
  {
   "cell_type": "markdown",
   "metadata": {},
   "source": [
    "# Question 3"
   ]
  },
  {
   "cell_type": "markdown",
   "metadata": {},
   "source": [
    "Is there some (temporal) relation between the commenting activity and the decision to start “contributing to\" a package? I would guess that new contributors/committers to the code of a package would first start by commenting to the package, and as they get more experiences they might go one step further and actually start submitting pull requests or even direct commits (depending on the development process followed)"
   ]
  },
  {
   "cell_type": "markdown",
   "metadata": {},
   "source": [
    "*** To answer this question we need to extract commits or pull requests of users on packages (we already have commit data)"
   ]
  },
  {
   "cell_type": "markdown",
   "metadata": {},
   "source": [
    "# Question 4"
   ]
  },
  {
   "cell_type": "markdown",
   "metadata": {},
   "source": [
    "Is there some relation between the commenting activity and the decision to stop “depending on” / “contributing to” a package? People may get dissatisfied with some package. In that case, they might either suddenly discontinue using/contributing to that package, or there may be “early signs” of this dissatisfaction in terms of their commenting activity."
   ]
  },
  {
   "cell_type": "markdown",
   "metadata": {},
   "source": [
    "*** I will answer it tomorrow"
   ]
  },
  {
   "cell_type": "markdown",
   "metadata": {},
   "source": [
    "# Temoprary Test codes"
   ]
  },
  {
   "cell_type": "code",
   "execution_count": 26,
   "metadata": {},
   "outputs": [],
   "source": [
    "packages_dependencies_sentry = packages_dependencies[packages_dependencies['package']=='sentry']\n",
    "packages_dependencies_sentry['date'] = pandas.to_datetime(packages_dependencies_sentry['date'])\n",
    "pkg_dpnd_cmts = packages_dependencies_sentry.merge(all_comments_name,left_on='package',right_on='Name')"
   ]
  },
  {
   "cell_type": "code",
   "execution_count": 33,
   "metadata": {},
   "outputs": [],
   "source": [
    "packages_dependencies_sentry = packages_dependencies_sentry.sort_values('date').drop_duplicates(subset='target',keep = 'first')"
   ]
  },
  {
   "cell_type": "code",
   "execution_count": 28,
   "metadata": {},
   "outputs": [
    {
     "name": "stdout",
     "output_type": "stream",
     "text": [
      "2017-07-10\n"
     ]
    }
   ],
   "source": [
    "#[['package','version','date','target','constraint','Name','user_login','author_assoc','created_at']]\n",
    "import datetime\n",
    "date = datetime.date(year=2017,month=7,day=10)\n",
    "print(date)\n",
    "all_comments_name['created_at'] = pandas.to_datetime(all_comments_name['created_at'])\n",
    "all_comments_sentry = all_comments_name[all_comments_name['Name'].isin(['sentry'])]\n",
    "all_comments_sentry_depend = all_comments_name[all_comments_name['Name'].isin(packages_dependencies_sentry.target.unique())]"
   ]
  },
  {
   "cell_type": "code",
   "execution_count": 29,
   "metadata": {},
   "outputs": [
    {
     "data": {
      "text/plain": [
       "array(['time', 'chrono', 'hyper', 'backtrace', 'hyper-native-tls', 'log',\n",
       "       'url', 'tokio-core', 'serde_json', 'serde_derive', 'serde',\n",
       "       'hyper-tls', 'futures', 'error-chain'], dtype=object)"
      ]
     },
     "execution_count": 29,
     "metadata": {},
     "output_type": "execute_result"
    }
   ],
   "source": [
    "packages_dependencies_sentry.target.unique()"
   ]
  },
  {
   "cell_type": "code",
   "execution_count": 30,
   "metadata": {
    "scrolled": true
   },
   "outputs": [
    {
     "data": {
      "text/html": [
       "<div>\n",
       "<style scoped>\n",
       "    .dataframe tbody tr th:only-of-type {\n",
       "        vertical-align: middle;\n",
       "    }\n",
       "\n",
       "    .dataframe tbody tr th {\n",
       "        vertical-align: top;\n",
       "    }\n",
       "\n",
       "    .dataframe thead th {\n",
       "        text-align: right;\n",
       "    }\n",
       "</style>\n",
       "<table border=\"1\" class=\"dataframe\">\n",
       "  <thead>\n",
       "    <tr style=\"text-align: right;\">\n",
       "      <th></th>\n",
       "      <th>Name</th>\n",
       "      <th>user_login</th>\n",
       "      <th>author_assoc</th>\n",
       "      <th>created_at</th>\n",
       "      <th>type</th>\n",
       "    </tr>\n",
       "  </thead>\n",
       "  <tbody>\n",
       "    <tr>\n",
       "      <th>150771</th>\n",
       "      <td>sentry</td>\n",
       "      <td>bbigras</td>\n",
       "      <td>CONTRIBUTOR</td>\n",
       "      <td>2018-06-18 17:18:04</td>\n",
       "      <td>isu</td>\n",
       "    </tr>\n",
       "    <tr>\n",
       "      <th>150811</th>\n",
       "      <td>sentry</td>\n",
       "      <td>aagahi</td>\n",
       "      <td>CONTRIBUTOR</td>\n",
       "      <td>2017-10-25 04:59:02</td>\n",
       "      <td>isu</td>\n",
       "    </tr>\n",
       "    <tr>\n",
       "      <th>150821</th>\n",
       "      <td>sentry</td>\n",
       "      <td>bbigras</td>\n",
       "      <td>CONTRIBUTOR</td>\n",
       "      <td>2018-10-03 15:54:26</td>\n",
       "      <td>isu</td>\n",
       "    </tr>\n",
       "    <tr>\n",
       "      <th>150823</th>\n",
       "      <td>sentry</td>\n",
       "      <td>aagahi</td>\n",
       "      <td>CONTRIBUTOR</td>\n",
       "      <td>2017-09-25 10:30:01</td>\n",
       "      <td>isu</td>\n",
       "    </tr>\n",
       "    <tr>\n",
       "      <th>150824</th>\n",
       "      <td>sentry</td>\n",
       "      <td>yjh0502</td>\n",
       "      <td>CONTRIBUTOR</td>\n",
       "      <td>2017-10-11 07:45:54</td>\n",
       "      <td>isu</td>\n",
       "    </tr>\n",
       "  </tbody>\n",
       "</table>\n",
       "</div>"
      ],
      "text/plain": [
       "          Name user_login author_assoc          created_at type\n",
       "150771  sentry    bbigras  CONTRIBUTOR 2018-06-18 17:18:04  isu\n",
       "150811  sentry     aagahi  CONTRIBUTOR 2017-10-25 04:59:02  isu\n",
       "150821  sentry    bbigras  CONTRIBUTOR 2018-10-03 15:54:26  isu\n",
       "150823  sentry     aagahi  CONTRIBUTOR 2017-09-25 10:30:01  isu\n",
       "150824  sentry    yjh0502  CONTRIBUTOR 2017-10-11 07:45:54  isu"
      ]
     },
     "execution_count": 30,
     "metadata": {},
     "output_type": "execute_result"
    }
   ],
   "source": [
    "all_comments_sentry.head()"
   ]
  },
  {
   "cell_type": "code",
   "execution_count": 31,
   "metadata": {},
   "outputs": [],
   "source": [
    "contributors = all_comments_name[all_comments_name['Name'] == 'sentry'].user_login.unique()"
   ]
  },
  {
   "cell_type": "code",
   "execution_count": 32,
   "metadata": {},
   "outputs": [
    {
     "data": {
      "text/html": [
       "<div>\n",
       "<style scoped>\n",
       "    .dataframe tbody tr th:only-of-type {\n",
       "        vertical-align: middle;\n",
       "    }\n",
       "\n",
       "    .dataframe tbody tr th {\n",
       "        vertical-align: top;\n",
       "    }\n",
       "\n",
       "    .dataframe thead th {\n",
       "        text-align: right;\n",
       "    }\n",
       "</style>\n",
       "<table border=\"1\" class=\"dataframe\">\n",
       "  <thead>\n",
       "    <tr style=\"text-align: right;\">\n",
       "      <th></th>\n",
       "      <th>Name</th>\n",
       "      <th>user_login</th>\n",
       "      <th>author_assoc</th>\n",
       "      <th>created_at</th>\n",
       "      <th>type</th>\n",
       "    </tr>\n",
       "  </thead>\n",
       "  <tbody>\n",
       "    <tr>\n",
       "      <th>77037</th>\n",
       "      <td>error-chain</td>\n",
       "      <td>king6cong</td>\n",
       "      <td>CONTRIBUTOR</td>\n",
       "      <td>2017-06-09 04:03:49</td>\n",
       "      <td>pul</td>\n",
       "    </tr>\n",
       "  </tbody>\n",
       "</table>\n",
       "</div>"
      ],
      "text/plain": [
       "              Name user_login author_assoc          created_at type\n",
       "77037  error-chain  king6cong  CONTRIBUTOR 2017-06-09 04:03:49  pul"
      ]
     },
     "execution_count": 32,
     "metadata": {},
     "output_type": "execute_result"
    }
   ],
   "source": [
    "all_comments_sentry_depend[all_comments_sentry_depend['Name'] =='error-chain'][all_comments_sentry_depend['user_login'].isin(contributors)]"
   ]
  }
 ],
 "metadata": {
  "kernelspec": {
   "display_name": "Python 3",
   "language": "python",
   "name": "python3"
  },
  "language_info": {
   "codemirror_mode": {
    "name": "ipython",
    "version": 3
   },
   "file_extension": ".py",
   "mimetype": "text/x-python",
   "name": "python",
   "nbconvert_exporter": "python",
   "pygments_lexer": "ipython3",
   "version": "3.6.6"
  }
 },
 "nbformat": 4,
 "nbformat_minor": 2
}
