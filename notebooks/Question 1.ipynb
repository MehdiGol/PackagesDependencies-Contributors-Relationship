{
 "cells": [
  {
   "cell_type": "markdown",
   "metadata": {},
   "source": [
    "# Question 1"
   ]
  },
  {
   "cell_type": "markdown",
   "metadata": {},
   "source": [
    "Are contributors of comments (commit comments, issue comments, pull request comments) more likely to contribute to packages they depend on (or to packages that depend on them) than to other packages?"
   ]
  },
  {
   "cell_type": "markdown",
   "metadata": {},
   "source": [
    "*** I think to answer this question we need all comments of users who have contributed on a package... to this end, we need to scrap github to find all comments of a user. ( am I right? or we just consider the downloaded comments of packages)\n",
    "\n",
    "*** Which types of plot and analysis is helpful to find out more about this question?"
   ]
  },
  {
   "cell_type": "code",
   "execution_count": 30,
   "metadata": {},
   "outputs": [],
   "source": [
    "import pandas\n",
    "import matplotlib.pyplot as plt\n",
    "import seaborn\n",
    "import collections\n",
    "import itertools\n",
    "import numpy as np\n",
    "import warnings\n",
    "import subprocess\n",
    "import requests\n",
    "import lifelines\n",
    "\n",
    "\n",
    "import sys\n",
    "sys.path.append('..')\n",
    "\n",
    "from helper import load_data , load_repo ,read_comments , GIT_API\n",
    "warnings.filterwarnings('ignore')\n",
    "\n",
    "%matplotlib inline\n",
    "\n",
    "palet = seaborn.color_palette('hls', 8)[0:6]"
   ]
  },
  {
   "cell_type": "code",
   "execution_count": 70,
   "metadata": {},
   "outputs": [
    {
     "data": {
      "text/html": [
       "<div>\n",
       "<style scoped>\n",
       "    .dataframe tbody tr th:only-of-type {\n",
       "        vertical-align: middle;\n",
       "    }\n",
       "\n",
       "    .dataframe tbody tr th {\n",
       "        vertical-align: top;\n",
       "    }\n",
       "\n",
       "    .dataframe thead th {\n",
       "        text-align: right;\n",
       "    }\n",
       "</style>\n",
       "<table border=\"1\" class=\"dataframe\">\n",
       "  <thead>\n",
       "    <tr style=\"text-align: right;\">\n",
       "      <th></th>\n",
       "      <th>Name</th>\n",
       "      <th>user_login</th>\n",
       "      <th>author_assoc</th>\n",
       "      <th>created_at</th>\n",
       "      <th>type</th>\n",
       "    </tr>\n",
       "  </thead>\n",
       "  <tbody>\n",
       "    <tr>\n",
       "      <th>0</th>\n",
       "      <td>itertools</td>\n",
       "      <td>Antti</td>\n",
       "      <td>NONE</td>\n",
       "      <td>2017-09-05 10:03:23</td>\n",
       "      <td>cmt</td>\n",
       "    </tr>\n",
       "    <tr>\n",
       "      <th>1</th>\n",
       "      <td>itertools</td>\n",
       "      <td>bluss</td>\n",
       "      <td>OWNER</td>\n",
       "      <td>2017-09-05 21:42:56</td>\n",
       "      <td>cmt</td>\n",
       "    </tr>\n",
       "    <tr>\n",
       "      <th>2</th>\n",
       "      <td>itertools</td>\n",
       "      <td>DanielKeep</td>\n",
       "      <td>CONTRIBUTOR</td>\n",
       "      <td>2015-06-06 03:52:21</td>\n",
       "      <td>cmt</td>\n",
       "    </tr>\n",
       "    <tr>\n",
       "      <th>3</th>\n",
       "      <td>itertools</td>\n",
       "      <td>bluss</td>\n",
       "      <td>OWNER</td>\n",
       "      <td>2015-06-06 07:33:39</td>\n",
       "      <td>cmt</td>\n",
       "    </tr>\n",
       "    <tr>\n",
       "      <th>4</th>\n",
       "      <td>itertools</td>\n",
       "      <td>bluss</td>\n",
       "      <td>OWNER</td>\n",
       "      <td>2015-06-06 07:34:31</td>\n",
       "      <td>cmt</td>\n",
       "    </tr>\n",
       "  </tbody>\n",
       "</table>\n",
       "</div>"
      ],
      "text/plain": [
       "        Name  user_login author_assoc          created_at type\n",
       "0  itertools       Antti         NONE 2017-09-05 10:03:23  cmt\n",
       "1  itertools       bluss        OWNER 2017-09-05 21:42:56  cmt\n",
       "2  itertools  DanielKeep  CONTRIBUTOR 2015-06-06 03:52:21  cmt\n",
       "3  itertools       bluss        OWNER 2015-06-06 07:33:39  cmt\n",
       "4  itertools       bluss        OWNER 2015-06-06 07:34:31  cmt"
      ]
     },
     "execution_count": 70,
     "metadata": {},
     "output_type": "execute_result"
    }
   ],
   "source": [
    "all_comments = (\n",
    "    read_comments()\n",
    "    #[lambda x: x['author_assoc'] != 'NONE']\n",
    "    .assign(created_at = lambda x: pandas.to_datetime(x['created_at']))\n",
    ")\n",
    "all_comments.head()"
   ]
  },
  {
   "cell_type": "code",
   "execution_count": 71,
   "metadata": {},
   "outputs": [
    {
     "data": {
      "text/html": [
       "<div>\n",
       "<style scoped>\n",
       "    .dataframe tbody tr th:only-of-type {\n",
       "        vertical-align: middle;\n",
       "    }\n",
       "\n",
       "    .dataframe tbody tr th {\n",
       "        vertical-align: top;\n",
       "    }\n",
       "\n",
       "    .dataframe thead th {\n",
       "        text-align: right;\n",
       "    }\n",
       "</style>\n",
       "<table border=\"1\" class=\"dataframe\">\n",
       "  <thead>\n",
       "    <tr style=\"text-align: right;\">\n",
       "      <th></th>\n",
       "      <th>package</th>\n",
       "      <th>target</th>\n",
       "    </tr>\n",
       "  </thead>\n",
       "  <tbody>\n",
       "    <tr>\n",
       "      <th>0</th>\n",
       "      <td>BrewStillery</td>\n",
       "      <td>gtk</td>\n",
       "    </tr>\n",
       "    <tr>\n",
       "      <th>1</th>\n",
       "      <td>BrewStillery</td>\n",
       "      <td>regex</td>\n",
       "    </tr>\n",
       "    <tr>\n",
       "      <th>2</th>\n",
       "      <td>BrewStillery</td>\n",
       "      <td>gio</td>\n",
       "    </tr>\n",
       "    <tr>\n",
       "      <th>3</th>\n",
       "      <td>BrewStillery</td>\n",
       "      <td>gdk</td>\n",
       "    </tr>\n",
       "    <tr>\n",
       "      <th>4</th>\n",
       "      <td>ConExpression</td>\n",
       "      <td>rand</td>\n",
       "    </tr>\n",
       "  </tbody>\n",
       "</table>\n",
       "</div>"
      ],
      "text/plain": [
       "         package target\n",
       "0   BrewStillery    gtk\n",
       "1   BrewStillery  regex\n",
       "2   BrewStillery    gio\n",
       "3   BrewStillery    gdk\n",
       "4  ConExpression   rand"
      ]
     },
     "execution_count": 71,
     "metadata": {},
     "output_type": "execute_result"
    }
   ],
   "source": [
    "df_pkgdpd_relation = (\n",
    "    pandas.read_csv('../data/package_dependencies_time.csv.gz',compression='gzip',\n",
    "                    parse_dates=['fst_release','lst_release','first_time','last_time'])\n",
    "    [['package','target']]\n",
    ")\n",
    "df_pkgdpd_relation.head()"
   ]
  },
  {
   "cell_type": "markdown",
   "metadata": {},
   "source": [
    "#### Group comments by user and package"
   ]
  },
  {
   "cell_type": "code",
   "execution_count": 72,
   "metadata": {},
   "outputs": [
    {
     "data": {
      "text/plain": [
       "(11777, 4)"
      ]
     },
     "execution_count": 72,
     "metadata": {},
     "output_type": "execute_result"
    }
   ],
   "source": [
    "new_df = (\n",
    "    all_comments\n",
    "    [['Name','user_login','author_assoc']]\n",
    "    .assign(count = 1)\n",
    "    .groupby(['user_login','Name','author_assoc'])\n",
    "    .sum()\n",
    "    .reset_index()\n",
    ")\n",
    "new_df.shape"
   ]
  },
  {
   "cell_type": "markdown",
   "metadata": {},
   "source": [
    "#### Number of dependent packages a user commented on"
   ]
  },
  {
   "cell_type": "markdown",
   "metadata": {},
   "source": [
    "*** does this method work properly? am I correct in my approach?"
   ]
  },
  {
   "cell_type": "code",
   "execution_count": 73,
   "metadata": {},
   "outputs": [],
   "source": [
    "#this function checks all packages a user commented on\n",
    "def check_dep(row):\n",
    "    pkgs = new_df[lambda x: x['user_login'] == row['user_login']]['Name']\n",
    "    parray = pkgs[pkgs.apply(lambda x: x != row['Name'])].values\n",
    "    relcount = 0\n",
    "    for item in parray:\n",
    "        if (item in df_pkgdpd_relation[lambda x: x['package'] == row['Name']]['target'].values \n",
    "            or row['Name'] in df_pkgdpd_relation[lambda x: x['package'] == item]['target'].values):\n",
    "            relcount+=1\n",
    "    return relcount"
   ]
  },
  {
   "cell_type": "code",
   "execution_count": 74,
   "metadata": {},
   "outputs": [
    {
     "data": {
      "text/html": [
       "<div>\n",
       "<style scoped>\n",
       "    .dataframe tbody tr th:only-of-type {\n",
       "        vertical-align: middle;\n",
       "    }\n",
       "\n",
       "    .dataframe tbody tr th {\n",
       "        vertical-align: top;\n",
       "    }\n",
       "\n",
       "    .dataframe thead th {\n",
       "        text-align: right;\n",
       "    }\n",
       "</style>\n",
       "<table border=\"1\" class=\"dataframe\">\n",
       "  <thead>\n",
       "    <tr style=\"text-align: right;\">\n",
       "      <th></th>\n",
       "      <th>user_login</th>\n",
       "      <th>Name</th>\n",
       "      <th>author_assoc</th>\n",
       "      <th>count</th>\n",
       "      <th>rela_status</th>\n",
       "    </tr>\n",
       "  </thead>\n",
       "  <tbody>\n",
       "    <tr>\n",
       "      <th>0</th>\n",
       "      <td>007pig</td>\n",
       "      <td>mio</td>\n",
       "      <td>NONE</td>\n",
       "      <td>1</td>\n",
       "      <td>0</td>\n",
       "    </tr>\n",
       "    <tr>\n",
       "      <th>1</th>\n",
       "      <td>00imvj00</td>\n",
       "      <td>gotham</td>\n",
       "      <td>NONE</td>\n",
       "      <td>1</td>\n",
       "      <td>0</td>\n",
       "    </tr>\n",
       "    <tr>\n",
       "      <th>2</th>\n",
       "      <td>00shiv</td>\n",
       "      <td>image</td>\n",
       "      <td>NONE</td>\n",
       "      <td>3</td>\n",
       "      <td>0</td>\n",
       "    </tr>\n",
       "    <tr>\n",
       "      <th>3</th>\n",
       "      <td>0610919566</td>\n",
       "      <td>hyper</td>\n",
       "      <td>NONE</td>\n",
       "      <td>2</td>\n",
       "      <td>0</td>\n",
       "    </tr>\n",
       "    <tr>\n",
       "      <th>4</th>\n",
       "      <td>0X1A</td>\n",
       "      <td>cargo</td>\n",
       "      <td>NONE</td>\n",
       "      <td>2</td>\n",
       "      <td>1</td>\n",
       "    </tr>\n",
       "  </tbody>\n",
       "</table>\n",
       "</div>"
      ],
      "text/plain": [
       "   user_login    Name author_assoc  count  rela_status\n",
       "0      007pig     mio         NONE      1            0\n",
       "1    00imvj00  gotham         NONE      1            0\n",
       "2      00shiv   image         NONE      3            0\n",
       "3  0610919566   hyper         NONE      2            0\n",
       "4        0X1A   cargo         NONE      2            1"
      ]
     },
     "execution_count": 74,
     "metadata": {},
     "output_type": "execute_result"
    }
   ],
   "source": [
    "# test dataset\n",
    "df_tt = new_df[lambda x: x['user_login'] == '0xbrt']\n",
    "\n",
    "new_df['rela_status'] = new_df.apply(lambda x: check_dep(x),axis=1)\n",
    "#df_tt['rela_status'] = df_tt.apply(lambda x: check_dep(x),axis=1)\n",
    "\n",
    "new_df.head()"
   ]
  },
  {
   "cell_type": "code",
   "execution_count": 81,
   "metadata": {},
   "outputs": [
    {
     "data": {
      "text/plain": [
       "[Text(0, 0.5, 'Comment on packages'), Text(0.5, 0, 'Author association')]"
      ]
     },
     "execution_count": 81,
     "metadata": {},
     "output_type": "execute_result"
    },
    {
     "data": {
      "image/png": "[encoded data removed]",
      "text/plain": [
       "<Figure size 432x288 with 1 Axes>"
      ]
     },
     "metadata": {
      "needs_background": "light"
     },
     "output_type": "display_data"
    }
   ],
   "source": [
    "plt.rcParams[\"figure.figsize\"] = (6,4)\n",
    "fig, ax = plt.subplots()\n",
    "\n",
    "seaborn.boxplot(\n",
    "    x='author_assoc', \n",
    "    y='rela_status', \n",
    "    data=(\n",
    "        new_df[['author_assoc','rela_status']]\n",
    "    ),\n",
    "    palette=palet,\n",
    "    ax=ax,\n",
    "    fliersize=1,\n",
    "    showmeans=True,\n",
    "    showfliers=False,\n",
    "    meanprops=dict(marker='D', markeredgecolor='black', markerfacecolor='white')\n",
    ")\n",
    "\n",
    "ax.set(\n",
    "    ylabel='Comment on packages',\n",
    "    xlabel='Author association' \n",
    ")"
   ]
  },
  {
   "cell_type": "code",
   "execution_count": 86,
   "metadata": {},
   "outputs": [],
   "source": [
    "df_tmp2 = (\n",
    "    all_comments\n",
    "    .drop_duplicates(subset=['Name','user_login','author_assoc'])\n",
    "    .dropna()\n",
    ")\n",
    "df_tmp2['rela_status'] = df_tmp2.apply(lambda x: check_dep(x),axis=1)"
   ]
  },
  {
   "cell_type": "code",
   "execution_count": 87,
   "metadata": {
    "scrolled": true
   },
   "outputs": [],
   "source": [
    "df_plot = (\n",
    "    df_tmp2[['created_at','author_assoc','rela_status']]\n",
    "    .groupby([pandas.Grouper(key='created_at',freq='1M'),'author_assoc'])\n",
    "    .describe().reset_index()\n",
    ")\n",
    "df_plot.columns = ['created_at','author_assoc','count','mean','std','min','25%','median','75%','max']"
   ]
  },
  {
   "cell_type": "markdown",
   "metadata": {},
   "source": [
    "*** this plot is so ugly and I think it's not useful :) how can I change it to a useful one?"
   ]
  },
  {
   "cell_type": "code",
   "execution_count": 88,
   "metadata": {},
   "outputs": [
    {
     "data": {
      "text/plain": [
       "<matplotlib.legend.Legend at 0x1cb1819ecf8>"
      ]
     },
     "execution_count": 88,
     "metadata": {},
     "output_type": "execute_result"
    },
    {
     "data": {
      "image/png": "[encoded data removed]",
      "text/plain": [
       "<Figure size 576x216 with 1 Axes>"
      ]
     },
     "metadata": {
      "needs_background": "light"
     },
     "output_type": "display_data"
    }
   ],
   "source": [
    "plt.rcParams[\"figure.figsize\"] = (8,3)\n",
    "fig, ax = plt.subplots()\n",
    "for item in df_plot.author_assoc.unique():\n",
    "    ax.plot(df_plot[lambda x: x['author_assoc'] == item]['created_at'],df_plot[lambda x: x['author_assoc'] == item]['75%'])\n",
    "    \n",
    "ax.legend(df_plot.author_assoc.unique())"
   ]
  }
 ],
 "metadata": {
  "kernelspec": {
   "display_name": "Python 3",
   "language": "python",
   "name": "python3"
  },
  "language_info": {
   "codemirror_mode": {
    "name": "ipython",
    "version": 3
   },
   "file_extension": ".py",
   "mimetype": "text/x-python",
   "name": "python",
   "nbconvert_exporter": "python",
   "pygments_lexer": "ipython3",
   "version": "3.6.6"
  }
 },
 "nbformat": 4,
 "nbformat_minor": 2
}
