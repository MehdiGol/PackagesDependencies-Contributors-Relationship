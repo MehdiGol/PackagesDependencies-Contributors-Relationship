{
 "cells": [
  {
   "cell_type": "markdown",
   "metadata": {},
   "source": [
    "# Question 1"
   ]
  },
  {
   "cell_type": "markdown",
   "metadata": {},
   "source": [
    "Are contributors of comments (commit comments, issue comments, pull request comments) more likely to contribute to packages they depend on (or to packages that depend on them) than to other packages?"
   ]
  },
  {
   "cell_type": "markdown",
   "metadata": {},
   "source": [
    "*** I think to answer this question we need all comments of users who have contributed on a package... to this end, we need to scrap github to find all comments of a user. ( am I right? or we just consider the downloaded comments of packages)"
   ]
  },
  {
   "cell_type": "code",
   "execution_count": 1,
   "metadata": {},
   "outputs": [],
   "source": [
    "import pandas\n",
    "import matplotlib.pyplot as plt\n",
    "import seaborn\n",
    "import collections\n",
    "import itertools\n",
    "import numpy as np\n",
    "import warnings\n",
    "import subprocess\n",
    "import requests\n",
    "import lifelines\n",
    "\n",
    "\n",
    "import sys\n",
    "sys.path.append('..')\n",
    "\n",
    "from helper import load_data , load_repo ,read_comments , GIT_API\n",
    "warnings.filterwarnings('ignore')\n",
    "\n",
    "%matplotlib inline\n",
    "\n",
    "palet = seaborn.color_palette('hls', 8)[0:6]"
   ]
  },
  {
   "cell_type": "code",
   "execution_count": 2,
   "metadata": {},
   "outputs": [],
   "source": [
    "all_comments = read_comments();\n",
    "#all_comments = all_comments[lambda x: x['author_assoc'] != 'NONE'][lambda x: x['author_assoc'] != 'MEMBER']\n",
    "all_comments['created_at'] = pandas.to_datetime(all_comments['created_at'])"
   ]
  },
  {
   "cell_type": "code",
   "execution_count": 3,
   "metadata": {},
   "outputs": [],
   "source": [
    "df_pckdpnd = pandas.read_csv('../data/package_dependencies_time.csv.gz',compression='gzip',parse_dates=['fst_release','lst_release','first_time','last_time'])\n",
    "df_pckdpnd = df_pckdpnd.drop(df_pckdpnd.columns[0],axis=1)\n",
    "df_pckdpnd.shape\n",
    "\n",
    "df_pkgdpd_relation = df_pckdpnd[['package','target']]"
   ]
  },
  {
   "cell_type": "markdown",
   "metadata": {},
   "source": [
    "#### Group comments by user and package"
   ]
  },
  {
   "cell_type": "code",
   "execution_count": 4,
   "metadata": {},
   "outputs": [],
   "source": [
    "df_tmp = (\n",
    "    all_comments\n",
    "    .assign(count = 1)\n",
    "    .groupby(['user_login','Name','author_assoc'])\n",
    "    .sum()\n",
    ")"
   ]
  },
  {
   "cell_type": "code",
   "execution_count": 129,
   "metadata": {
    "scrolled": true
   },
   "outputs": [
    {
     "data": {
      "text/html": [
       "<div>\n",
       "<style scoped>\n",
       "    .dataframe tbody tr th:only-of-type {\n",
       "        vertical-align: middle;\n",
       "    }\n",
       "\n",
       "    .dataframe tbody tr th {\n",
       "        vertical-align: top;\n",
       "    }\n",
       "\n",
       "    .dataframe thead th {\n",
       "        text-align: right;\n",
       "    }\n",
       "</style>\n",
       "<table border=\"1\" class=\"dataframe\">\n",
       "  <thead>\n",
       "    <tr style=\"text-align: right;\">\n",
       "      <th></th>\n",
       "      <th>user_login</th>\n",
       "      <th>Name</th>\n",
       "      <th>author_assoc</th>\n",
       "      <th>count</th>\n",
       "    </tr>\n",
       "  </thead>\n",
       "  <tbody>\n",
       "    <tr>\n",
       "      <th>0</th>\n",
       "      <td>007pig</td>\n",
       "      <td>mio</td>\n",
       "      <td>NONE</td>\n",
       "      <td>1</td>\n",
       "    </tr>\n",
       "    <tr>\n",
       "      <th>1</th>\n",
       "      <td>00imvj00</td>\n",
       "      <td>gotham</td>\n",
       "      <td>NONE</td>\n",
       "      <td>1</td>\n",
       "    </tr>\n",
       "    <tr>\n",
       "      <th>2</th>\n",
       "      <td>00shiv</td>\n",
       "      <td>image</td>\n",
       "      <td>NONE</td>\n",
       "      <td>3</td>\n",
       "    </tr>\n",
       "    <tr>\n",
       "      <th>3</th>\n",
       "      <td>0610919566</td>\n",
       "      <td>hyper</td>\n",
       "      <td>NONE</td>\n",
       "      <td>2</td>\n",
       "    </tr>\n",
       "    <tr>\n",
       "      <th>4</th>\n",
       "      <td>0X1A</td>\n",
       "      <td>cargo</td>\n",
       "      <td>NONE</td>\n",
       "      <td>2</td>\n",
       "    </tr>\n",
       "  </tbody>\n",
       "</table>\n",
       "</div>"
      ],
      "text/plain": [
       "   user_login    Name author_assoc  count\n",
       "0      007pig     mio         NONE      1\n",
       "1    00imvj00  gotham         NONE      1\n",
       "2      00shiv   image         NONE      3\n",
       "3  0610919566   hyper         NONE      2\n",
       "4        0X1A   cargo         NONE      2"
      ]
     },
     "execution_count": 129,
     "metadata": {},
     "output_type": "execute_result"
    }
   ],
   "source": [
    "new_df = df_tmp.reset_index()\n",
    "new_df.head(5)"
   ]
  },
  {
   "cell_type": "markdown",
   "metadata": {},
   "source": [
    "#### Number of dependent packages a user commented on"
   ]
  },
  {
   "cell_type": "code",
   "execution_count": 128,
   "metadata": {},
   "outputs": [
    {
     "data": {
      "text/html": [
       "<div>\n",
       "<style scoped>\n",
       "    .dataframe tbody tr th:only-of-type {\n",
       "        vertical-align: middle;\n",
       "    }\n",
       "\n",
       "    .dataframe tbody tr th {\n",
       "        vertical-align: top;\n",
       "    }\n",
       "\n",
       "    .dataframe thead th {\n",
       "        text-align: right;\n",
       "    }\n",
       "</style>\n",
       "<table border=\"1\" class=\"dataframe\">\n",
       "  <thead>\n",
       "    <tr style=\"text-align: right;\">\n",
       "      <th></th>\n",
       "      <th>user_login</th>\n",
       "      <th>Name</th>\n",
       "      <th>author_assoc</th>\n",
       "      <th>count</th>\n",
       "      <th>rela_status</th>\n",
       "    </tr>\n",
       "  </thead>\n",
       "  <tbody>\n",
       "    <tr>\n",
       "      <th>0</th>\n",
       "      <td>007pig</td>\n",
       "      <td>mio</td>\n",
       "      <td>NONE</td>\n",
       "      <td>1</td>\n",
       "      <td>0</td>\n",
       "    </tr>\n",
       "    <tr>\n",
       "      <th>1</th>\n",
       "      <td>00imvj00</td>\n",
       "      <td>gotham</td>\n",
       "      <td>NONE</td>\n",
       "      <td>1</td>\n",
       "      <td>0</td>\n",
       "    </tr>\n",
       "    <tr>\n",
       "      <th>2</th>\n",
       "      <td>00shiv</td>\n",
       "      <td>image</td>\n",
       "      <td>NONE</td>\n",
       "      <td>3</td>\n",
       "      <td>0</td>\n",
       "    </tr>\n",
       "    <tr>\n",
       "      <th>3</th>\n",
       "      <td>0610919566</td>\n",
       "      <td>hyper</td>\n",
       "      <td>NONE</td>\n",
       "      <td>2</td>\n",
       "      <td>0</td>\n",
       "    </tr>\n",
       "    <tr>\n",
       "      <th>4</th>\n",
       "      <td>0X1A</td>\n",
       "      <td>cargo</td>\n",
       "      <td>NONE</td>\n",
       "      <td>2</td>\n",
       "      <td>1</td>\n",
       "    </tr>\n",
       "  </tbody>\n",
       "</table>\n",
       "</div>"
      ],
      "text/plain": [
       "   user_login    Name author_assoc  count  rela_status\n",
       "0      007pig     mio         NONE      1            0\n",
       "1    00imvj00  gotham         NONE      1            0\n",
       "2      00shiv   image         NONE      3            0\n",
       "3  0610919566   hyper         NONE      2            0\n",
       "4        0X1A   cargo         NONE      2            1"
      ]
     },
     "execution_count": 128,
     "metadata": {},
     "output_type": "execute_result"
    }
   ],
   "source": [
    "# test dataset\n",
    "df_tt = new_df[lambda x: x['user_login'] == '0xbrt']\n",
    "\n",
    "#this function checks all packages a user commented on\n",
    "def check_dep(row):\n",
    "    pkgs = df_tmp.reset_index()[lambda x: x['user_login'] == row['user_login']]['Name']\n",
    "    parray = pkgs[pkgs.apply(lambda x: x != row['Name'])].values\n",
    "    relcount = 0\n",
    "    for item in parray:\n",
    "        if (item in df_pkgdpd_relation[lambda x: x['package'] == row['Name']]['target'].values \n",
    "            or row['Name'] in df_pkgdpd_relation[lambda x: x['package'] == item]['target'].values):\n",
    "            relcount+=1\n",
    "    return relcount\n",
    "        \n",
    "new_df['rela_status'] = new_df.apply(lambda x: check_dep(x),axis=1)\n",
    "#df_tt['rela_status'] = df_tt.apply(lambda x: check_dep(x),axis=1)\n",
    "new_df.head()\n",
    "#check_dep(new_df.iloc[6])"
   ]
  },
  {
   "cell_type": "code",
   "execution_count": 29,
   "metadata": {},
   "outputs": [
    {
     "data": {
      "text/plain": [
       "[Text(0, 0.5, 'Comment on packages')]"
      ]
     },
     "execution_count": 29,
     "metadata": {},
     "output_type": "execute_result"
    },
    {
     "data": {
      "image/png": "[encoded data removed]",
      "text/plain": [
       "<Figure size 432x288 with 1 Axes>"
      ]
     },
     "metadata": {
      "needs_background": "light"
     },
     "output_type": "display_data"
    }
   ],
   "source": [
    "plt.rcParams[\"figure.figsize\"] = (6,4)\n",
    "fig, ax = plt.subplots()\n",
    "\n",
    "seaborn.boxplot(\n",
    "    x='author_assoc', \n",
    "    y='rela_status', \n",
    "    data=(\n",
    "        new_df[['author_assoc','rela_status']]\n",
    "    ),\n",
    "    palette=palet,\n",
    "    ax=ax,\n",
    "    fliersize=1,\n",
    "    showmeans=True,\n",
    "    showfliers=False,\n",
    "    meanprops=dict(marker='D', markeredgecolor='black', markerfacecolor='white')\n",
    ")\n",
    "\n",
    "ax.set(\n",
    "    ylabel='Comment on packages' \n",
    ")"
   ]
  },
  {
   "cell_type": "code",
   "execution_count": 14,
   "metadata": {},
   "outputs": [],
   "source": [
    "df_tmp2 = (\n",
    "    all_comments\n",
    "    .drop_duplicates(subset=['user_login','Name','author_assoc'])\n",
    ")"
   ]
  },
  {
   "cell_type": "code",
   "execution_count": 16,
   "metadata": {},
   "outputs": [],
   "source": [
    "df_tmp2['rela_status'] = df_tmp2.apply(lambda x: check_dep(x),axis=1)"
   ]
  },
  {
   "cell_type": "code",
   "execution_count": 121,
   "metadata": {
    "scrolled": true
   },
   "outputs": [],
   "source": [
    "df_plot = (\n",
    "    df_tmp2[['created_at','author_assoc','rela_status']]\n",
    "    .groupby([pandas.Grouper(key='created_at',freq='1M'),'author_assoc'])\n",
    "    .describe().reset_index()\n",
    ")\n",
    "df_plot.columns = ['created_at','author_assoc','count','mean','std','min','25%','median','75%','max']"
   ]
  },
  {
   "cell_type": "code",
   "execution_count": 127,
   "metadata": {},
   "outputs": [
    {
     "data": {
      "text/plain": [
       "<matplotlib.legend.Legend at 0x21cd6f033c8>"
      ]
     },
     "execution_count": 127,
     "metadata": {},
     "output_type": "execute_result"
    },
    {
     "data": {
      "image/png": "[encoded data removed]",
      "text/plain": [
       "<Figure size 576x216 with 1 Axes>"
      ]
     },
     "metadata": {
      "needs_background": "light"
     },
     "output_type": "display_data"
    }
   ],
   "source": [
    "plt.rcParams[\"figure.figsize\"] = (8,3)\n",
    "fig, ax = plt.subplots()\n",
    "for item in df_plot.author_assoc.unique():\n",
    "    ax.plot(df_plot[lambda x: x['author_assoc'] == item]['created_at'],df_plot[lambda x: x['author_assoc'] == item]['75%'])\n",
    "    \n",
    "ax.legend(df_plot.author_assoc.unique())"
   ]
  },
  {
   "cell_type": "code",
   "execution_count": null,
   "metadata": {},
   "outputs": [],
   "source": []
  }
 ],
 "metadata": {
  "kernelspec": {
   "display_name": "Python 3",
   "language": "python",
   "name": "python3"
  },
  "language_info": {
   "codemirror_mode": {
    "name": "ipython",
    "version": 3
   },
   "file_extension": ".py",
   "mimetype": "text/x-python",
   "name": "python",
   "nbconvert_exporter": "python",
   "pygments_lexer": "ipython3",
   "version": "3.6.6"
  }
 },
 "nbformat": 4,
 "nbformat_minor": 2
}
